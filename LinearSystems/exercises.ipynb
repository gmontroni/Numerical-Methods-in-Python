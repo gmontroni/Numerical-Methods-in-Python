{
 "cells": [
  {
   "cell_type": "markdown",
   "id": "755e7964",
   "metadata": {},
   "source": [
    "# <font color='blue'>MAI5002 - Fundamentos de Matemática Aplicada</font>\n",
    "\n",
    "## <font color='blue'>Sistemas Lineares - Exercícios</font>\n",
    "\n",
    "### Material produzido por Luis Gustavo Nonato\n",
    "---\n",
    "ICMC-USP"
   ]
  },
  {
   "cell_type": "code",
   "execution_count": 3,
   "id": "182bc6c4",
   "metadata": {},
   "outputs": [],
   "source": [
    "import numpy as np\n",
    "import scipy.linalg as sl"
   ]
  },
  {
   "cell_type": "markdown",
   "id": "1421c1c0",
   "metadata": {},
   "source": [
    "### Exercício 1)\n",
    "\n",
    "Escreva uma função em Python que receba uma matriz triangular inferior $\\mathbf{L}$ e um vetor $\\mathbf{b}$ e resolva o sistema $\\mathbf{L}\\mathbf{x}=\\mathbf{b}$ por substituição direta. Compare o resultado de sua função com o obtido pelo método <font color='blue'> solve_triangular </font> do <font color='blue'> scipy </font>."
   ]
  },
  {
   "cell_type": "code",
   "execution_count": 4,
   "id": "47b1defd",
   "metadata": {},
   "outputs": [],
   "source": [
    "# Solucao\n",
    "\n",
    "def substituicao_direta(L,b):\n",
    "    x = np.zeros((b.shape[0],1))\n",
    "    for i in range(b.shape[0]):\n",
    "        x[i] = (b[i] - np.dot(L[i,:i],x[:i]))/L[i,i]\n",
    "        \n",
    "    return(x)"
   ]
  },
  {
   "cell_type": "code",
   "execution_count": 5,
   "id": "2d4d815d",
   "metadata": {
    "scrolled": true
   },
   "outputs": [
    {
     "name": "stdout",
     "output_type": "stream",
     "text": [
      "[[ 0.86  0.    0.    0.    0.    0.    0.    0.    0.    0.  ]\n",
      " [-0.66  0.89  0.    0.    0.    0.    0.    0.    0.    0.  ]\n",
      " [ 0.92 -0.43  0.54  0.    0.    0.    0.    0.    0.    0.  ]\n",
      " [-0.83 -0.16 -0.17 -0.76  0.    0.    0.    0.    0.    0.  ]\n",
      " [ 0.07  0.86  0.25 -0.62  0.65  0.    0.    0.    0.    0.  ]\n",
      " [-0.46  0.85  0.41 -0.09 -0.08 -0.56  0.    0.    0.    0.  ]\n",
      " [-0.56  0.25 -0.06 -0.47 -0.66  0.66  0.42  0.    0.    0.  ]\n",
      " [ 0.7   0.73 -0.71 -0.11  0.15  0.59  0.35  0.3   0.    0.  ]\n",
      " [-0.7  -0.64 -0.18 -0.8  -0.46 -0.8   0.27 -0.3   0.4   0.  ]\n",
      " [-0.08 -0.84  0.78 -0.36 -0.19  0.32  0.81  0.67 -0.38 -0.09]]\n",
      "\n",
      "\n",
      "[[-0.11 -0.19 -0.28 -0.25  0.92  0.15  0.9   1.   -0.79 -0.78]]\n"
     ]
    }
   ],
   "source": [
    "# construindo uma matriz triangular inferior\n",
    "n = 10\n",
    "T = np.tril(np.random.uniform(-1,1,size=(n,n))) #np.tril cria uma matriz triangular inferior\n",
    "\n",
    "# construindo um vetor b\n",
    "b = np.random.uniform(-1,1,size=(n,1))  #nx1\n",
    "\n",
    "np.set_printoptions(precision=2)\n",
    "print(T)\n",
    "print('\\n')\n",
    "print(b.T)"
   ]
  },
  {
   "cell_type": "code",
   "execution_count": null,
   "id": "6a8b7aac",
   "metadata": {},
   "outputs": [],
   "source": [
    "# resolvendo o sistema e comparando com solve_triangular\n",
    "\n",
    "x_meu = substituicao_direta(T,b)\n",
    "\n",
    "#lower = True (Matriz triangular inferior) #unit_diagonal = False (diagonal de 1's falso)\n",
    "x_scipy = sl.solve_triangular(T,b,lower=True,unit_diagonal=False,check_finite=False)\n",
    "\n",
    "error = x_meu - x_scipy\n",
    "\n",
    "print(np.max(error))\n",
    "print('Mesma Solucao? ',np.allclose(error,np.zeros((n,n))))"
   ]
  },
  {
   "cell_type": "markdown",
   "id": "bc319f47",
   "metadata": {},
   "source": [
    "### Exercício 2) \n",
    "Repita o exercício anterior, porém a função deve receber um matriz triangular superior e resolver o sistema por retrosubstituição."
   ]
  },
  {
   "cell_type": "code",
   "execution_count": 6,
   "id": "16f87d3c",
   "metadata": {},
   "outputs": [],
   "source": [
    "# Solucao\n",
    "\n",
    "def retrosubstituicao(U,b):\n",
    "    x = np.zeros((b.shape[0],1))\n",
    "    for i in range(b.shape[0]-1,-1,-1):\n",
    "        x[i] = (b[i] - np.dot(U[i,i+1:],x[i+1:]))/U[i,i]\n",
    "        \n",
    "    return(x)\n"
   ]
  },
  {
   "cell_type": "code",
   "execution_count": 7,
   "id": "463b4f03",
   "metadata": {},
   "outputs": [
    {
     "name": "stdout",
     "output_type": "stream",
     "text": [
      "[[ 0.6   0.82 -0.48 -0.31 -0.52 -0.4  -0.53 -0.32  0.61 -0.19]\n",
      " [ 0.   -0.61 -0.94  0.36  0.02 -0.12  0.68  0.28 -0.95  0.93]\n",
      " [ 0.    0.   -0.69  0.95 -0.17  0.86  0.73  0.14  0.08  0.13]\n",
      " [ 0.    0.    0.   -0.41  0.75 -0.52  0.53 -0.36  0.34  0.97]\n",
      " [ 0.    0.    0.    0.   -0.56 -0.81 -0.57  0.4   0.74  0.24]\n",
      " [ 0.    0.    0.    0.    0.    0.07  0.48 -0.55 -0.39 -0.22]\n",
      " [ 0.    0.    0.    0.    0.    0.    0.57 -0.77  0.24  0.42]\n",
      " [ 0.    0.    0.    0.    0.    0.    0.   -0.14  0.7  -0.52]\n",
      " [ 0.    0.    0.    0.    0.    0.    0.    0.   -0.42  0.08]\n",
      " [ 0.    0.    0.    0.    0.    0.    0.    0.    0.    0.01]]\n",
      "\n",
      "\n",
      "[[ 0.04 -0.58  0.86  0.89 -0.91  0.85 -0.75  0.78  0.09  0.22]]\n"
     ]
    }
   ],
   "source": [
    "# construindo uma matriz triangular superior\n",
    "n = 10\n",
    "T = np.triu(np.random.uniform(-1,1,size=(n,n)))  #np.tril cria uma matriz triangular superior\n",
    "\n",
    "# construindo um vetor b\n",
    "b = np.random.uniform(-1,1,size=(n,1))\n",
    "\n",
    "np.set_printoptions(precision=2)\n",
    "print(T)\n",
    "print('\\n')\n",
    "print(b.T)"
   ]
  },
  {
   "cell_type": "code",
   "execution_count": 8,
   "id": "4c96ad7e",
   "metadata": {},
   "outputs": [
    {
     "name": "stdout",
     "output_type": "stream",
     "text": [
      "9.094947017729282e-13\n",
      "Mesma Solucao?  True\n"
     ]
    }
   ],
   "source": [
    "# resolvendo o sistema e comparando com solve_triangular\n",
    "\n",
    "x_meu = retrosubstituicao(T,b)\n",
    "\n",
    "#lower = False (Matriz triangular Superior) #unit_diagonal = False (diagonal de 1's falso)\n",
    "x_scipy = sl.solve_triangular(T,b,lower=False,unit_diagonal=False,check_finite=False)\n",
    "\n",
    "error = x_meu - x_scipy\n",
    "\n",
    "print(np.max(error))\n",
    "print('Mesma Solucao? ',np.allclose(error,np.zeros((n,n))))"
   ]
  },
  {
   "cell_type": "markdown",
   "id": "2b7b532a",
   "metadata": {},
   "source": [
    "### Exercício 3)\n",
    "Implemente o método de Gauss-Seidel como descrito em aula e verifique a corretude de seu método."
   ]
  },
  {
   "cell_type": "code",
   "execution_count": 9,
   "id": "0281a229",
   "metadata": {},
   "outputs": [],
   "source": [
    "# Solução\n",
    "def Gauss_Seidel(A,b):\n",
    "    E = np.tril(A) #E é uma matriz triangular inferior gerada de A.\n",
    "    E = np.linalg.inv(E) # calculando E^{-1}\n",
    "    x = np.ones((A.shape[0],1))     #chute inicial\n",
    "    r = b-np.dot(A,x)               #residuo inicial\n",
    "    tol = 1e-10                     #tolerância\n",
    "    maxiter = 1000                  #numero max de iterações\n",
    "    i=0\n",
    "    while ((np.max(np.abs(r))>tol) and (i < maxiter)):\n",
    "        x = x + np.dot(E,r)\n",
    "        r = b-np.dot(A,x)\n",
    "        i = i+1\n",
    "        \n",
    "    if i < maxiter:\n",
    "        print('Convergencia em ',i,' iteracoes')\n",
    "        return(x)\n",
    "    else:\n",
    "        print('Nao convergiu')\n",
    "        return(None)\n",
    "    "
   ]
  },
  {
   "cell_type": "code",
   "execution_count": 10,
   "id": "e4b5c1b8",
   "metadata": {},
   "outputs": [
    {
     "name": "stdout",
     "output_type": "stream",
     "text": [
      "Convergencia em  14  iteracoes\n",
      "Solucao está correta?  True\n"
     ]
    }
   ],
   "source": [
    "# Construindo uma matrix diagonal dominante\n",
    "\n",
    "n=10\n",
    "eps = 1.0e-5\n",
    "A = np.random.uniform(-1,1,size=(n,n))\n",
    "d = np.sum(np.abs(A),axis=1)+eps\n",
    "np.fill_diagonal(A,d)\n",
    "\n",
    "# Construindo vetor b\n",
    "\n",
    "b = np.random.uniform(-1,1,size=(n,1))\n",
    "\n",
    "x = Gauss_Seidel(A,b)\n",
    "\n",
    "# verificando a corretude da solução\n",
    "x_np = np.linalg.solve(A,b)\n",
    "error = x-x_np\n",
    "print('Solucao está correta? ',np.allclose(error,np.zeros((n,1))))"
   ]
  },
  {
   "cell_type": "markdown",
   "id": "674383d9",
   "metadata": {},
   "source": [
    "### Exercício 4)\n",
    "Um dos problemas com o método de Gauss-Seidel como descrito em aula é que a matriz $\\mathbf{E}$ precisa ser invertida, o que torna-se inviável quando a matriz original é grande. Além disso, a inversão de $\\mathbf{E}$ gera uma matriz triangular inferior cheia.\n",
    "\n",
    "Uma outra forma de definir o método de Gauss-Seidel é através da fórmula:\n",
    "\n",
    "$$\n",
    "x_i^{k+1}=\\frac{1}{a_{ii}}\\left[b_i-\\sum_{j<i}a_{ij}x_j^{k+1}-\\sum_{j>i}a_{ij}x_j^{k}\\right], \\quad i=1,\\ldots,n\n",
    "$$\n",
    "\n",
    "onde $x_i^{k}$ é a componente $i$ do vetor solução no passo $k$. A fórmula acima evita a inversão da matriz $\\mathbf{E}$.\n",
    "\n",
    "Implemente o método de Gauss-Seidel utilizando a fórmula acima e verifique a corretude da solução encontrada."
   ]
  },
  {
   "cell_type": "code",
   "execution_count": 11,
   "id": "84f86a8a",
   "metadata": {},
   "outputs": [],
   "source": [
    "def Gauss_Seidel_v2(A,b):\n",
    "    n = A.shape[0]\n",
    "    x = np.ones((n,1))\n",
    "    xn = np.zeros((n,1))\n",
    "    r = b-np.dot(A,x)\n",
    "    tol = 1e-10\n",
    "    maxiter = 10000\n",
    "    j=0\n",
    "    while ((np.max(np.abs(r))>tol) and (j<maxiter)):\n",
    "        x = np.copy(xn)\n",
    "        for i in range(n):\n",
    "            xn[i] = np.dot(A[i,:i],xn[:i,0])+np.dot(A[i,i+1:],x[i+1:,0])\n",
    "            xn[i] = (b[i]-xn[i])/A[i,i]\n",
    "        r = b-np.dot(A,xn)\n",
    "        j = j+1\n",
    "          \n",
    "    if j < maxiter:\n",
    "        print('Convergencia em ',j,' iteracoes')\n",
    "        return(x)\n",
    "    else:\n",
    "        print('Nao convergiu')\n",
    "        return(None)\n",
    "    "
   ]
  },
  {
   "cell_type": "code",
   "execution_count": 12,
   "id": "e888a6cd",
   "metadata": {},
   "outputs": [
    {
     "name": "stdout",
     "output_type": "stream",
     "text": [
      "Convergencia em  13  iteracoes\n",
      "Solucao está correta?  True\n"
     ]
    }
   ],
   "source": [
    "# Construindo uma matrix diagonal dominante\n",
    "\n",
    "n=10\n",
    "eps = 1.0e-5\n",
    "A = np.random.uniform(-1,1,size=(n,n))\n",
    "d = np.sum(np.abs(A),axis=1)+eps\n",
    "np.fill_diagonal(A,d)\n",
    "\n",
    "# Construindo vetor b\n",
    "\n",
    "b = np.random.uniform(-1,1,size=(n,1))\n",
    "\n",
    "x = Gauss_Seidel_v2(A,b)\n",
    "\n",
    "# verificando a corretude da solução\n",
    "x_np = np.linalg.solve(A,b)\n",
    "error = x-x_np\n",
    "print('Solucao está correta? ',np.allclose(error,np.zeros((n,1))))"
   ]
  },
  {
   "cell_type": "markdown",
   "id": "9b3db32b",
   "metadata": {},
   "source": [
    "### Exercício 5)\n",
    "Faça uma comparação, em termos do número de iterações, entre os métodos de Jacobi, Gauss-Seidel e Gradiente Conjugado."
   ]
  },
  {
   "cell_type": "code",
   "execution_count": 13,
   "id": "077eec2a",
   "metadata": {},
   "outputs": [],
   "source": [
    "def Jacobi(A,b):\n",
    "    D = np.diag(1/np.diag(A)) # matrix D^{-1} \n",
    "                              # (lembre-se que a inversa de uma matrix diagonal é uma \n",
    "                              # matrix diagonal com elementos 1/a_ii)\n",
    "    x = np.ones((A.shape[0],1))\n",
    "    r = b-np.dot(A,x)\n",
    "    tol = 1e-10\n",
    "    maxiter = 1000\n",
    "    i=0\n",
    "    while ((np.max(np.abs(r))>tol) and (i < maxiter)):\n",
    "        x = x + np.dot(D,r)\n",
    "        r = b-np.dot(A,x)\n",
    "        i = i+1\n",
    "        \n",
    "    if i < maxiter:\n",
    "        print('Convergencia em ',i,' iteracoes')\n",
    "        return(x)\n",
    "    else:\n",
    "        print('Nao convergiu')\n",
    "        return(None)"
   ]
  },
  {
   "cell_type": "code",
   "execution_count": 14,
   "id": "b055ce6e",
   "metadata": {},
   "outputs": [],
   "source": [
    "def gradiente_conjugado(A,b):\n",
    "    x = np.ones((A.shape[0],1))\n",
    "    r = b-np.dot(A,x)\n",
    "    p = np.copy(r)\n",
    "    tol = 1e-10\n",
    "    i = 0\n",
    "    while (np.max(np.abs(r))>tol): \n",
    "        s = np.dot(A,p)\n",
    "        delta = np.dot(r.T,r)\n",
    "        alpha = delta/np.dot(p.T,s)\n",
    "        x = x+alpha*p\n",
    "        r = r - alpha*s\n",
    "        p = r + (np.dot(r.T,r))/(delta)*p\n",
    "        i = i+1\n",
    "      \n",
    "    print('Convergiu em ',i,' iteracoes')\n",
    "    return(x)"
   ]
  },
  {
   "cell_type": "code",
   "execution_count": 15,
   "id": "1a86c7f7",
   "metadata": {},
   "outputs": [
    {
     "name": "stdout",
     "output_type": "stream",
     "text": [
      "Convergiu em  39  iteracoes\n",
      "Convergencia em  115  iteracoes\n",
      "Convergencia em  222  iteracoes\n"
     ]
    }
   ],
   "source": [
    "# constriundo uma matriz simétrica definida positiva\n",
    "n = 100\n",
    "X = np.random.uniform(-1,1,size=((n,n)))\n",
    "Q,R = np.linalg.qr(X)\n",
    "D = np.diag(np.random.uniform(0.1,2,n))\n",
    "A = np.linalg.multi_dot([Q,D,Q.T])\n",
    "\n",
    "# Construindo vetor b\n",
    "b = np.random.uniform(-1,1,size=(n,1))\n",
    "\n",
    "x = gradiente_conjugado(A,b)\n",
    "\n",
    "x = Gauss_Seidel_v2(A,b)\n",
    "\n",
    "x = Jacobi(A,b)"
   ]
  }
 ],
 "metadata": {
  "kernelspec": {
   "display_name": "Python 3",
   "language": "python",
   "name": "python3"
  },
  "language_info": {
   "codemirror_mode": {
    "name": "ipython",
    "version": 3
   },
   "file_extension": ".py",
   "mimetype": "text/x-python",
   "name": "python",
   "nbconvert_exporter": "python",
   "pygments_lexer": "ipython3",
   "version": "3.8.8"
  }
 },
 "nbformat": 4,
 "nbformat_minor": 5
}
