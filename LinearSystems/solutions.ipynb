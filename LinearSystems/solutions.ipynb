{
 "cells": [
  {
   "cell_type": "markdown",
   "id": "755e7964",
   "metadata": {},
   "source": [
    "# <font color='blue'>MAI5002 - Fundamentos de Matemática Aplicada</font>\n",
    "\n",
    "## <font color='blue'>Sistemas Lineares - Solução dos Exercícios</font>\n",
    "\n",
    "### Material produzido por Luis Gustavo Nonato\n",
    "---\n",
    "ICMC-USP"
   ]
  },
  {
   "cell_type": "code",
   "execution_count": 1,
   "id": "182bc6c4",
   "metadata": {},
   "outputs": [],
   "source": [
    "import numpy as np\n",
    "import scipy.linalg as sl"
   ]
  },
  {
   "cell_type": "markdown",
   "id": "1421c1c0",
   "metadata": {},
   "source": [
    "### Exercício 1)\n",
    "\n",
    "Escreva uma função em Python que receba uma matriz triangular inferior $\\mathbf{L}$ e um vetor $\\mathbf{b}$ e resolva o sistema $\\mathbf{L}\\mathbf{x}=\\mathbf{b}$ por substituição direta. Compare o resultado de sua função com o obtido pelo método <font color='blue'> solve_triangular </font> do <font color='blue'> scipy </font>."
   ]
  },
  {
   "cell_type": "code",
   "execution_count": 90,
   "id": "47b1defd",
   "metadata": {},
   "outputs": [],
   "source": [
    "# Solucao\n",
    "\n",
    "def substituicao_direta(L,b):\n",
    "    x = np.zeros((b.shape[0],1))\n",
    "    for i in range(b.shape[0]):\n",
    "        x[i] = (b[i] - np.dot(L[i,:i],x[:i]))/L[i,i]\n",
    "        \n",
    "    return(x)"
   ]
  },
  {
   "cell_type": "code",
   "execution_count": 91,
   "id": "2d4d815d",
   "metadata": {},
   "outputs": [
    {
     "name": "stdout",
     "output_type": "stream",
     "text": [
      "[[ 7.04e-01  0.00e+00  0.00e+00  0.00e+00  0.00e+00  0.00e+00  0.00e+00\n",
      "   0.00e+00  0.00e+00  0.00e+00]\n",
      " [ 9.41e-01  7.32e-01  0.00e+00  0.00e+00  0.00e+00  0.00e+00  0.00e+00\n",
      "   0.00e+00  0.00e+00  0.00e+00]\n",
      " [-7.11e-01 -4.33e-01 -2.93e-01  0.00e+00  0.00e+00  0.00e+00  0.00e+00\n",
      "   0.00e+00  0.00e+00  0.00e+00]\n",
      " [-3.13e-01 -2.06e-01  1.82e-01  9.02e-01  0.00e+00  0.00e+00  0.00e+00\n",
      "   0.00e+00  0.00e+00  0.00e+00]\n",
      " [-6.39e-01 -3.24e-02  3.98e-03  1.56e-01 -2.69e-01  0.00e+00  0.00e+00\n",
      "   0.00e+00  0.00e+00  0.00e+00]\n",
      " [-3.51e-01  4.59e-01 -9.45e-01 -8.81e-01  8.64e-01  6.27e-01  0.00e+00\n",
      "   0.00e+00  0.00e+00  0.00e+00]\n",
      " [-4.97e-01 -3.65e-01 -1.41e-01  2.64e-02 -6.48e-01  1.29e-01 -7.01e-01\n",
      "   0.00e+00  0.00e+00  0.00e+00]\n",
      " [-3.32e-01 -7.18e-01 -3.87e-01  8.38e-01 -5.64e-01  8.94e-01 -8.41e-01\n",
      "  -1.04e-01  0.00e+00  0.00e+00]\n",
      " [ 1.44e-01 -1.28e-01 -7.68e-01 -2.47e-04 -9.93e-01  4.28e-01 -9.32e-01\n",
      "   6.37e-01  5.71e-01  0.00e+00]\n",
      " [ 4.02e-01  9.64e-02 -3.28e-01  3.28e-01  4.61e-01  6.59e-01 -4.19e-01\n",
      "  -3.33e-02  6.03e-01 -5.65e-01]]\n",
      "\n",
      "\n",
      "[[ 0.19  0.65  0.83 -0.11 -0.82 -0.13  0.23  0.47  0.89  0.49]]\n"
     ]
    }
   ],
   "source": [
    "# construindo uma matriz triangular inferior\n",
    "n = 10\n",
    "T = np.tril(np.random.uniform(-1,1,size=(n,n)))\n",
    "\n",
    "# construindo um vetor b\n",
    "b = np.random.uniform(-1,1,size=(n,1))\n",
    "\n",
    "np.set_printoptions(precision=2)\n",
    "print(T)\n",
    "print('\\n')\n",
    "print(b.T)"
   ]
  },
  {
   "cell_type": "code",
   "execution_count": 92,
   "id": "e86a8448",
   "metadata": {},
   "outputs": [
    {
     "name": "stdout",
     "output_type": "stream",
     "text": [
      "2.1316282072803006e-14\n",
      "Mesma Solucao?  True\n"
     ]
    }
   ],
   "source": [
    "# resolvendo o sistema e comparando com solve_triangular\n",
    "\n",
    "x_meu = substituicao_direta(T,b)\n",
    "\n",
    "x_scipy = sl.solve_triangular(T,b,lower=True,unit_diagonal=False,check_finite=False)\n",
    "\n",
    "error = x_meu - x_scipy\n",
    "\n",
    "print(np.max(error))\n",
    "print('Mesma Solucao? ',np.allclose(error,np.zeros((n,n))))"
   ]
  },
  {
   "cell_type": "markdown",
   "id": "bc319f47",
   "metadata": {},
   "source": [
    "### Exercício 2) \n",
    "Repita o exercício anterior, porém a função deve receber um matriz triangular superior e resolver o sistema por retrosubstituição."
   ]
  },
  {
   "cell_type": "code",
   "execution_count": 96,
   "id": "16f87d3c",
   "metadata": {},
   "outputs": [],
   "source": [
    "# Solucao\n",
    "\n",
    "def retrosubstituicao(U,b):\n",
    "    x = np.zeros((b.shape[0],1))\n",
    "    for i in range(b.shape[0]-1,-1,-1):\n",
    "        x[i] = (b[i] - np.dot(U[i,i+1:],x[i+1:]))/U[i,i]\n",
    "        \n",
    "    return(x)"
   ]
  },
  {
   "cell_type": "code",
   "execution_count": 97,
   "id": "463b4f03",
   "metadata": {},
   "outputs": [
    {
     "name": "stdout",
     "output_type": "stream",
     "text": [
      "[[ 0.03  0.65 -0.56 -0.67 -0.52  0.91  0.94  0.49  0.92  0.95]\n",
      " [ 0.    0.51 -0.75 -0.07  0.3   0.89  0.44  0.29 -0.59 -0.76]\n",
      " [ 0.    0.   -0.7  -0.38  0.42  0.16  0.35 -0.36 -0.02  0.11]\n",
      " [ 0.    0.    0.    0.99 -0.44  0.73 -0.66 -0.79  0.27 -0.84]\n",
      " [ 0.    0.    0.    0.   -0.84  0.1   0.06 -0.58  0.63  1.  ]\n",
      " [ 0.    0.    0.    0.    0.   -0.96  0.35 -0.58  0.17  0.44]\n",
      " [ 0.    0.    0.    0.    0.    0.   -0.3   0.76  0.97 -0.45]\n",
      " [ 0.    0.    0.    0.    0.    0.    0.    0.41 -0.68  0.17]\n",
      " [ 0.    0.    0.    0.    0.    0.    0.    0.   -0.66  0.1 ]\n",
      " [ 0.    0.    0.    0.    0.    0.    0.    0.    0.    0.33]]\n",
      "\n",
      "\n",
      "[[-0.78 -0.44  0.42  0.76 -0.77  0.31 -0.27 -0.1  -0.52  0.01]]\n"
     ]
    }
   ],
   "source": [
    "# construindo uma matriz triangular superior\n",
    "n = 10\n",
    "T = np.triu(np.random.uniform(-1,1,size=(n,n)))\n",
    "\n",
    "# construindo um vetor b\n",
    "b = np.random.uniform(-1,1,size=(n,1))\n",
    "\n",
    "np.set_printoptions(precision=2)\n",
    "print(T)\n",
    "print('\\n')\n",
    "print(b.T)"
   ]
  },
  {
   "cell_type": "code",
   "execution_count": 98,
   "id": "cff5ea0c",
   "metadata": {},
   "outputs": [
    {
     "name": "stdout",
     "output_type": "stream",
     "text": [
      "1.4210854715202004e-14\n",
      "Mesma Solucao?  True\n"
     ]
    }
   ],
   "source": [
    "# resolvendo o sistema e comparando com solve_triangular\n",
    "\n",
    "x_meu = retrosubstituicao(T,b)\n",
    "\n",
    "x_scipy = sl.solve_triangular(T,b,lower=False,unit_diagonal=False,check_finite=False)\n",
    "\n",
    "error = x_meu - x_scipy\n",
    "\n",
    "print(np.max(error))\n",
    "print('Mesma Solucao? ',np.allclose(error,np.zeros((n,n))))"
   ]
  },
  {
   "cell_type": "markdown",
   "id": "2b7b532a",
   "metadata": {},
   "source": [
    "### Exercício 3)\n",
    "Implemente o método de Gauss-Seidel como descrito em aula e verifique a corretude de seu método."
   ]
  },
  {
   "cell_type": "code",
   "execution_count": 56,
   "id": "0281a229",
   "metadata": {},
   "outputs": [],
   "source": [
    "def Gauss_Seidel(A,b):\n",
    "    E = np.tril(A)       # tomando a parte triangular inferiro de A\n",
    "    E = np.linalg.inv(E) # calculando E^{-1}\n",
    "    x = np.ones((A.shape[0],1))\n",
    "    r = b-np.dot(A,x)\n",
    "    tol = 1e-10\n",
    "    maxiter = 1000\n",
    "    i=0\n",
    "    while ((np.max(np.abs(r))>tol) and (i < maxiter)):\n",
    "        x = x + np.dot(E,r)\n",
    "        r = b-np.dot(A,x)\n",
    "        i = i+1\n",
    "        \n",
    "    if i < maxiter:\n",
    "        print('Convergencia em ',i,' iteracoes')\n",
    "        return(x)\n",
    "    else:\n",
    "        print('Nao convergiu')\n",
    "        return(None)"
   ]
  },
  {
   "cell_type": "code",
   "execution_count": 57,
   "id": "fc368b91",
   "metadata": {},
   "outputs": [
    {
     "name": "stdout",
     "output_type": "stream",
     "text": [
      "Convergencia em  17  iteracoes\n",
      "Solucao está correta?  True\n"
     ]
    }
   ],
   "source": [
    "# Construindo uma matrix diagonal dominante\n",
    "\n",
    "n=10\n",
    "eps = 1.0e-5\n",
    "A = np.random.uniform(-1,1,size=(n,n))\n",
    "d = np.sum(np.abs(A),axis=1)+eps\n",
    "np.fill_diagonal(A,d)\n",
    "\n",
    "# Construindo vetor b\n",
    "\n",
    "b = np.random.uniform(-1,1,size=(n,1))\n",
    "\n",
    "x = Gauss_Seidel(A,b)\n",
    "\n",
    "# verificando a corretude da solução\n",
    "x_np = np.linalg.solve(A,b)\n",
    "error = x-x_np\n",
    "print('Solucao está correta? ',np.allclose(error,np.zeros((n,1))))"
   ]
  },
  {
   "cell_type": "markdown",
   "id": "674383d9",
   "metadata": {},
   "source": [
    "### Exercício 4)\n",
    "Um dos problemas com o método de Gauss-Seidel como descrito em aula é que a matriz $\\mathbf{E}$ precisa ser invertida, o que torna-se inviável quando a matriz original é grande. Além disso, a inversão de $\\mathbf{E}$ gera uma matriz triangular inferior cheia.\n",
    "\n",
    "Uma outra forma de definir o método de Gauss-Seidel é através da fórmula:\n",
    "\n",
    "$$\n",
    "x_i^{k+1}=\\frac{1}{a_{ii}}\\left[b_i-\\sum_{j<i}a_{ij}x_j^{k+1}-\\sum_{j>i}a_{ij}x_j^{k}\\right], \\quad i=1,\\ldots,n\n",
    "$$\n",
    "\n",
    "onde $x_i^{k}$ é a componente $i$ do vetor solução no passo $k$. A fórmula acima evita a inversão da matriz $\\mathbf{E}$.\n",
    "\n",
    "Implemente o método de Gauss-Seidel utilizando a fórmula acima e verifique a corretude da solução encontrada."
   ]
  },
  {
   "cell_type": "code",
   "execution_count": 84,
   "id": "84f86a8a",
   "metadata": {},
   "outputs": [],
   "source": [
    "def Gauss_Seidel_v2(A,b):\n",
    "    n = A.shape[0]\n",
    "    x = np.ones((n,1))\n",
    "    xn = np.zeros((n,1))\n",
    "    r = b-np.dot(A,x)\n",
    "    tol = 1e-10\n",
    "    maxiter = 10000\n",
    "    j=0\n",
    "    while ((np.max(np.abs(r))>tol) and (j<maxiter)):\n",
    "        x = np.copy(xn)\n",
    "        for i in range(n):\n",
    "            xn[i] = np.dot(A[i,:i],xn[:i,0])+np.dot(A[i,i+1:],x[i+1:,0])\n",
    "            xn[i] = (b[i]-xn[i])/A[i,i]\n",
    "        r = b-np.dot(A,xn)\n",
    "        j = j+1\n",
    "          \n",
    "    if j < maxiter:\n",
    "        print('Convergencia em ',j,' iteracoes')\n",
    "        return(x)\n",
    "    else:\n",
    "        print('Nao convergiu')\n",
    "        return(None)"
   ]
  },
  {
   "cell_type": "code",
   "execution_count": 86,
   "id": "95ad7289",
   "metadata": {},
   "outputs": [
    {
     "name": "stdout",
     "output_type": "stream",
     "text": [
      "Convergencia em  12  iteracoes\n",
      "Solucao está correta?  True\n"
     ]
    }
   ],
   "source": [
    "# Construindo uma matrix diagonal dominante\n",
    "\n",
    "n=10\n",
    "eps = 1.0e-5\n",
    "A = np.random.uniform(-1,1,size=(n,n))\n",
    "d = np.sum(np.abs(A),axis=1)+eps\n",
    "np.fill_diagonal(A,d)\n",
    "\n",
    "# Construindo vetor b\n",
    "\n",
    "b = np.random.uniform(-1,1,size=(n,1))\n",
    "\n",
    "x = Gauss_Seidel_v2(A,b)\n",
    "\n",
    "# verificando a corretude da solução\n",
    "x_np = np.linalg.solve(A,b)\n",
    "error = x-x_np\n",
    "print('Solucao está correta? ',np.allclose(error,np.zeros((n,1))))"
   ]
  },
  {
   "cell_type": "markdown",
   "id": "9b3db32b",
   "metadata": {},
   "source": [
    "### Exercício 5)\n",
    "Faça uma comparação, em termos do número de iterações, entre os métodos de Jacobi, Gauss-Seidel e Gradiente Conjugado."
   ]
  }
 ],
 "metadata": {
  "kernelspec": {
   "display_name": "Python 3",
   "language": "python",
   "name": "python3"
  },
  "language_info": {
   "codemirror_mode": {
    "name": "ipython",
    "version": 3
   },
   "file_extension": ".py",
   "mimetype": "text/x-python",
   "name": "python",
   "nbconvert_exporter": "python",
   "pygments_lexer": "ipython3",
   "version": "3.8.8"
  }
 },
 "nbformat": 4,
 "nbformat_minor": 5
}
