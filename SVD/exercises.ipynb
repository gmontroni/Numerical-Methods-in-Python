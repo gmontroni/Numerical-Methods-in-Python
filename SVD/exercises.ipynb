{
 "cells": [
  {
   "cell_type": "markdown",
   "metadata": {},
   "source": [
    "# <font color='blue'>Decomposição em Valores Singulares<br><br> (Singular Value Decomposition  - SVD)</font>\n",
    "\n",
    "## Exercícios\n",
    "\n",
    "## Luis Gustavo Nonato  \n",
    "\n",
    "ICMC-USP\n",
    "\n",
    "----"
   ]
  },
  {
   "cell_type": "code",
   "execution_count": 2,
   "metadata": {},
   "outputs": [],
   "source": [
    "import numpy as np\n",
    "import matplotlib.pyplot as plt\n",
    "%matplotlib inline"
   ]
  },
  {
   "cell_type": "markdown",
   "metadata": {},
   "source": [
    "### Exercício 1) \n",
    "Considere a matriz $\\mathbf{A}$ abaixo cujos elementos são números inteiros no intervalo $[0,10)$ gerados randomicamente. Suponha que as colunas de $\\mathbf{A}$ sejam pontos em um espaço $\\mathbb{R}^n$. \n",
    "\n",
    "a) Qual o posto da matriz $\\mathbf{A}$?\n",
    "\n",
    "b) Encontre a matriz com metade do posto de $\\mathbf{A}$ que melhor aproxima $\\mathbf{A}$.\n",
    "\n",
    "c) Qual o erro de aproximação na norma $L^2$?"
   ]
  },
  {
   "cell_type": "code",
   "execution_count": 10,
   "metadata": {},
   "outputs": [
    {
     "name": "stdout",
     "output_type": "stream",
     "text": [
      "20\n"
     ]
    }
   ],
   "source": [
    "n = 20\n",
    "A = np.random.randint(0,10,size=(n,n))\n",
    "\n",
    "#Posto da Matriz\n",
    "print(np.linalg.matrix_rank(A))\n",
    "\n",
    "\n"
   ]
  },
  {
   "cell_type": "code",
   "execution_count": 16,
   "metadata": {},
   "outputs": [
    {
     "name": "stdout",
     "output_type": "stream",
     "text": [
      "Tomando 10  autovalores\n"
     ]
    }
   ],
   "source": [
    "#Decomposição SVD\n",
    "U,S,Vt = np.linalg.svd(A)\n",
    "\n",
    "#Encontrando a Matriz Ar com metade do posto que melhor se aproxima de A\n",
    "r = int(n*0.50)\n",
    "print('Tomando',r,' autovalores')\n",
    "\n",
    "#Matriz Ar \n",
    "Ar = np.linalg.multi_dot([U[:,:r],np.diag(S[:r]),Vt[:r,:]])\n",
    "\n",
    "#print('A matriz Ar é a que melhor se aproxima \\n', Ar)"
   ]
  },
  {
   "cell_type": "code",
   "execution_count": 13,
   "metadata": {},
   "outputs": [
    {
     "name": "stdout",
     "output_type": "stream",
     "text": [
      "Erro de aproximação:  295.7261279233952\n"
     ]
    }
   ],
   "source": [
    "error = np.linalg.norm(A.ravel() - Ar.ravel())**2 \n",
    "print('Erro de aproximação: ',error)"
   ]
  },
  {
   "cell_type": "markdown",
   "metadata": {},
   "source": [
    "### Exercício 2)\n",
    "Calcule o erro de aproximação do exercício anterior utilizando os valores singulares e justifique sua resposta:"
   ]
  },
  {
   "cell_type": "code",
   "execution_count": 17,
   "metadata": {},
   "outputs": [
    {
     "name": "stdout",
     "output_type": "stream",
     "text": [
      "Erro de aproximação:  295.72612792339504\n"
     ]
    }
   ],
   "source": [
    "# O erro de aproximação é dada pela soma dos m-r menores \n",
    "# autovalores de A^TA (ou AA^T). Este fato é uma consequência\n",
    "# da demonstração da propriedade de aproximação de posto reduzido.\n",
    "\n",
    "print('Erro de aproximação: ',np.sum(S[r:]**2))"
   ]
  },
  {
   "cell_type": "markdown",
   "metadata": {},
   "source": [
    "### Exercício 3) \n",
    "Considere o conjunto de pontos, gerados na célula abaixo, armazenados como colunas da matriz $\\mathbf{X}$.\n",
    "\n",
    "a) Faça um scatter plot dos pontos e note que eles estão alinhados com uma reta, porém possuem um grau de ruído. \n",
    "\n",
    "b) Utilize SVD para remover o ruido dos dados, alinhando-os mais precisamente à forma de uma reta."
   ]
  },
  {
   "cell_type": "code",
   "execution_count": 20,
   "metadata": {},
   "outputs": [
    {
     "name": "stdout",
     "output_type": "stream",
     "text": [
      "(2, 100)\n"
     ]
    }
   ],
   "source": [
    "n = 100\n",
    "t = np.linspace(0,1,n)\n",
    "X = np.zeros((2,n))\n",
    "X[0,:] = 2*t\n",
    "X[1,:] = X[0,:]+np.random.uniform(-0.3,0.3,n)\n",
    "print(X.shape)"
   ]
  },
  {
   "cell_type": "code",
   "execution_count": 19,
   "metadata": {
    "scrolled": true
   },
   "outputs": [
    {
     "data": {
      "text/plain": [
       "<matplotlib.collections.PathCollection at 0x1b72bd31e50>"
      ]
     },
     "execution_count": 19,
     "metadata": {},
     "output_type": "execute_result"
    },
    {
     "data": {
      "image/png": "[encoded data removed]",
      "text/plain": [
       "<Figure size 432x288 with 1 Axes>"
      ]
     },
     "metadata": {
      "needs_background": "light"
     },
     "output_type": "display_data"
    }
   ],
   "source": [
    "plt.scatter(X[0,:],X[1,:])"
   ]
  },
  {
   "cell_type": "code",
   "execution_count": 21,
   "metadata": {},
   "outputs": [
    {
     "name": "stdout",
     "output_type": "stream",
     "text": [
      "(2, 100)\n"
     ]
    },
    {
     "data": {
      "text/plain": [
       "[<matplotlib.lines.Line2D at 0x1b72be327f0>]"
      ]
     },
     "execution_count": 21,
     "metadata": {},
     "output_type": "execute_result"
    },
    {
     "data": {
      "image/png": "[encoded data removed]",
      "text/plain": [
       "<Figure size 432x288 with 1 Axes>"
      ]
     },
     "metadata": {
      "needs_background": "light"
     },
     "output_type": "display_data"
    }
   ],
   "source": [
    "U,S,Vt = np.linalg.svd(X)  # calculando SVD\n",
    " \n",
    "X1 = U[:,0].reshape(-1,1)*(S[0]*Vt[0,:].reshape(1,-1)) # zerando a segunda direção principal\n",
    "print(X1.shape)\n",
    "\n",
    "plt.scatter(X1[0,:],X1[1,:])\n",
    "plt.plot([0,-2*U[0,0]],[0,-2*U[1,0]],color='r')  # plotando a direcao principal"
   ]
  },
  {
   "cell_type": "code",
   "execution_count": 22,
   "metadata": {},
   "outputs": [
    {
     "data": {
      "text/plain": [
       "<matplotlib.collections.PathCollection at 0x1b72be8e190>"
      ]
     },
     "execution_count": 22,
     "metadata": {},
     "output_type": "execute_result"
    },
    {
     "data": {
      "image/png": "[encoded data removed]",
      "text/plain": [
       "<Figure size 432x288 with 1 Axes>"
      ]
     },
     "metadata": {
      "needs_background": "light"
     },
     "output_type": "display_data"
    }
   ],
   "source": [
    "# na verdade podemos suavizar o ruido ao invez de zerá-lo\n",
    "suaviza = 0.3\n",
    "\n",
    "S[1] = S[1]*suaviza\n",
    "Xc = np.dot(U,np.dot(np.diag(S),Vt[:2,:]))\n",
    "\n",
    "plt.scatter(Xc[0,:],Xc[1,:])"
   ]
  },
  {
   "cell_type": "markdown",
   "metadata": {},
   "source": [
    "### Exercício 4)\n",
    "Considere a matriz abaixo onde as colunas correspondem às direções principais de um conjunto de dados no espaço $\\mathbb{R}^7$. Sabendo que as colunas estão ordenadas de acordo com as variâncias dos dados em ordem decrescente da esquerda para a direita e que as variâncias estão igualmente espaçadas no intervalo $[1^{-3},2]$. Construa um conjunto de $n$ pontos $\\mathbf{X}$ (cada ponto é uma coluna de $\\mathbf{X}$) cujas direções principais são dadas pela matriz abaixo.\n",
    "\n",
    "$$\n",
    "\\begin{bmatrix}\n",
    "-0.28 & -0.76  & 0.33  & 0.39 & -0.11 & -0.15 &  0.2 \\\\\n",
    "-0.47  & 0.41  & 0.17  & 0.58 & -0.12  & 0.39 & -0.27\\\\\n",
    "-0.41 & -0.29 & -0.21 & -0.48 & -0.04  & 0.68  & 0.1 \\\\\n",
    "-0.32 & -0.1  & -0.76  & 0.27 &  0.41 & -0.25 & -0.05\\\\\n",
    "-0.36 & -0.02  & 0.43 & -0.35 & 0.53 & -0.24 & -0.48\\\\\n",
    "-0.46  & 0.15 & -0.12 & -0.28 & -0.66 & -0.48 &  -0.05\\\\\n",
    "-0.3  &  0.36 &  0.2  & -0.05  & 0.29 & -0.1 &   0.8 \n",
    "\\end{bmatrix}\n",
    "$$\n",
    "\n",
    "Verifique a corretude dos dados gerados calculando suas direções principais associadas."
   ]
  },
  {
   "cell_type": "code",
   "execution_count": 32,
   "metadata": {
    "scrolled": true
   },
   "outputs": [
    {
     "name": "stdout",
     "output_type": "stream",
     "text": [
      "[2.00e+00 1.67e+00 1.33e+00 1.00e+00 6.67e-01 3.34e-01 1.00e-03]\n",
      "[[ 0.03  0.66  0.59 -0.12  0.04  0.18]\n",
      " [ 0.2  -0.04 -0.3   0.06  0.34  0.06]\n",
      " [ 0.24  0.14  0.12  0.15  0.17 -0.04]\n",
      " [ 0.04 -0.07  0.    0.39 -0.14  0.34]\n",
      " [ 0.22  0.27  0.1   0.41  0.15 -0.06]\n",
      " [ 0.18 -0.15 -0.03  0.16  0.36  0.14]\n",
      " [ 0.18 -0.05 -0.21  0.31  0.18 -0.02]]\n"
     ]
    }
   ],
   "source": [
    "import numpy as np\n",
    "\n",
    "U = np.asarray([[-0.28, -0.76,  0.33,  0.39, -0.11, -0.15,  0.2 ],\n",
    "                [-0.47,  0.41,  0.17,  0.58, -0.12,  0.39, -0.27],\n",
    "                [-0.41, -0.29, -0.21, -0.48, -0.04,  0.68,  0.1 ],\n",
    "                [-0.32, -0.10, -0.76,  0.27,  0.41, -0.25, -0.05],\n",
    "                [-0.36, -0.02,  0.43, -0.35,  0.53, -0.24, -0.48],\n",
    "                [-0.46,  0.15, -0.12, -0.28, -0.66, -0.48, -0.05],\n",
    "                [-0.30,  0.36,  0.20, -0.05,  0.29, -0.10,   0.8]]) \n",
    "\n",
    "# sabemos que a matriz de dados X deve respeitar\n",
    "# X = USV^T. Como conhecemos U e S, temos a liberdade de\n",
    "# escolher os autovetores de X^TX que dão origem à V. \n",
    "# Qualquer base ortonormal pode ser utilizada para \n",
    "# construir X^TX = VSV^T\n",
    "\n",
    "# gerando os autovalores\n",
    "S = np.linspace(1e-3,2,U.shape[0])[::-1]\n",
    "print(S)\n",
    "\n",
    "# calculando V\n",
    "# vamos assumir n=20 e construir uma base ortogonal com 20 vetores\n",
    "# utilizando Gram Schmidt\n",
    "\n",
    "T = np.random.uniform(0,1,size=(20,20))\n",
    "V, R = np.linalg.qr(T)\n",
    "\n",
    "# calculando uma base ortonormal como \n",
    "X = np.dot(U,np.dot(np.diag(np.sqrt(S)),V[:,:S.shape[0]].T))\n",
    "\n",
    "np.set_printoptions(precision=2)\n",
    "print(X[:,:6])"
   ]
  },
  {
   "cell_type": "code",
   "execution_count": 33,
   "metadata": {},
   "outputs": [
    {
     "name": "stdout",
     "output_type": "stream",
     "text": [
      "[2.00e+00 1.65e+00 1.33e+00 9.96e-01 6.65e-01 3.33e-01 9.98e-04]\n",
      "1.000468632050385\n",
      "-0.9961059507779879\n",
      "0.999266610203304\n",
      "0.9974538340120044\n",
      "0.9983178095946098\n",
      "-0.9987293091560936\n",
      "-0.9991191681905717\n"
     ]
    }
   ],
   "source": [
    "# verificando corretude\n",
    "\n",
    "Sx,Ux = np.linalg.eigh(np.dot(X,X.T))   # autovetores da matrix de covariancia\n",
    "Sxx, Uxx = np.linalg.eigh(np.dot(X.T,X))\n",
    "Sx = Sx[::-1]                     # invertendo a ordem para decrescente\n",
    "Ux = np.flip(Ux,axis=1)           #flipa a matriz U no eixo da coluna central\n",
    "print(Sx)\n",
    "\n",
    "\n",
    "for i in range(X.shape[0]):              #verificou que cada linha era ortonormal\n",
    "    print(np.dot(Ux[:,i].T,U[:,i]))"
   ]
  },
  {
   "cell_type": "markdown",
   "metadata": {},
   "source": [
    "### Exercício 5)\n",
    "Construa uma transformação linear que leve os vetores $v_1=[1,0,1]$ e $v_2=[0,1,0]$ nos vetores $u_1=[2,1]$ e $u_2=[-0.5,1]$. Verifique a corretude da transformação construida."
   ]
  },
  {
   "cell_type": "code",
   "execution_count": null,
   "metadata": {},
   "outputs": [],
   "source": []
  },
  {
   "cell_type": "markdown",
   "metadata": {},
   "source": [
    "### Exercício 6)\n",
    "Considere a matriz $\\mathbf{X}$ gerada na célula abaixo, cujas colunas correspondem a pontos em um espaço de dimensão $20$. Utilize análise de componentes principais (calculada via SVD) para projetar os pontos em um espaço de dimensão 2 e visualize os pontos projetados através de um scatter plot."
   ]
  },
  {
   "cell_type": "code",
   "execution_count": 34,
   "metadata": {},
   "outputs": [],
   "source": [
    "from sklearn.datasets import make_blobs\n",
    "X, _ = make_blobs(200,20)\n",
    "X = X.T"
   ]
  },
  {
   "cell_type": "code",
   "execution_count": null,
   "metadata": {},
   "outputs": [],
   "source": [
    "U,S,Vt = np.linalg.svd(X)  # calculando SVD\n",
    "\n",
    "X_projetado = np.dot(np.diag(S[:2]),Vt[:2,:])  # projeção nas duas direções principais\n",
    "  \n",
    "fig, ax = plt.subplots(1,1)\n",
    "ax.set_aspect('equal')\n",
    "ax.scatter(X_projetado[0,:],X_projetado[1,:])"
   ]
  }
 ],
 "metadata": {
  "kernelspec": {
   "display_name": "Python 3",
   "language": "python",
   "name": "python3"
  },
  "language_info": {
   "codemirror_mode": {
    "name": "ipython",
    "version": 3
   },
   "file_extension": ".py",
   "mimetype": "text/x-python",
   "name": "python",
   "nbconvert_exporter": "python",
   "pygments_lexer": "ipython3",
   "version": "3.8.8"
  }
 },
 "nbformat": 4,
 "nbformat_minor": 2
}
