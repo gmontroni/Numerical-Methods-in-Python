{
 "cells": [
  {
   "cell_type": "markdown",
   "metadata": {},
   "source": [
    "# <font color='blue'>Decomposição em Valores Singulares (SVD) - Aplicações</font>\n",
    "\n",
    "### <font color='blue'> Exercícios</font>\n",
    "**Material Produzido por Luis Gustavo Nonato**<br>\n",
    "**Cemeai - ICMC/USP São Carlos**\n",
    "\n",
    "---"
   ]
  },
  {
   "cell_type": "code",
   "execution_count": null,
   "metadata": {},
   "outputs": [],
   "source": [
    "import pandas as pd\n",
    "import numpy as np\n",
    "import matplotlib.pyplot as plt\n",
    "from sklearn.decomposition import TruncatedSVD\n",
    "from sklearn.cluster import KMeans\n",
    "from sklearn.preprocessing import StandardScaler"
   ]
  },
  {
   "cell_type": "markdown",
   "metadata": {},
   "source": [
    "### Exercício 1)\n",
    "Considere a base de dados `bow_3classes.csv` que contém a frequência de palavras em um conjutno de documentos, ou seja, cada entrada $ij$ da matriz contém o número de vezes que a palavra $j$ aparece no documento $i$.\n",
    "\n",
    "A identificação dos documentos, listada na primeira coluna do arquivo, é formada por duas letras e um número, onde as duas letras identificam a qual grupo o documento pertence. \n",
    "Por exemplo, o documento `ch22` pertence a classe de assuntos ligados à \"cristianismo\" e o documento `gr15` a classe de documentos de assuntos gerais.\n",
    "\n",
    "A função <font color='blue'>read_file()</font> abaixo lê o arquivo `bow_3classes.csv` e retorna uma matriz _palavra$\\times$documentos_, uma lista de palavras que correspondem às linhas da matriz e uma lista com os nomes dos documentos que correspondem às colunas da matriz. Assim, cada linha da matriz retornada corresponde a frequência de ocorrência de uma palavra em cada documento e as colunas correspondem aos documentos."
   ]
  },
  {
   "cell_type": "code",
   "execution_count": null,
   "metadata": {},
   "outputs": [],
   "source": [
    "def read_file():\n",
    "    df = pd.read_csv('bow_3classes.csv',index_col=0)\n",
    "    X = df.values\n",
    "    X = StandardScaler().fit_transform(X)\n",
    "    X = X.T\n",
    "    docs = df.index.values\n",
    "    words = df.columns.values\n",
    "    return(X,docs,words)"
   ]
  },
  {
   "cell_type": "markdown",
   "metadata": {},
   "source": [
    "#### Exercício 1.1)\n",
    "Escreva um cógido para extrair os tópicos associados à coleção de documentos utilizando a representação latente fornecida pelo SVD truncado. Analise as classes dos documentos para encontar o número de tópicos que devem ser extraídos."
   ]
  },
  {
   "cell_type": "code",
   "execution_count": null,
   "metadata": {},
   "outputs": [],
   "source": []
  },
  {
   "cell_type": "markdown",
   "metadata": {},
   "source": [
    "#### Exercício 1.2)\n",
    "Clusterize os documentos no espaço latente em um número de clusters igual ao número de tópicos extraídos."
   ]
  },
  {
   "cell_type": "code",
   "execution_count": null,
   "metadata": {},
   "outputs": [],
   "source": []
  },
  {
   "cell_type": "markdown",
   "metadata": {},
   "source": [
    "#### Exercício 1.3)\n",
    "Projete a representação latente dos documentos em um espaço bidimensional gerado pelas duas direções principais (dois tópicos principais). Utilize cores para indicar a qual grupo cada documento pertece."
   ]
  },
  {
   "cell_type": "code",
   "execution_count": null,
   "metadata": {},
   "outputs": [],
   "source": []
  },
  {
   "cell_type": "markdown",
   "metadata": {},
   "source": [
    "#### Exercício 1.4)\n",
    " Compare visualmente os grupos obtidos com o método de agrupamento com as classes reais dos documentos. Em outras palavras, utilize as classes informadas nos nomes dos documentos para colorir os pontos projetados nas duas direções principais."
   ]
  },
  {
   "cell_type": "code",
   "execution_count": null,
   "metadata": {},
   "outputs": [],
   "source": []
  },
  {
   "cell_type": "markdown",
   "metadata": {},
   "source": [
    "### Exercício 2)\n",
    "A função <font color='blue'>rating_matrix()</font>, descrita abaixo, utiliza informações de avaliações de consumidores com relação a produtos e constroi uma matriz onde as linhas correspondem à consumidores e as linha aos produtos avaliados. A matriz gerada é retornada pela função. "
   ]
  },
  {
   "cell_type": "code",
   "execution_count": null,
   "metadata": {},
   "outputs": [],
   "source": [
    "def rating_matrix():\n",
    "    uir = np.loadtxt('ratings.txt')\n",
    "    users = np.unique(uir[:,0].astype(int))\n",
    "    items = np.unique(uir[:,1].astype(int))\n",
    "    R = np.zeros((users.shape[0],items.shape[0]))\n",
    "    for i in range(uir.shape[0]):\n",
    "        R[uir[i,0].astype(int)-1,uir[i,1].astype(int)-1] = uir[i,2]\n",
    "        \n",
    "    return(R)"
   ]
  },
  {
   "cell_type": "markdown",
   "metadata": {},
   "source": [
    "#### Exercício 2.1)\n",
    "Encontre os espaços latentes de consumidores e produtos atravéz da decomposição SVD."
   ]
  },
  {
   "cell_type": "code",
   "execution_count": null,
   "metadata": {},
   "outputs": [],
   "source": []
  },
  {
   "cell_type": "markdown",
   "metadata": {},
   "source": [
    "#### Exercício 2.2)\n",
    "Encontre os 10 produtos mais relevantes para um consumidor escolhido de forma aleatória."
   ]
  },
  {
   "cell_type": "code",
   "execution_count": null,
   "metadata": {},
   "outputs": [],
   "source": []
  },
  {
   "cell_type": "markdown",
   "metadata": {},
   "source": [
    "#### Exercício 2.3)\n",
    "Encontre os 3 produtos mais relevantes que o consumidor selecionado no exercício 2.2) ainda não tenha adquirido."
   ]
  },
  {
   "cell_type": "code",
   "execution_count": null,
   "metadata": {},
   "outputs": [],
   "source": []
  },
  {
   "cell_type": "markdown",
   "metadata": {},
   "source": [
    "#### Exercícios 2.4)\n",
    "Encontre os 10 consumidores mais parecidos com o consumidor selecionado no exercício 2.2) e verifique se eles adquiriram alguns dos 3 produtos mais relevantes não adquiridos pelo consumidor selecionado em 2.2)."
   ]
  },
  {
   "cell_type": "code",
   "execution_count": null,
   "metadata": {},
   "outputs": [],
   "source": []
  }
 ],
 "metadata": {
  "kernelspec": {
   "display_name": "Python 3",
   "language": "python",
   "name": "python3"
  },
  "language_info": {
   "codemirror_mode": {
    "name": "ipython",
    "version": 3
   },
   "file_extension": ".py",
   "mimetype": "text/x-python",
   "name": "python",
   "nbconvert_exporter": "python",
   "pygments_lexer": "ipython3",
   "version": "3.7.1"
  }
 },
 "nbformat": 4,
 "nbformat_minor": 2
}
