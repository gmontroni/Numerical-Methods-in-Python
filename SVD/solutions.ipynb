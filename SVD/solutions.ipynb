{
 "cells": [
  {
   "cell_type": "markdown",
   "metadata": {},
   "source": [
    "# <font color='blue'>Decomposição em Valores Singulares<br><br> (Singular Value Decomposition  - SVD)</font>\n",
    "\n",
    "## Solução dos Exercícios\n",
    "\n",
    "## Luis Gustavo Nonato  \n",
    "\n",
    "ICMC-USP\n",
    "\n",
    "----"
   ]
  },
  {
   "cell_type": "code",
   "execution_count": 1,
   "metadata": {},
   "outputs": [],
   "source": [
    "import numpy as np\n",
    "import matplotlib.pyplot as plt\n",
    "%matplotlib inline"
   ]
  },
  {
   "cell_type": "markdown",
   "metadata": {},
   "source": [
    "### Exercício 1) \n",
    "Considere a matriz $\\mathbf{A}$ abaixo cujos elementos são números inteiros no intervalo $[0,10)$ gerados randomicamente. Suponha que as colunas de $\\mathbf{A}$ sejam pontos em um espaço $\\mathbb{R}^n$. \n",
    "\n",
    "a) Qual o posto da matriz $\\mathbf{A}$?\n",
    "\n",
    "b) Encontre a matriz com metade do posto de $\\mathbf{A}$ que melhor aproxima $\\mathbf{A}$.\n",
    "\n",
    "c) Qual o erro de aproximação na norma $L^2$?"
   ]
  },
  {
   "cell_type": "code",
   "execution_count": 2,
   "metadata": {},
   "outputs": [],
   "source": [
    "n = 20\n",
    "A = np.random.randint(0,10,size=(n,n))"
   ]
  },
  {
   "cell_type": "markdown",
   "metadata": {},
   "source": [
    "$$\n",
    "det(A) = det(U\\Sigma V^\\top)=det(\\Sigma)=\\prod_{i=1}^n \\sqrt{\\lambda_i}\n",
    "$$"
   ]
  },
  {
   "cell_type": "code",
   "execution_count": 4,
   "metadata": {},
   "outputs": [
    {
     "name": "stdout",
     "output_type": "stream",
     "text": [
      "Algum valor singular zero?  False\n",
      "Erro de aproximação:  366.2500191104291\n"
     ]
    }
   ],
   "source": [
    "U,S,Vt = np.linalg.svd(A)\n",
    "\n",
    "print('Algum valor singular zero? ',np.any(S<1.0e-7)) # verificando se algum valor singular é zero\n",
    "\n",
    "# Se nenhum valor singular de A é zero,  \n",
    "# A é inversível (como você justifica esta afirmação), \n",
    "# logo A tem posto completo igual a len(S)\n",
    "\n",
    "r = int(len(S)*0.5)\n",
    "\n",
    "# Ar = UrSrVr^T\n",
    "Ar = np.dot(U[:,:r],np.dot(np.diag(S[:r]),Vt[:r,:]))\n",
    "\n",
    "error = np.linalg.norm(A.ravel() - Ar.ravel())**2 \n",
    "print('Erro de aproximação: ',error)"
   ]
  },
  {
   "cell_type": "markdown",
   "metadata": {},
   "source": [
    "### Exercício 2)\n",
    "Calcule o erro de aproximação do exercício anterior utilizando os valores singulares e justifique sua resposta:"
   ]
  },
  {
   "cell_type": "code",
   "execution_count": 5,
   "metadata": {},
   "outputs": [
    {
     "name": "stdout",
     "output_type": "stream",
     "text": [
      "Erro de aproximação:  366.250019110429\n"
     ]
    }
   ],
   "source": [
    "# O erro de aproximação é dada pela soma dos m-r menores \n",
    "# autovalores de A^TA (ou AA^T). Este fato é uma consequência\n",
    "# da demonstração da propriedade de aproximação de posto reduzido.\n",
    "\n",
    "print('Erro de aproximação: ',np.sum(S[r:]**2))"
   ]
  },
  {
   "cell_type": "markdown",
   "metadata": {},
   "source": [
    "### Exercício 3) \n",
    "Considere o conjunto de pontos, gerados na célula abaixo, armazenados como colunas da matriz $\\mathbf{X}$.\n",
    "\n",
    "a) Faça um scatter plot dos pontos e note que eles estão alinhados com uma reta, porém possuem um grau de ruído. \n",
    "\n",
    "b) Utilize SVD para remover o ruido dos dados, alinhando-os mais precisamente à forma de uma reta."
   ]
  },
  {
   "cell_type": "code",
   "execution_count": 13,
   "metadata": {},
   "outputs": [],
   "source": [
    "n = 100\n",
    "t = np.linspace(0,1,n)\n",
    "X = np.zeros((2,n))\n",
    "X[0,:] = 2*t\n",
    "X[1,:] = X[0,:]+np.random.uniform(-0.3,0.3,n)"
   ]
  },
  {
   "cell_type": "code",
   "execution_count": 8,
   "metadata": {},
   "outputs": [
    {
     "data": {
      "text/plain": [
       "<matplotlib.collections.PathCollection at 0x113059fd0>"
      ]
     },
     "execution_count": 8,
     "metadata": {},
     "output_type": "execute_result"
    },
    {
     "data": {
      "image/png": "[encoded data removed]",
      "text/plain": [
       "<Figure size 432x288 with 1 Axes>"
      ]
     },
     "metadata": {
      "needs_background": "light"
     },
     "output_type": "display_data"
    }
   ],
   "source": [
    "plt.scatter(X[0,:],X[1,:])"
   ]
  },
  {
   "cell_type": "code",
   "execution_count": 17,
   "metadata": {},
   "outputs": [
    {
     "name": "stdout",
     "output_type": "stream",
     "text": [
      "(2, 100)\n"
     ]
    },
    {
     "data": {
      "text/plain": [
       "[<matplotlib.lines.Line2D at 0x10adcac18>]"
      ]
     },
     "execution_count": 17,
     "metadata": {},
     "output_type": "execute_result"
    },
    {
     "data": {
      "image/png": "[encoded data removed]",
      "text/plain": [
       "<Figure size 432x288 with 1 Axes>"
      ]
     },
     "metadata": {
      "needs_background": "light"
     },
     "output_type": "display_data"
    }
   ],
   "source": [
    "U,S,Vt = np.linalg.svd(X)  # calculando SVD\n",
    " \n",
    "X1 = U[:,0].reshape(-1,1)*(S[0]*Vt[0,:].reshape(1,-1)) # zerando a segunda direção principal\n",
    "print(X1.shape)\n",
    "\n",
    "plt.scatter(X1[0,:],X1[1,:])\n",
    "plt.plot([0,-2*U[0,0]],[0,-2*U[1,0]],color='r')  # plotando a direcao principal"
   ]
  },
  {
   "cell_type": "code",
   "execution_count": 18,
   "metadata": {},
   "outputs": [
    {
     "data": {
      "text/plain": [
       "<matplotlib.collections.PathCollection at 0x114cb8f28>"
      ]
     },
     "execution_count": 18,
     "metadata": {},
     "output_type": "execute_result"
    },
    {
     "data": {
      "image/png": "[encoded data removed]",
      "text/plain": [
       "<Figure size 432x288 with 1 Axes>"
      ]
     },
     "metadata": {
      "needs_background": "light"
     },
     "output_type": "display_data"
    }
   ],
   "source": [
    "# na verdade podemos suavizar o ruido ao invez de zerá-lo\n",
    "suaviza = 0.3\n",
    "\n",
    "S[1] = S[1]*suaviza\n",
    "Xc = np.dot(U,np.dot(np.diag(S),Vt[:2,:]))\n",
    "\n",
    "plt.scatter(Xc[0,:],Xc[1,:])"
   ]
  },
  {
   "cell_type": "markdown",
   "metadata": {},
   "source": [
    "### Exercício 4)\n",
    "Considere a matriz abaixo onde as colunas correspondem às direções principais de um conjunto de dados no espaço $\\mathbb{R}^7$. Sabendo que as colunas estão ordenadas de acordo com as variâncias dos dados em ordem decrescente da esquerda para a direita e que as variâncias estão igualmente espaçadas no intervalo $[1^{-3},2]$. Construa um conjunto de $n$ pontos $\\mathbf{X}$ (cada ponto é uma coluna de $\\mathbf{X}$) cujas direções principais são dadas pela matriz abaixo.\n",
    "\n",
    "$$\n",
    "\\begin{bmatrix}\n",
    "-0.28 & -0.76  & 0.33  & 0.39 & -0.11 & -0.15 &  0.2 \\\\\n",
    "-0.47  & 0.41  & 0.17  & 0.58 & -0.12  & 0.39 & -0.27\\\\\n",
    "-0.41 & -0.29 & -0.21 & -0.48 & -0.04  & 0.68  & 0.1 \\\\\n",
    "-0.32 & -0.1  & -0.76  & 0.27 &  0.41 & -0.25 & -0.05\\\\\n",
    "-0.36 & -0.02  & 0.43 & -0.35 & 0.53 & -0.24 & -0.48\\\\\n",
    "-0.46  & 0.15 & -0.12 & -0.28 & -0.66 & -0.48 &  -0.05\\\\\n",
    "-0.3  &  0.36 &  0.2  & -0.05  & 0.29 & -0.1 &   0.8 \n",
    "\\end{bmatrix}\n",
    "$$\n",
    "\n",
    "Verifique a corretude dos dados gerados calculando suas direções principais associadas."
   ]
  },
  {
   "cell_type": "code",
   "execution_count": 39,
   "metadata": {
    "scrolled": true
   },
   "outputs": [
    {
     "name": "stdout",
     "output_type": "stream",
     "text": [
      "[2.00e+00 1.67e+00 1.33e+00 1.00e+00 6.67e-01 3.34e-01 1.00e-03]\n",
      "[[-0.33  0.22 -0.21  0.24  0.56  0.22]\n",
      " [ 0.19 -0.05  0.16 -0.1   0.4   0.13]\n",
      " [ 0.18  0.38 -0.14  0.48  0.03  0.11]\n",
      " [-0.24  0.36  0.35  0.33 -0.05  0.02]\n",
      " [ 0.25  0.27 -0.04 -0.05  0.31  0.11]\n",
      " [ 0.21 -0.07  0.18  0.27  0.11  0.33]\n",
      " [ 0.28  0.04  0.12 -0.13  0.17  0.06]]\n"
     ]
    }
   ],
   "source": [
    "import numpy as np\n",
    "\n",
    "U = np.asarray([[-0.28, -0.76,  0.33,  0.39, -0.11, -0.15,  0.2 ],\n",
    "                [-0.47,  0.41,  0.17,  0.58, -0.12,  0.39, -0.27],\n",
    "                [-0.41, -0.29, -0.21, -0.48, -0.04,  0.68,  0.1 ],\n",
    "                [-0.32, -0.10, -0.76,  0.27,  0.41, -0.25, -0.05],\n",
    "                [-0.36, -0.02,  0.43, -0.35,  0.53, -0.24, -0.48],\n",
    "                [-0.46,  0.15, -0.12, -0.28, -0.66, -0.48, -0.05],\n",
    "                [-0.30,  0.36,  0.20, -0.05,  0.29, -0.10,   0.8]]) \n",
    "\n",
    "# sabemos que a matriz de dados X deve respeitar\n",
    "# X = USV^T. Como conhecemos U e S, temos a liberdade de\n",
    "# escolher os autovetores de X^TX que dão origem à V. \n",
    "# Qualquer base ortonormal pode ser utilizada para \n",
    "# construir X^TX = VSV^T\n",
    "\n",
    "# gerando os autovalores\n",
    "S = np.linspace(1e-3,2,U.shape[0])[::-1]\n",
    "print(S)\n",
    "\n",
    "# calculando V\n",
    "# vamos assumir n=20 e construir uma base ortogonal com 20 vetores\n",
    "# utilizando Gram Schmidt\n",
    "\n",
    "T = np.random.uniform(0,1,size=(20,20))\n",
    "V, R = np.linalg.qr(T)\n",
    "\n",
    "# calculando uma base ortonormal como \n",
    "X = np.dot(U,np.dot(np.diag(np.sqrt(S)),V[:,:S.shape[0]].T))\n",
    "\n",
    "np.set_printoptions(precision=2)\n",
    "print(X[:,:6])"
   ]
  },
  {
   "cell_type": "code",
   "execution_count": 60,
   "metadata": {},
   "outputs": [
    {
     "name": "stdout",
     "output_type": "stream",
     "text": [
      "[2.00e+00 1.65e+00 1.33e+00 9.96e-01 6.65e-01 3.33e-01 9.98e-04]\n",
      "1.0004686320503846\n",
      "-0.9961059507779878\n",
      "0.9992666102033042\n",
      "0.9974538340120045\n",
      "0.9983178095946099\n",
      "-0.9987293091560934\n",
      "-0.9991191681905718\n"
     ]
    }
   ],
   "source": [
    "# verificando corretude\n",
    "\n",
    "Sx,Ux = np.linalg.eigh(np.dot(X,X.T)) # autovetores da matrix de covariancia\n",
    "Sx = Sx[::-1]            # invertendo a ordem para decrescente\n",
    "Ux = np.flip(Ux,axis=1)\n",
    "print(Sx)\n",
    "\n",
    "for i in range(X.shape[0]):\n",
    "    print(np.dot(Ux[:,i].T,U[:,i]))"
   ]
  },
  {
   "cell_type": "markdown",
   "metadata": {},
   "source": [
    "### Exercício 5)\n",
    "Construa uma transformação linear que leve os vetores $v_1=[1,0,1]$ e $v_2=[0,1,0]$ nos vetores $u_1=[2,1]$ e $u_2=[-0.5,1]$. Verifique a corretude da transformação construida."
   ]
  },
  {
   "cell_type": "code",
   "execution_count": 11,
   "metadata": {},
   "outputs": [
    {
     "name": "stdout",
     "output_type": "stream",
     "text": [
      "A imagem de [1 0 1] é [2. 1.]\n",
      "A imagem de [0 1 0] é [-0.5  1. ]\n"
     ]
    }
   ],
   "source": [
    "import numpy as np\n",
    "# Solução\n",
    "\n",
    "# Note que os vetores u1,u2 são ortogonais e que v1,v2 tambem sao ortogonais\n",
    "# logo, podem ser considerados com colunas da decomposição SVD da trasnformação procurada,\n",
    "# porem os vetores precisam ter norma 1\n",
    "# Os elementos da matriz diagonal envolvida no SVD devem ser escalares que garantam as\n",
    "# escalas adequadas\n",
    "\n",
    "u1 = np.array([2,1])\n",
    "nu1 = np.linalg.norm(u1)\n",
    "\n",
    "u2 = np.array([-0.5,1])\n",
    "nu2 = np.linalg.norm(u2)\n",
    "\n",
    "v1 = np.array([1,0,1])\n",
    "nv1 = np.linalg.norm(v1)\n",
    "\n",
    "v2 = np.array([0,1,0])\n",
    "nv2 = np.linalg.norm(v2)\n",
    "\n",
    "U = np.zeros((2,2))\n",
    "U[:,0] = u1/nu1\n",
    "U[:,1] = u2/nu2\n",
    "\n",
    "Vt = np.zeros((2,3))\n",
    "Vt[0,:] = v1/nv1\n",
    "Vt[1,:] = v2/nv2\n",
    "\n",
    "s1 = (nu1/nv1)**2\n",
    "s2 = (nu2/nv2)**2\n",
    "S = np.diag(np.sqrt(np.array([s1,s2])))\n",
    "\n",
    "A = np.linalg.multi_dot([U,S,Vt])\n",
    "\n",
    "print('A imagem de',v1,'é',np.dot(A,v1))\n",
    "print('A imagem de',v2,'é',np.dot(A,v2))"
   ]
  },
  {
   "cell_type": "markdown",
   "metadata": {},
   "source": [
    "### Exercício 6)\n",
    "Considere a matriz gerada na célula abaixo, cujas colunas correspondem a pontos em um espaço de dimensão $20$. Utilize análise de componentes principais (calculada via SVD) para projetar os pontos em um espaço de dimensão 2 e visualize os pontos projetados através de um scatter plot."
   ]
  },
  {
   "cell_type": "code",
   "execution_count": 12,
   "metadata": {},
   "outputs": [],
   "source": [
    "from sklearn.datasets import make_blobs\n",
    "X, _ = make_blobs(200,20)\n",
    "X = X.T"
   ]
  },
  {
   "cell_type": "code",
   "execution_count": 13,
   "metadata": {},
   "outputs": [
    {
     "data": {
      "text/plain": [
       "<matplotlib.collections.PathCollection at 0x12a818c50>"
      ]
     },
     "execution_count": 13,
     "metadata": {},
     "output_type": "execute_result"
    },
    {
     "data": {
      "image/png": "[encoded data removed]",
      "text/plain": [
       "<Figure size 432x288 with 1 Axes>"
      ]
     },
     "metadata": {
      "needs_background": "light"
     },
     "output_type": "display_data"
    }
   ],
   "source": [
    "U,S,Vt = np.linalg.svd(X)  # calculando SVD\n",
    "\n",
    "X_projetado = np.dot(np.diag(S[:2]),Vt[:2,:])  # projeção nas duas direções principais\n",
    "  \n",
    "fig, ax = plt.subplots(1,1)\n",
    "ax.set_aspect('equal')\n",
    "ax.scatter(X_projetado[0,:],X_projetado[1,:])"
   ]
  }
 ],
 "metadata": {
  "kernelspec": {
   "display_name": "Python 3",
   "language": "python",
   "name": "python3"
  },
  "language_info": {
   "codemirror_mode": {
    "name": "ipython",
    "version": 3
   },
   "file_extension": ".py",
   "mimetype": "text/x-python",
   "name": "python",
   "nbconvert_exporter": "python",
   "pygments_lexer": "ipython3",
   "version": "3.7.1"
  }
 },
 "nbformat": 4,
 "nbformat_minor": 2
}
