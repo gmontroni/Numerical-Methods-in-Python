{
 "cells": [
  {
   "cell_type": "markdown",
   "metadata": {},
   "source": [
    "# <font color='blue'>Decomposição em Valores Singulares (SVD) - Aplicações</font>\n",
    "\n",
    "### <font color='blue'> Solução dos Exercícios</font>\n",
    "**Material Produzido por Luis Gustavo Nonato**<br>\n",
    "**Cemeai - ICMC/USP São Carlos**\n",
    "\n",
    "---"
   ]
  },
  {
   "cell_type": "code",
   "execution_count": null,
   "metadata": {},
   "outputs": [],
   "source": [
    "import pandas as pd\n",
    "import numpy as np\n",
    "import matplotlib.pyplot as plt\n",
    "from sklearn.decomposition import TruncatedSVD\n",
    "from sklearn.cluster import KMeans\n",
    "from sklearn.preprocessing import StandardScaler"
   ]
  },
  {
   "cell_type": "markdown",
   "metadata": {},
   "source": [
    "### Exercício 1)\n",
    "Considere a base de dados `bow_3classes.csv` que contém a frequência de palavras em um conjutno de documentos, ou seja, cada entrada $ij$ da matriz contém o número de vezes que a palavra $j$ aparece no documento $i$.\n",
    "\n",
    "A identificação dos documentos, listada na primeira coluna do arquivo, é formada por duas letras e um número, onde as duas letras identificam a qual grupo o documento pertence. \n",
    "Por exemplo, o documento `ch22` pertence a classe de assuntos ligados à \"cristianismo\" e o documento `gr15` a classe de documentos de assuntos gerais.\n",
    "\n",
    "A função <font color='blue'>read_file()</font> abaixo lê o arquivo `bow_3classes.csv` e retorna uma matriz _palavra$\\times$documentos_, uma lista de palavras que correspondem às linhas da matriz e uma lista com os nomes dos documentos que correspondem às colunas da matriz. Assim, cada linha da matriz retornada corresponde a frequência de ocorrência de uma palavra em cada documento e as colunas correspondem aos documentos."
   ]
  },
  {
   "cell_type": "code",
   "execution_count": null,
   "metadata": {},
   "outputs": [],
   "source": [
    "def read_file():\n",
    "    df = pd.read_csv('bow_3classes.csv',index_col=0)\n",
    "    X = df.values\n",
    "    X = StandardScaler().fit_transform(X)\n",
    "    X = X.T\n",
    "    docs = df.index.values\n",
    "    words = df.columns.values\n",
    "    return(X,docs,words)"
   ]
  },
  {
   "cell_type": "markdown",
   "metadata": {},
   "source": [
    "#### Exercício 1.1)\n",
    "Escreva um cógido para extrair os tópicos associados à coleção de documentos utilizando a representação latente fornecida pelo SVD truncado. Analise as classes dos documentos para encontar o número de tópicos que devem ser extraídos."
   ]
  },
  {
   "cell_type": "code",
   "execution_count": 28,
   "metadata": {},
   "outputs": [
    {
     "name": "stdout",
     "output_type": "stream",
     "text": [
      "Classes de documentos: ['gr', 'au', 'ch']\n"
     ]
    }
   ],
   "source": [
    "X,d,w = read_file()\n",
    "\n",
    "classes = list(set([a[:2] for a in d]))\n",
    "print('Classes de documentos:',classes)"
   ]
  },
  {
   "cell_type": "code",
   "execution_count": null,
   "metadata": {},
   "outputs": [],
   "source": [
    "# vamos extrair 3 tópicos, pois os documentos pertencem a apenas 3 classes distintas\n",
    "\n",
    "Tsvd = TruncatedSVD(n_components=3)  \n",
    "U = Tsvd.fit_transform(X)\n",
    "Sigma = Tsvd.explained_variance_ratio_\n",
    "Vt = Tsvd.components_"
   ]
  },
  {
   "cell_type": "markdown",
   "metadata": {},
   "source": [
    "#### Exercício 1.2)\n",
    "Clusterize os documentos no espaço latente em um número de clusters igual ao número de tópicos extraídos."
   ]
  },
  {
   "cell_type": "code",
   "execution_count": 29,
   "metadata": {},
   "outputs": [],
   "source": [
    "# identificando documentos dentro do mesmo tópico clusterizando as colunas de Vt em 3 grupos\n",
    "kmeans = KMeans(n_clusters=3, random_state=1).fit(Vt.T)\n",
    "docs_semelhantes = kmeans.labels_"
   ]
  },
  {
   "cell_type": "markdown",
   "metadata": {},
   "source": [
    "#### Exercício 1.3)\n",
    "Projete a representação latente dos documentos em um espaço bidimensional gerado pelas duas direções principais (dois tópicos principais). Utilize cores para indicar a qual grupo cada documento pertece."
   ]
  },
  {
   "cell_type": "code",
   "execution_count": 44,
   "metadata": {},
   "outputs": [
    {
     "data": {
      "text/plain": [
       "<matplotlib.collections.PathCollection at 0x12dc6c710>"
      ]
     },
     "execution_count": 44,
     "metadata": {},
     "output_type": "execute_result"
    },
    {
     "data": {
      "image/png": "[encoded data removed]",
      "text/plain": [
       "<Figure size 432x288 with 1 Axes>"
      ]
     },
     "metadata": {},
     "output_type": "display_data"
    }
   ],
   "source": [
    "# projetando os docs_semelhantes nas duas direções principais\n",
    "prj = np.dot(np.diag(Sigma[:2]),Vt[:2:])\n",
    "\n",
    "plt.xticks([])\n",
    "plt.yticks([])\n",
    "plt.xlim(-0.01,0.02)\n",
    "plt.ylim(-0.01,0.01)\n",
    "plt.scatter(prj[0,:],prj[1,:],c=docs_semelhantes)"
   ]
  },
  {
   "cell_type": "markdown",
   "metadata": {},
   "source": [
    "#### Exercício 1.4)\n",
    " Compare visualmente os grupos obtidos com o método de agrupamento com as classes reais dos documentos. Em outras palavras, utilize as classes informadas nos nomes dos documentos para colorir os pontos projetados nas duas direções principais."
   ]
  },
  {
   "cell_type": "code",
   "execution_count": 45,
   "metadata": {},
   "outputs": [
    {
     "data": {
      "text/plain": [
       "<matplotlib.collections.PathCollection at 0x12dce12e8>"
      ]
     },
     "execution_count": 45,
     "metadata": {},
     "output_type": "execute_result"
    },
    {
     "data": {
      "image/png": "[encoded data removed]",
      "text/plain": [
       "<Figure size 576x288 with 2 Axes>"
      ]
     },
     "metadata": {},
     "output_type": "display_data"
    }
   ],
   "source": [
    "# projetando os docs_semelhantes nas duas direções principais\n",
    "prj = np.dot(np.diag(Sigma[:2]),Vt[:2:])\n",
    "\n",
    "fig, (ax1,ax2) = plt.subplots(1,2,figsize=(8,4))\n",
    "ax1.set_xticks([])\n",
    "ax1.set_yticks([])\n",
    "ax1.set_xlim(-0.01,0.02)\n",
    "ax1.set_ylim(-0.01,0.01)\n",
    "ax1.scatter(prj[0,:],prj[1,:],c=docs_semelhantes)\n",
    "\n",
    "# comparando os clusters com os rótulos das classes originais\n",
    "\n",
    "# transformando as classes dos documentos em inteiros 0,1 e 2 para poder colorir o plot\n",
    "cldic = {classes[i]:i for i in range(len(classes))}\n",
    "classes_int = [cldic[a[:2]] for a in d]\n",
    "\n",
    "ax2.set_xticks([])\n",
    "ax2.set_yticks([])\n",
    "ax2.set_xlim(-0.01,0.02)\n",
    "ax2.set_ylim(-0.01,0.01)\n",
    "ax2.scatter(prj[0,:],prj[1,:],c=classes_int)"
   ]
  },
  {
   "cell_type": "markdown",
   "metadata": {},
   "source": [
    "### Exercício 2)\n",
    "A função <font color='blue'>rating_matrix()</font>, descrita abaixo, utiliza informações de avaliações de consumidores com relação a produtos e constroi uma matriz onde as linhas correspondem à consumidores e as linha aos produtos avaliados. A matriz gerada é retornada pela função. "
   ]
  },
  {
   "cell_type": "code",
   "execution_count": 72,
   "metadata": {},
   "outputs": [],
   "source": [
    "def rating_matrix():\n",
    "    uir = np.loadtxt('ratings.txt')\n",
    "    users = np.unique(uir[:,0].astype(int))\n",
    "    items = np.unique(uir[:,1].astype(int))\n",
    "    R = np.zeros((users.shape[0],items.shape[0]))\n",
    "    for i in range(uir.shape[0]):\n",
    "        R[uir[i,0].astype(int)-1,uir[i,1].astype(int)-1] = uir[i,2]\n",
    "        \n",
    "    return(R)"
   ]
  },
  {
   "cell_type": "markdown",
   "metadata": {},
   "source": [
    "#### Exercício 2.1)\n",
    "Encontre os espaços latentes de consumidores e produtos atravéz da decomposição SVD."
   ]
  },
  {
   "cell_type": "code",
   "execution_count": 79,
   "metadata": {},
   "outputs": [],
   "source": [
    "R = rating_matrix()\n",
    "\n",
    "k = 10\n",
    "\n",
    "Rsvd = TruncatedSVD(n_components=k)  \n",
    "Uk = Tsvd.fit_transform(R)\n",
    "Sk = Tsvd.explained_variance_ratio_\n",
    "Vkt = Tsvd.components_\n",
    "\n",
    "# calculando as representacoes latentes de consumidores C e produtos P \n",
    "k = 3\n",
    "C = np.dot(Uk[:,:k],np.diag(np.sqrt(Sk[:k])))\n",
    "P = np.dot(np.diag(np.sqrt(Sk[:k])),Vkt[:k,:])"
   ]
  },
  {
   "cell_type": "markdown",
   "metadata": {},
   "source": [
    "#### Exercício 2.2)\n",
    "Encontre os 10 produtos mais relevantes para um consumidor escolhido de forma aleatória."
   ]
  },
  {
   "cell_type": "code",
   "execution_count": 103,
   "metadata": {},
   "outputs": [
    {
     "name": "stdout",
     "output_type": "stream",
     "text": [
      "Os 10 produtos mais importantes para o consumidor 5 \n",
      " [  6  10   1  16 206   0 235  12   7   4]\n"
     ]
    }
   ],
   "source": [
    "# encontrado os produtos mais relevantes para o cosumidor C[i]\n",
    "i = int(np.random.randint(0,R.shape[0],1))  # escolhendo um consumidor aleatoriamente\n",
    "rij = np.dot(C[i,:],P).ravel()   # relevancia dos produtos para o consumidor C[i]\n",
    "\n",
    "sij = np.argsort(rij)[::-1]   # ordenando a relevancia dos produtos em ordem decrescente\n",
    "print('Os 10 produtos mais importantes para o consumidor',i,'\\n',sij[:10])"
   ]
  },
  {
   "cell_type": "markdown",
   "metadata": {},
   "source": [
    "#### Exercício 2.3)\n",
    "Encontre os 3 produtos mais relevantes que o consumidor selecionado no exercício 2.2) ainda não tenha adquirido."
   ]
  },
  {
   "cell_type": "code",
   "execution_count": 104,
   "metadata": {},
   "outputs": [
    {
     "name": "stdout",
     "output_type": "stream",
     "text": [
      "[10, 206, 0]\n"
     ]
    }
   ],
   "source": [
    "# encontrando os 3 produtos mais importantes ainda não adquiridos pelo consumidor C[i]\n",
    "nao_aquiridos = np.where(R[i]==0)[0]\n",
    "\n",
    "produtos_nao_adquiridos = [j for j in sij if j in nao_aquiridos]\n",
    "\n",
    "# 3 produtos mais relevantes ainda nao adquiridos\n",
    "print(produtos_nao_adquiridos[:3])"
   ]
  },
  {
   "cell_type": "markdown",
   "metadata": {},
   "source": [
    "#### Exercícios 2.4)\n",
    "Encontre os 10 consumidores mais parecidos com o consumidor selecionado no exercício 2.2) e verifique se eles adquiriram alguns dos 3 produtos mais relevantes não adquiridos pelo consumidor selecionado em 2.2)."
   ]
  },
  {
   "cell_type": "code",
   "execution_count": 105,
   "metadata": {},
   "outputs": [
    {
     "name": "stdout",
     "output_type": "stream",
     "text": [
      "consumidor escolhido C[ 5 ] [0. 0. 0.]\n",
      "os 10 consumidores mais parecidos são\n",
      "consumidor escolhido C[ 741 ] [0. 4. 0.]\n",
      "consumidor escolhido C[ 328 ] [0.  1.  0.5]\n",
      "consumidor escolhido C[ 1271 ] [0. 2. 3.]\n",
      "consumidor escolhido C[ 879 ] [0. 0. 3.]\n",
      "consumidor escolhido C[ 1211 ] [3.  2.5 0. ]\n",
      "consumidor escolhido C[ 959 ] [0. 3. 2.]\n",
      "consumidor escolhido C[ 1144 ] [0.  3.5 0. ]\n",
      "consumidor escolhido C[ 751 ] [3.5 3.  0. ]\n",
      "consumidor escolhido C[ 86 ] [0. 2. 3.]\n",
      "consumidor escolhido C[ 771 ] [0. 4. 3.]\n"
     ]
    }
   ],
   "source": [
    "# encontrando os 10 consumidores mais pareceidos com o consumidor C[i]\n",
    "cij = np.dot(C[i,:]/np.linalg.norm(C[i,:]),C.T/np.linalg.norm(C.T,axis=0))\n",
    "cmm = np.argsort(cij)[::-1].ravel()\n",
    "\n",
    "# verificando se os 5 consumidores mais parecidos com C[i] avaliaram os 3 produtos mais \n",
    "# relevantes para C[i]\n",
    "print('consumidor escolhido C[',i,']',R[i,produtos_nao_adquiridos[:3]])\n",
    "print('os 10 consumidores mais parecidos são')\n",
    "for j in range(1,11):\n",
    "    print('consumidor escolhido C[',cmm[j],']',R[cmm[j],produtos_nao_adquiridos[:3]])\n"
   ]
  }
 ],
 "metadata": {
  "kernelspec": {
   "display_name": "Python 3",
   "language": "python",
   "name": "python3"
  },
  "language_info": {
   "codemirror_mode": {
    "name": "ipython",
    "version": 3
   },
   "file_extension": ".py",
   "mimetype": "text/x-python",
   "name": "python",
   "nbconvert_exporter": "python",
   "pygments_lexer": "ipython3",
   "version": "3.7.1"
  }
 },
 "nbformat": 4,
 "nbformat_minor": 2
}
