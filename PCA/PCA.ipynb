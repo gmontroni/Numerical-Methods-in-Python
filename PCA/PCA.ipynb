{
 "cells": [
  {
   "cell_type": "markdown",
   "metadata": {
    "colab_type": "text",
    "id": "9kdygJxF-KGC"
   },
   "source": [
    "# <font color='blue'> Análise de Componentes Principais</font>\n",
    "\n",
    "### Material produzido por Luis Gustavo Nonato\n",
    "\n",
    "---\n",
    "ICMC-USP"
   ]
  },
  {
   "cell_type": "markdown",
   "metadata": {
    "colab_type": "text",
    "id": "VUTnR8cS-KGG"
   },
   "source": [
    "## Conteúdo\n",
    "- Mudança de Base\n",
    "- Conceitos Fundamentais \n",
    "  - Covariância\n",
    "  - Matriz de Covariância\n",
    "- Componentes Principais\n",
    "  - Propriedades\n",
    "- Cálculo das Componentes Principais\n",
    "\n",
    "----\n",
    "\n",
    "Bibliograpia:\n",
    "- [A Tutorial on Principal Components Analysis,  Jonathon Shlens](https://arxiv.org/pdf/1404.1100.pdf)\n",
    "- [Principal Component Analysis,\n",
    "H. Abdi, L.J. Williams](https://wwwpub.utdallas.edu/~herve/abdi-wireCS-PCA2010-inpress.pdf)"
   ]
  },
  {
   "cell_type": "markdown",
   "metadata": {},
   "source": [
    "## <font color='blue'> Mudança de base </font>"
   ]
  },
  {
   "cell_type": "markdown",
   "metadata": {},
   "source": [
    "Suponha $\\mathbf{x}=a_1\\mathbf{v}_1+\\ldots+a_k\\mathbf{v}_k$, onde $V=\\{\\mathbf{v}_1,\\ldots,\\mathbf{v}_k\\}$ é uma base para o espaço $\\mathbb{R}^k$ e $a_1,\\ldots,a_k$ as coordenadas de $\\mathbf{x}$ na base $V$, que denotamos como:\n",
    "\n",
    "$$\n",
    "[\\mathbf{x}]_V=\\begin{bmatrix} a_1 \\\\ \\vdots \\\\ a_k \\end{bmatrix}\n",
    "$$\n",
    "\n",
    "Considere uma outra base $W=\\{\\mathbf{w}_1,\\ldots,\\mathbf{w}_k\\}$ para $\\mathbb{R}^k$ tal que $\\mathbf{x}=c_1\\mathbf{w}_1+\\ldots+c_k\\mathbf{w}_k$, ou seja,\n",
    "\n",
    "$$\n",
    "[\\mathbf{x}]_W=\\begin{bmatrix} c_1 \\\\ \\vdots \\\\ c_k \\end{bmatrix}\n",
    "$$\n",
    "\n",
    "Temos que os vetores $\\mathbf{w}_i$ podem ser escritos na base $V$, ou seja,\n",
    "\n",
    "$$\n",
    "\\mathbf{w}_i = b_{1i}\\mathbf{v}_1+\\cdots+b_{ki}\\mathbf{v}_k\\\\\n",
    "\\Downarrow\\\\\n",
    "\\begin{bmatrix}\n",
    "| & & | \\\\\n",
    "\\mathbf{w}_1 & \\cdots & \\mathbf{w}_k\\\\\n",
    "| & & | \n",
    "\\end{bmatrix}=\n",
    "\\begin{bmatrix}\n",
    "| & & | \\\\\n",
    "\\mathbf{v}_1 & \\cdots & \\mathbf{v}_k\\\\\n",
    "| & & | \n",
    "\\end{bmatrix}\n",
    "\\begin{bmatrix}\n",
    "b_{11} & \\cdots & b_{ik} \\\\\n",
    " & \\vdots & \\\\\n",
    "b_{k1} & \\cdots & b_{kk} \n",
    "\\end{bmatrix}\n",
    "$$\n",
    "\n",
    "Portanto:\n",
    "\n",
    "$$\n",
    "\\mathbf{x} = \n",
    "\\begin{bmatrix}\n",
    "| & & | \\\\\n",
    "\\mathbf{w}_1 & \\cdots & \\mathbf{w}_k\\\\\n",
    "| & & | \n",
    "\\end{bmatrix}\n",
    "[\\mathbf{x}]_W=\n",
    "\\begin{bmatrix}\n",
    "| & & | \\\\\n",
    "\\mathbf{w}_1 & \\cdots & \\mathbf{w}_k\\\\\n",
    "| & & | \n",
    "\\end{bmatrix}\n",
    "\\begin{bmatrix}\n",
    "c_1 \\\\ \\vdots \\\\ c_k\n",
    "\\end{bmatrix}=\n",
    "\\begin{bmatrix}\n",
    "| & & | \\\\\n",
    "\\mathbf{v}_1 & \\cdots & \\mathbf{v}_k\\\\\n",
    "| & & | \n",
    "\\end{bmatrix}\n",
    "\\begin{bmatrix}\n",
    "b_{11} & \\cdots & b_{ik} \\\\\n",
    " & \\vdots & \\\\\n",
    "b_{k1} & \\cdots & b_{kk} \n",
    "\\end{bmatrix}\n",
    "\\begin{bmatrix}\n",
    "c_1 \\\\ \\vdots \\\\ c_k\n",
    "\\end{bmatrix}\n",
    "$$\n",
    "\n",
    "Sabemos que a representação de um vetor em uma dada base é única, logo temos que:\n",
    "\n",
    "$$\n",
    "\\underbrace{\\begin{bmatrix}\n",
    "b_{11} & \\cdots & b_{ik} \\\\\n",
    " & \\vdots & \\\\\n",
    "b_{k1} & \\cdots & b_{kk} \n",
    "\\end{bmatrix}}_{\\mathbf{B}}\n",
    "\\begin{bmatrix}\n",
    "c_1 \\\\ \\vdots \\\\ c_k\n",
    "\\end{bmatrix}=\n",
    "\\begin{bmatrix}\n",
    "a_1 \\\\ \\vdots \\\\ a_k\n",
    "\\end{bmatrix}\n",
    "$$\n",
    "\n",
    "Em outras palavras, \n",
    "\n",
    "$$\n",
    "[\\mathbf{x}]_V = \\mathbf{B}[\\mathbf{x}]_W\n",
    "$$\n",
    "\n",
    "A matriz $\\mathbf{B}$ é chamada de matriz de mudança de base (da  base $W$ para base $V$)."
   ]
  },
  {
   "cell_type": "markdown",
   "metadata": {},
   "source": [
    "## <font color='blue'> Conceitos Fundamentais </font>"
   ]
  },
  {
   "cell_type": "markdown",
   "metadata": {
    "colab_type": "text",
    "id": "vhW3jQ46-KGc"
   },
   "source": [
    "### Covariância\n",
    "Considere duas sequências de valores $\\mathbf{x}=\\{x_1,x_2,\\ldots,x_k\\}$ e $\\mathbf{y}=\\{y_1,y_2,\\ldots,y_k\\}$. \n",
    "\n",
    "A covariância entre $\\mathbf{x}$ e $\\mathbf{y}$ é definida como:\n",
    "$$\n",
    "cov(\\mathbf{x},\\mathbf{y}) = \\frac{1}{n-1}\\sum_i (x_i-\\mu_x)(y_i-\\mu_y)\n",
    "$$\n",
    "onde $\\mu_x=\\frac{1}{n}\\sum_i x_i$ e $\\mu_y=\\frac{1}{n}\\sum_i y_i$ são a média dos valores de $\\mathbf{x}$ e $\\mathbf{y}$, respectivamente.\n",
    "\n",
    "Os valores $cov(\\mathbf{x},\\mathbf{x}) = \\frac{1}{n-1}\\sum_i (x_i-\\mu_x)^2$ é a variância de $\\mathbf{x}$."
   ]
  },
  {
   "cell_type": "code",
   "execution_count": 3,
   "metadata": {
    "colab": {
     "base_uri": "https://localhost:8080/",
     "height": 335
    },
    "colab_type": "code",
    "executionInfo": {
     "elapsed": 2431,
     "status": "ok",
     "timestamp": 1584827853365,
     "user": {
      "displayName": "Luis Gustavo Nonato",
      "photoUrl": "",
      "userId": "16109025348268293164"
     },
     "user_tz": 180
    },
    "id": "XhM9Mmro7P-B",
    "outputId": "c4c0d263-071b-415f-cd68-f0480447fe94"
   },
   "outputs": [
    {
     "data": {
      "image/png": "[encoded data removed]",
      "text/plain": [
       "<Figure size 864x432 with 2 Axes>"
      ]
     },
     "metadata": {
      "needs_background": "light"
     },
     "output_type": "display_data"
    }
   ],
   "source": [
    "import matplotlib.pyplot as plt\n",
    "import numpy as np\n",
    "\n",
    "n=100\n",
    "X = np.zeros((2,n))\n",
    "X[0,:] = np.random.uniform(-1,1,size=(1,n))\n",
    "X[1,:] = 4*X[0,:]+np.random.uniform(-0.15,0.15,size=(1,n))\n",
    "\n",
    "plt.rcParams['figure.figsize'] = [12, 6]\n",
    "f, (ax1, ax2)  = plt.subplots(1,2)\n",
    "\n",
    "ax1.set_aspect('equal')\n",
    "ax1.axis('off')\n",
    "ax1.scatter(X[0,:],X[1,:],marker='o',color='red',edgecolor='black', linewidth='1');\n",
    "ax1.plot([0,0],[-5,5],color='black');\n",
    "ax1.plot([-5,5],[0,0],color='black');\n",
    "ax1.plot([0,0],[-4,4],color='blue',linewidth=5);\n",
    "ax1.plot([0,1],[4,4],':k');\n",
    "ax1.plot([0,-1],[-4,-4],':k');\n",
    "ax1.annotate('variancia da coordenada y', xy=(-0.05, 3), xytext=(-6, 3),\n",
    "             arrowprops=dict(facecolor='black', shrink=0.05),\n",
    "             );\n",
    "\n",
    "ax2.set_aspect('equal')\n",
    "ax2.axis('off')\n",
    "ax2.scatter(X[0,:],X[1,:],marker='o',color='red',edgecolor='black', linewidth='1');\n",
    "ax2.plot([0,0],[-5,5],color='black');\n",
    "ax2.plot([-5,5],[0,0],color='black');\n",
    "ax2.plot([-1,1],[0,0],color='blue',linewidth=5);\n",
    "ax2.plot([1,1],[4,0],':k');\n",
    "ax2.plot([-1,-1],[-4,0],':k');\n",
    "ax2.annotate('variancia da coordenada x', xy=(-0.5, 0), xytext=(-6, 2),\n",
    "             arrowprops=dict(facecolor='black', shrink=0.05),\n",
    "             );"
   ]
  },
  {
   "cell_type": "code",
   "execution_count": 2,
   "metadata": {
    "colab": {
     "base_uri": "https://localhost:8080/",
     "height": 373
    },
    "colab_type": "code",
    "executionInfo": {
     "elapsed": 802,
     "status": "ok",
     "timestamp": 1584828281453,
     "user": {
      "displayName": "Luis Gustavo Nonato",
      "photoUrl": "",
      "userId": "16109025348268293164"
     },
     "user_tz": 180
    },
    "id": "G1r6w8o-Gxh7",
    "outputId": "3be26e47-74f2-4e38-bf1c-a593c8e37a5e"
   },
   "outputs": [
    {
     "data": {
      "image/png": "[encoded data removed]",
      "text/plain": [
       "<Figure size 864x432 with 2 Axes>"
      ]
     },
     "metadata": {
      "needs_background": "light"
     },
     "output_type": "display_data"
    }
   ],
   "source": [
    "import matplotlib.pyplot as plt\n",
    "import numpy as np\n",
    "\n",
    "\n",
    "plt.rcParams['figure.figsize'] = [12, 6]\n",
    "f, (ax1, ax2)  = plt.subplots(1,2)\n",
    "\n",
    "n = 100\n",
    "\n",
    "#### figura da esquerda\n",
    "Xc = np.zeros((2,n))\n",
    "Xc[0,:] = np.random.uniform(-1,1,size=(1,n))\n",
    "Xc[1,:] = Xc[0,:]+np.random.uniform(-0.15,0.15,size=(1,n))\n",
    "Xc[0,0] = 0.95\n",
    "Xc[1,0] = 0.8\n",
    "Xc[0,1] = -0.1\n",
    "Xc[1,1] = 0.1\n",
    "\n",
    "ax1.axis('off')\n",
    "ax1.scatter(Xc[0,:],Xc[1,:],marker='o',color='red',edgecolor='black', linewidth='1');\n",
    "ax1.plot([0,0],[-1,1],color='black');\n",
    "ax1.plot([-1,1],[0,0],color='black');\n",
    "ax1.set_title('alta covariancia');\n",
    "ax1.text(Xc[0,0]+0.1, Xc[1,0], r'$(x\\uparrow,y\\uparrow)$');\n",
    "ax1.plot([Xc[0,0],Xc[0,0],0],[0,Xc[1,0],Xc[1,0]],'--k');\n",
    "ax1.text(Xc[0,1]-0.4, Xc[1,1], r'$(x\\downarrow,y\\downarrow)$');\n",
    "ax1.plot([Xc[0,1],Xc[0,1],0],[0,Xc[1,1],Xc[1,1]],'--k');\n",
    "\n",
    "#### figura da direita\n",
    "Xnc = np.zeros((2,n))\n",
    "Xnc[0,:] = np.random.uniform(-1,1,size=(1,n))\n",
    "Xnc[1,:] = np.random.uniform(-1,1,size=(1,n))\n",
    "Xnc[0,0] = 0.95\n",
    "Xnc[1,0] = 0.1\n",
    "\n",
    "ax2.axis('off')\n",
    "ax2.scatter(Xnc[0,:],Xnc[1,:],marker='o',color='red',edgecolor='black', linewidth='1');\n",
    "ax2.plot([0,0],[-1,1],color='black');\n",
    "ax2.plot([-1,1],[0,0],color='black');\n",
    "ax2.set_title('covariancia zero');\n",
    "ax2.text(Xnc[0,0]+0.1, Xnc[1,0], r'$(x\\uparrow,y\\downarrow)$');\n",
    "ax2.plot([Xnc[0,0],Xnc[0,0],0],[0,Xnc[1,0],Xnc[1,0]],'--k');"
   ]
  },
  {
   "cell_type": "markdown",
   "metadata": {},
   "source": [
    "### Matriz de Covariância\n",
    "\n",
    "Considere $\\mathbf{X}=\\{\\mathbf{x}_1,\\ldots,\\mathbf{x}_n\\} $ um conjunto de pontos em  $\\mathbb{R}^d$. \n",
    "\n",
    "Pode-se organizar os pontos como colunas de uma matriz $\\mathbf{X}$ (matriz de dados) com dimensões $d\\times n$:\n",
    "\n",
    "$$\n",
    "   \\mathbf{X}=\n",
    "    \\begin{bmatrix}\n",
    "      |&|&&|\\\\\n",
    "      \\mathbf{x}_1&\\mathbf{x}_2&\\dots&\\mathbf{x}_n\\\\\n",
    "      |&|&&|\n",
    "    \\end{bmatrix}=\n",
    "    \\begin{bmatrix}\n",
    "      x_{11}                & {x_{12}} &\\dots  & x_{1n}\\\\\n",
    "      {x_{21}} & x_{22}               &\\dots  & {x_{2n}}\\\\\n",
    "      \\vdots               &\\vdots               &\\ddots &\\vdots\\\\\n",
    "      x_{d1}                & {x_{d2}}&\\dots  & x_{dn}\n",
    "    \\end{bmatrix}\n",
    "$$\n",
    "\n",
    "Denotando as linhas da matriz $\\mathbf{X}$ por ${x}_{1:},\\ldots,{x}_{d:}$ define-se\n",
    "a matriz de covariância de $\\mathbf{X}$ por:\n",
    "\n",
    "$$\n",
    "cov(\\mathbf{X})=\n",
    "\\begin{bmatrix}\n",
    "      {cov(x_{1:},x_{1:})} & cov(x_{1:},x_{2:})          & \\dots  &cov(x_{1:},x_{d:})\\\\\n",
    "      cov(x_{2:},x_{1:})          & {cov(x_{2:},x_{2:})} & \\dots  &cov(x_{2:},x_{d:})\\\\\n",
    "      \\vdots                      &      \\vdots                 &\\ddots  &\\vdots\\\\\n",
    "      cov(x_{d:},x_{1:})          &cov(x_{d:},x_{2:})           &\\dots   &{cov(x_{d:},x_{d:})}\n",
    "\\end{bmatrix}\n",
    "$$\n",
    "\n",
    "**Importante**: Os elementos na diagonal da matriz correspondem à variância de cada coordenada dos vetores coluna de $\\mathbf{X}$."
   ]
  },
  {
   "cell_type": "markdown",
   "metadata": {
    "colab_type": "text",
    "id": "_HoZ4TpvQUE1"
   },
   "source": [
    "**Propriedades**:\n",
    "1. Cada entrada da matrix $cov(\\mathbf{X})$ corresponde a covariância entre duas coordenadas dos vetores coluna \n",
    "2. $cov(\\mathbf{X})$ é uma matriz simétrica\n",
    "3. $cov(\\mathbf{X})$ é semi-definida positiva \n",
    "\n",
    "---\n",
    "**Prova da propriedade 3**: $cov(\\mathbf{X})$ é semi definida positiva\n",
    "\n",
    "O segredo da prova é enxergar que:\n",
    "$$\n",
    "cov(\\mathbf{X})=\\frac{1}{n}\\sum_i (\\mathbf{x}_{i}-\\mu)(\\mathbf{x}_{i}-\\mu)^\\top\n",
    "$$\n",
    "onde $\\mu=\\frac{1}{n}\\sum_i \\mathbf{x}_{i}$\n",
    "\n",
    "Assim,\n",
    "$$\n",
    "\\mathbf{u}^\\top cov(\\mathbf{X})\\mathbf{u}\\\\\n",
    "=\\mathbf{u}^\\top\\left( \\frac{1}{n}\\sum_i (\\mathbf{x}_{i}-\\mu)(\\mathbf{x}_{i}-\\mu)^\\top \\right)\\mathbf{u}\\\\\n",
    "=  \\frac{1}{n}\\sum_i \\mathbf{u}^\\top(\\mathbf{x}_{i}-\\mu)(\\mathbf{x}_{i}-\\mu)^\\top \\mathbf{u}\\\\\n",
    "=\\frac{1}{n}\\sum_i \\left((\\mathbf{x}_{i}-\\mu)^\\top \\mathbf{u}\\right)^2\\geq 0\n",
    "$$\n",
    "\n",
    "---"
   ]
  },
  {
   "cell_type": "markdown",
   "metadata": {
    "colab_type": "text",
    "id": "QXF9HW-HG0Y9"
   },
   "source": [
    "Assumindo que os dados estão centralizados, isto é, $\\mu=0$, a matriz de covariância pode ser calculada como:\n",
    "\n",
    "$$\n",
    "cov(\\mathbf{X})=\\frac{1}{n}\\mathbf{X}\\mathbf{X}^\\top\n",
    "$$"
   ]
  },
  {
   "cell_type": "code",
   "execution_count": 11,
   "metadata": {},
   "outputs": [
    {
     "name": "stdout",
     "output_type": "stream",
     "text": [
      "[[3.19 2.69 4.27 5.   6.45 4.74 6.51 9.62 3.26 4.76]\n",
      " [3.15 2.28 6.9  7.15 7.13 6.61 4.6  9.79 4.99 1.91]\n",
      " [6.37 1.82 6.16 4.68 7.76 1.52 3.52 9.21 5.44 6.46]\n",
      " [3.71 2.71 2.91 3.15 4.52 9.36 8.56 3.25 1.39 4.66]\n",
      " [9.83 3.55 9.13 9.19 1.02 1.06 9.91 6.71 9.58 1.57]\n",
      " [1.08 2.54 5.06 7.21 3.   9.8  8.86 2.19 3.19 4.58]\n",
      " [1.51 8.92 7.94 3.03 1.43 1.25 7.85 5.15 1.5  9.62]\n",
      " [7.29 1.29 6.24 7.32 9.15 2.48 1.3  2.64 1.9  4.09]\n",
      " [4.98 8.54 2.32 2.45 8.6  6.81 5.93 2.12 4.86 3.64]\n",
      " [2.24 1.97 4.44 1.39 6.76 9.37 6.42 7.74 5.95 4.91]]\n",
      "[5.05 5.45 5.29 4.42 6.16 4.75 4.82 4.37 5.03 5.12]\n",
      "[[-1.86 -2.36 -0.78 -0.04  1.4  -0.31  1.46  4.57 -1.79 -0.28]\n",
      " [-2.3  -3.17  1.45  1.7   1.68  1.16 -0.85  4.34 -0.46 -3.54]\n",
      " [ 1.08 -3.47  0.86 -0.62  2.46 -3.77 -1.78  3.92  0.15  1.17]\n",
      " [-0.71 -1.71 -1.52 -1.28  0.1   4.93  4.14 -1.17 -3.03  0.24]\n",
      " [ 3.67 -2.6   2.98  3.03 -5.13 -5.09  3.76  0.55  3.42 -4.59]\n",
      " [-3.67 -2.21  0.31  2.46 -1.75  5.05  4.11 -2.56 -1.56 -0.17]\n",
      " [-3.31  4.09  3.12 -1.79 -3.39 -3.57  3.03  0.32 -3.32  4.8 ]\n",
      " [ 2.92 -3.08  1.87  2.95  4.78 -1.89 -3.07 -1.73 -2.47 -0.28]\n",
      " [-0.05  3.51 -2.71 -2.57  3.58  1.79  0.9  -2.91 -0.16 -1.38]\n",
      " [-2.88 -3.15 -0.68 -3.73  1.64  4.25  1.3   2.62  0.83 -0.2 ]]\n",
      "[ 4.44e-16  2.66e-16  0.00e+00 -8.88e-17  9.77e-16  0.00e+00  1.78e-16\n",
      "  6.22e-16 -3.55e-16  6.22e-16]\n"
     ]
    },
    {
     "data": {
      "text/plain": [
       "<matplotlib.collections.PathCollection at 0x11e09e128>"
      ]
     },
     "execution_count": 11,
     "metadata": {},
     "output_type": "execute_result"
    },
    {
     "data": {
      "image/png": "[encoded data removed]",
      "text/plain": [
       "<Figure size 864x432 with 2 Axes>"
      ]
     },
     "metadata": {
      "needs_background": "light"
     },
     "output_type": "display_data"
    }
   ],
   "source": [
    "np.set_printoptions(precision=2)\n",
    "X = np.random.uniform(1,10,size=(10,10))\n",
    "print(X)\n",
    "print(np.mean(X,axis=1))\n",
    "\n",
    "Xcentralizado = X - np.mean(X,axis=1).reshape(-1,1)\n",
    "\n",
    "print(Xcentralizado)\n",
    "print(np.mean(Xcentralizado,axis=1))\n",
    "\n",
    "fig,(ax1,ax2)=plt.subplots(1,2)\n",
    "ax1.scatter(X[0,:],X[1,:])\n",
    "ax2.scatter(Xcentralizado[0,:],Xcentralizado[1,:])"
   ]
  },
  {
   "cell_type": "markdown",
   "metadata": {
    "colab_type": "text",
    "id": "t28kzLJZ-KGi"
   },
   "source": [
    "## <font color='blue'>Análise de Componentes Principais (Principal Component Analysis - PCA) </font>\n",
    "\n",
    "A idéia do método de _Análise de Componentes Principais_ é encontrar uma nova base para representar os dados de modo que a covariância entre coordenadas distintas nesta nova base seja zero.\n"
   ]
  },
  {
   "cell_type": "code",
   "execution_count": 12,
   "metadata": {
    "colab": {
     "base_uri": "https://localhost:8080/",
     "height": 373
    },
    "colab_type": "code",
    "executionInfo": {
     "elapsed": 667,
     "status": "ok",
     "timestamp": 1584891221647,
     "user": {
      "displayName": "Luis Gustavo Nonato",
      "photoUrl": "",
      "userId": "16109025348268293164"
     },
     "user_tz": 180
    },
    "id": "4D2GkVMdJZf7",
    "outputId": "2f25b9bb-9b2f-47d4-b515-8f6d25613157"
   },
   "outputs": [
    {
     "data": {
      "image/png": "[encoded data removed]",
      "text/plain": [
       "<Figure size 864x432 with 2 Axes>"
      ]
     },
     "metadata": {
      "needs_background": "light"
     },
     "output_type": "display_data"
    }
   ],
   "source": [
    "# import matplotlib.pyplot as plt\n",
    "import numpy as np\n",
    "\n",
    "\n",
    "plt.rcParams['figure.figsize'] = [12, 6]\n",
    "f, (ax1, ax2)  = plt.subplots(1,2)\n",
    "\n",
    "n = 100\n",
    "\n",
    "#### figura da esquerda\n",
    "Xc = np.zeros((2,n))\n",
    "Xc[0,:] = np.random.uniform(-1,1,size=(1,n))\n",
    "Xc[1,:] = Xc[0,:]+np.random.uniform(-0.15,0.15,size=(1,n))\n",
    "\n",
    "ax1.axis('off')\n",
    "ax1.scatter(Xc[0,:],Xc[1,:],marker='o',color='red',edgecolor='black', linewidth='1');\n",
    "ax1.plot([0,0],[-1.2,1.2],color='black');\n",
    "ax1.plot([0,0],[-1.0,1.0],color='blue',linewidth=5);\n",
    "ax1.plot([-1.2,1.2],[0,0],color='black');\n",
    "ax1.plot([-1,1],[0,0],color='blue',linewidth=5);\n",
    "\n",
    "#### figura da direita\n",
    "ax2.axis('off')\n",
    "ax2.set_aspect('equal')\n",
    "ax2.set_title('Novo sistema de coordenadas');\n",
    "ax2.scatter(Xc[0,:],Xc[1,:],marker='o',color='red',edgecolor='black', linewidth='1');\n",
    "ax2.plot([-1.2,1.2],[-1.2,1.2],color='black');\n",
    "ax2.plot([-1.0,1.0],[-1.0,1.0],color='blue',linewidth=5);\n",
    "ax2.plot([-0.5,0.5],[0.5,-0.5],color='black');\n",
    "ax2.plot([-0.1,0.1],[0.1,-0.1],color='blue',linewidth=5);"
   ]
  },
  {
   "cell_type": "code",
   "execution_count": 13,
   "metadata": {},
   "outputs": [
    {
     "name": "stdout",
     "output_type": "stream",
     "text": [
      "[[30.3  30.63]\n",
      " [30.63 31.71]]\n"
     ]
    }
   ],
   "source": [
    "import numpy as np\n",
    "\n",
    "Xc = np.zeros((2,n))\n",
    "Xc[0,:] = np.random.uniform(-1,1,size=(1,n))\n",
    "Xc[1,:] = Xc[0,:]+np.random.uniform(-0.15,0.15,size=(1,n))\n",
    "\n",
    "X=np.dot(Xc,Xc.T)\n",
    "print(X)"
   ]
  },
  {
   "cell_type": "markdown",
   "metadata": {
    "colab_type": "text",
    "id": "i05Xq6k9-KGk"
   },
   "source": [
    "Em termos matemáticos, buscamos uma matriz de mudança de base $\\mathbf{P}$ tal que\n",
    "\n",
    "$$\n",
    "\\mathbf{Y}=\\mathbf{P}\\mathbf{X} \\Longrightarrow \\mathbf{Y}\\mathbf{Y}^\\top = \\mathbf{D}\n",
    "$$\n",
    "\n",
    "onde $\\mathbf{D}$ é uma matriz diagonal onde os elementos da diagonal correspondem às variâncias das coordenadas.\n",
    "\n",
    "Uma vez que $\\mathbf{P}$ tenha sido calculada as coordenadas dos pontos na nova base serão \"descorrelacionadas\".\n",
    "\n",
    "- algumas das coordenadas terão variância próximo de zero (coordenadas relacionada com ruído nos dados)\n",
    "- a dimensão dos dados poderá ser reduzida sem grandes perdas de informação"
   ]
  },
  {
   "cell_type": "markdown",
   "metadata": {
    "colab_type": "text",
    "id": "D1qAHz12-KGl"
   },
   "source": [
    "**Calculando a mudança de base**\n",
    "\n",
    "$$\n",
    "\\mathbf{Y}=\\mathbf{P}\\mathbf{X} \n",
    "$$\n",
    "\n",
    "$$\n",
    "\\mathbf{Y}\\mathbf{Y}^\\top=(\\mathbf{PX})(\\mathbf{PX})^\\top=\\mathbf{P}\\mathbf{X}\\mathbf{X}^\\top\\mathbf{P}^\\top\n",
    "$$\n",
    "\n",
    "---\n",
    "**Teorema Espectral:** (relembrando)\n",
    "\n",
    "Se $\\mathbf{A}$ é uma matriz simétrica, então:\n",
    "$$\n",
    "\\mathbf{A}=\\mathbf{UDU}^\\top \\rightarrow \\mathbf{U}^\\top\\mathbf{AU}=\\mathbf{D}\n",
    "$$\n",
    "onde $\\mathbf{U}$ é matriz ortogonal contendo os autovetores de $\\mathbf{A}$ e $\\mathbf{D}$ é matriz diagonal contendo os autovalores reais de $\\mathbf{A}$</font>\n",
    "\n",
    "---\n",
    "\n",
    "$\\mathbf{XX}^\\top$ é uma matriz simétrica semi-definida positiva. Logo, os autovalores $\\lambda _i$ são reais e não negativos. Armazenando os autovetores de $\\mathbf{XX}^\\top$ em uma matriz  $\\mathbf{U}$ e fazendo:\n",
    "\n",
    "$$\\mathbf{P}=\\mathbf{U}^\\top$$\n",
    "\n",
    "$$\\mathbf{YY}^\\top=\\mathbf{U}^\\top\\mathbf{X}\\mathbf{X}^\\top\\mathbf{U} = \\mathbf{D}$$\n",
    "\n",
    "$$\n",
    "\\mathbf{D}=\n",
    "\\begin{bmatrix}\n",
    "cov(y_{1:},y_{1:}) & 0 & \\ldots & 0 \\\\\n",
    "0 & cov(y_{2:},y_{2:}) & \\ldots & 0 \\\\\n",
    "  &            & \\vdots & \\\\\n",
    "0 & 0 & \\ldots & cov(y_{d:},y_{d:}) \\\\\n",
    "\\end{bmatrix}\n",
    "$$\n",
    "\n",
    "**Importante**: $cov(y_{i:},y_{i:}) = \\lambda_i$, ou seja, os **autovalores** de $\\mathbf{XX}^\\top$ **correspondem às variâncias** das coordenadas na nova base. Os **autovetores** de $\\mathbf{XX}^\\top$ são os elementos da **nova base**, sendo que coordenadas distintas dos dados nesta nova base são \"descorrelacionadas\"."
   ]
  },
  {
   "cell_type": "code",
   "execution_count": 33,
   "metadata": {
    "colab": {
     "base_uri": "https://localhost:8080/",
     "height": 335
    },
    "colab_type": "code",
    "executionInfo": {
     "elapsed": 705,
     "status": "ok",
     "timestamp": 1584892084722,
     "user": {
      "displayName": "Luis Gustavo Nonato",
      "photoUrl": "",
      "userId": "16109025348268293164"
     },
     "user_tz": 180
    },
    "id": "I1Rrski92b2c",
    "outputId": "9de13213-13f0-4ffa-97bc-32cbc8c16135"
   },
   "outputs": [
    {
     "data": {
      "image/png": "[encoded data removed]",
      "text/plain": [
       "<Figure size 864x432 with 2 Axes>"
      ]
     },
     "metadata": {
      "tags": []
     },
     "output_type": "display_data"
    }
   ],
   "source": [
    "import matplotlib.pyplot as plt\n",
    "import numpy as np\n",
    "\n",
    "\n",
    "plt.rcParams['figure.figsize'] = [12, 6]\n",
    "f, (ax1, ax2)  = plt.subplots(1,2)\n",
    "\n",
    "n = 100\n",
    "\n",
    "#### figura da esquerda\n",
    "Xc = np.zeros((2,n))\n",
    "Xc[0,:] = np.random.uniform(-1,1,size=(1,n))\n",
    "Xc[1,:] = Xc[0,:]+np.random.uniform(-0.2,0.2,size=(1,n))\n",
    "\n",
    "#### figura da direita\n",
    "ax1.axis('off')\n",
    "ax1.set_aspect('equal')\n",
    "ax1.scatter(Xc[0,:],Xc[1,:],marker='o',color='red',edgecolor='black', linewidth='1');\n",
    "ax1.plot([-1.3,1.3],[-1.3,1.3],color='black');\n",
    "ax1.plot([-0.65,0.65],[0.65,-0.65],color='black');\n",
    "ax1.plot([-1,1],[-1,1],color='blue',linewidth=5);\n",
    "ax1.annotate(r'$cov(y_1,y_1)=\\lambda_1$', xy=(0.2, 0.2), xytext=(0.4, -0.1),\n",
    "              arrowprops=dict(facecolor='black', shrink=0.00,width=1),\n",
    "              );\n",
    "\n",
    "#### figura da direita\n",
    "ax2.axis('off')\n",
    "ax2.set_aspect('equal')\n",
    "ax2.scatter(Xc[0,:],Xc[1,:],marker='o',color='red',edgecolor='black', linewidth='1');\n",
    "ax2.plot([-1.3,1.3],[-1.3,1.3],color='black');\n",
    "ax2.plot([-0.65,0.65],[0.65,-0.65],color='black');\n",
    "ax2.plot([-0.17,0.17],[0.17,-0.17],color='blue',linewidth=5);\n",
    "ax2.annotate(r'$cov(y_2,y_2)=\\lambda_2$', xy=(0.15, -0.15), xytext=(0.5, 0),\n",
    "             arrowprops=dict(facecolor='black', shrink=0.05, width=1),\n",
    "             );"
   ]
  },
  {
   "cell_type": "markdown",
   "metadata": {
    "colab_type": "text",
    "id": "i8VoyOOH7n8X"
   },
   "source": [
    "As coordenas dos pontos no novo sistema de coordenadas são dados por:\n",
    "$$\n",
    "\\mathbf{y_i}=\\mathbf{U}^\\top\\mathbf{x_i}\n",
    "$$\n",
    "\n",
    "Assumindo que os autovalores estão ordenados $\\lambda_1\\geq\\cdots\\geq\\lambda_d$, o _Quociente de Rayleigh_ garante que:\n",
    "\n",
    "$$\n",
    "\\mathbf{u}_1^\\top\\mathbf{XX}^\\top\\mathbf{u}_1=\\lambda_1 \\rightarrow \\mathbf{u}_1 \\mbox{ (direção de maior variância)}\\\\\n",
    "\\mathbf{u}_d^\\top\\mathbf{XX}^\\top\\mathbf{u}_d=\\lambda_d \\rightarrow \\mathbf{u}_d \\mbox{ (direção de menor variância)}\n",
    "$$"
   ]
  },
  {
   "cell_type": "markdown",
   "metadata": {},
   "source": [
    "Uma informação muito útil é calcular a porcentagem da informação que pode ser explicada por cada direção (razão de variância explicada). Tal porcentagem é dada por:\n",
    "\n",
    "$$\n",
    "\\tilde{\\lambda}_i = \\frac{\\lambda_i}{\\sum_j \\lambda_j}\n",
    "$$"
   ]
  },
  {
   "cell_type": "markdown",
   "metadata": {
    "colab_type": "text",
    "id": "h-5Wpq4_-xg7"
   },
   "source": [
    "Em muitos casos, pode-se desprezar as direções (coordenadas) de menor variância, uma vez que estas tipicamente correspondem a ruído nos dados\n",
    "\n",
    "$$\n",
    "\\hat{\\mathbf{Y}}=\n",
    "\\begin{bmatrix}\n",
    "y_{11} & y_{21} & \\cdots & y_{n1} \\\\\n",
    "       &        & \\vdots & \\\\\n",
    "y_{1k} & y_{2k} & \\cdots & y_{nk} \\\\\n",
    "0 & 0 & \\cdots & 0 \\\\\n",
    "       &        & \\vdots & \\\\\n",
    "0 & 0 & \\cdots & 0 \\\\\n",
    "\\end{bmatrix}\n",
    "$$\n",
    "\n",
    "pode-se reconstuir os dados \"sem ruído\" na base original fazendo:\n",
    "\n",
    "$$\n",
    "\\hat{\\mathbf{X}}=\\mathbf{U}\\hat{\\mathbf{Y}}\n",
    "$$\n",
    "\n",
    "Consideranto apenas as $k$ primeiras coordenadas de cada ponto, temos uma representação dos dados em um espaço com $k<n$ dimensões. Ou seja, PCA pode ser utilizado como um método de **redução de dimensionalidade**. "
   ]
  },
  {
   "cell_type": "markdown",
   "metadata": {
    "colab_type": "text",
    "id": "Y5Lkr0CA-KGo"
   },
   "source": [
    "______\n",
    "\n",
    "# <font color=blue>Calculando PCA </font>"
   ]
  },
  {
   "cell_type": "markdown",
   "metadata": {},
   "source": [
    "### Exemplo simples\n",
    "\n",
    "Considere os dados gerados de forma a garantir uma \"correlação\" entre as coordenadas."
   ]
  },
  {
   "cell_type": "code",
   "execution_count": 14,
   "metadata": {},
   "outputs": [],
   "source": [
    "import numpy as np\n",
    "import matplotlib.pyplot as plt"
   ]
  },
  {
   "cell_type": "code",
   "execution_count": 15,
   "metadata": {},
   "outputs": [],
   "source": [
    "X = np.random.uniform(-1,1,size=(2,200))  # os dados já estão centralizados\n",
    "X[1,:] = X[0,:] + np.random.uniform(-0.3,0.3,200)\n",
    "\n",
    "XXt = np.dot(X,X.T)\n",
    "\n",
    "L,U = np.linalg.eigh(XXt)\n",
    "# o método eigh retorna os autovalores (e autovetores correspondentes) em ordem crescente\n",
    "# portanto vamos inverter a ordem dos vetores\n",
    "\n",
    "L = np.flip(L)\n",
    "U = np.flip(U,axis=1)"
   ]
  },
  {
   "cell_type": "code",
   "execution_count": 16,
   "metadata": {},
   "outputs": [
    {
     "name": "stdout",
     "output_type": "stream",
     "text": [
      "[0.93 0.07]\n"
     ]
    },
    {
     "data": {
      "text/plain": [
       "[<matplotlib.lines.Line2D at 0x11e3e2710>]"
      ]
     },
     "execution_count": 16,
     "metadata": {},
     "output_type": "execute_result"
    },
    {
     "data": {
      "image/png": "[encoded data removed]",
      "text/plain": [
       "<Figure size 864x432 with 1 Axes>"
      ]
     },
     "metadata": {
      "needs_background": "light"
     },
     "output_type": "display_data"
    }
   ],
   "source": [
    "fig, ax = plt.subplots(1,1)\n",
    "# gerando eixos de R^2\n",
    "ax.plot([-1,1],[0,0],color='k')\n",
    "ax.plot([0,0],[-1,1],color='k')\n",
    "ax.set_aspect('equal')\n",
    "\n",
    "# plotando os pontos\n",
    "ax.scatter(X[0,:],X[1,:],marker='o',color='red',edgecolor='black', linewidth='1')\n",
    "\n",
    "# plotando as direções principais\n",
    "ax.plot([-1.5*U[0,0],1.5*U[0,0]], [-1.5*U[1,0],1.5*U[1,0]],color='blue',linewidth=3)\n",
    "ax.plot([-1*U[0,1],1*U[0,1]], [-1*U[1,1],1*U[1,1]],color='blue',linewidth=3)\n",
    "\n",
    "L_ratio = L/np.sum(L)\n",
    "print(L_ratio)\n",
    "ax.plot([-L_ratio[0]*U[0,0],L_ratio[0]*U[0,0]], \\\n",
    "         [-L_ratio[0]*U[1,0],L_ratio[0]*U[1,0]],color='cyan',linewidth=7)\n",
    "\n",
    "ax.plot([-L_ratio[1]*U[0,1],L_ratio[1]*U[0,1]], \\\n",
    "         [-L_ratio[1]*U[1,1],L_ratio[1]*U[1,1]],color='cyan',linewidth=7)"
   ]
  },
  {
   "cell_type": "markdown",
   "metadata": {},
   "source": [
    "Podemos encontrar as coordenadas dos pontos no novo sistema de coordenadas fazendo $Y=U^\\top X$"
   ]
  },
  {
   "cell_type": "code",
   "execution_count": 17,
   "metadata": {},
   "outputs": [
    {
     "name": "stdout",
     "output_type": "stream",
     "text": [
      "[[ 0.23  0.44 -0.77  0.34  1.57 -0.4  -0.3   0.87 -1.44  0.11]\n",
      " [ 0.15 -0.21  0.57  0.13  0.19  0.23  0.43 -0.13  0.03 -0.33]]\n"
     ]
    }
   ],
   "source": [
    "Y = np.dot(U.T,X)\n",
    "np.set_printoptions(precision=2)\n",
    "print(Y[:,:10])"
   ]
  },
  {
   "cell_type": "code",
   "execution_count": 18,
   "metadata": {},
   "outputs": [
    {
     "data": {
      "image/png": "[encoded data removed]",
      "text/plain": [
       "<Figure size 864x432 with 1 Axes>"
      ]
     },
     "metadata": {
      "needs_background": "light"
     },
     "output_type": "display_data"
    }
   ],
   "source": [
    "# plotanto os pontos no novo sistema de coordenadas\n",
    "\n",
    "fig, ax = plt.subplots(1,1)\n",
    "# gerando eixos de R^2\n",
    "ax.plot([-1,1],[0,0],color='k')\n",
    "ax.plot([0,0],[-1,1],color='k')\n",
    "ax.set_aspect('equal')\n",
    "\n",
    "# plotando os pontos\n",
    "ax.scatter(Y[0,:],Y[1,:],marker='o',color='red',edgecolor='black', linewidth='1');"
   ]
  },
  {
   "cell_type": "markdown",
   "metadata": {},
   "source": [
    "Podemos remover o ruído dos dados e reconstruí-lo no espaço original fazendo $U\\hat{Y}=\\hat{X}$"
   ]
  },
  {
   "cell_type": "code",
   "execution_count": 48,
   "metadata": {},
   "outputs": [
    {
     "data": {
      "text/plain": [
       "<matplotlib.collections.PathCollection at 0x1332a17f0>"
      ]
     },
     "execution_count": 48,
     "metadata": {},
     "output_type": "execute_result"
    },
    {
     "data": {
      "image/png": "[encoded data removed]",
      "text/plain": [
       "<Figure size 864x432 with 1 Axes>"
      ]
     },
     "metadata": {
      "needs_background": "light"
     },
     "output_type": "display_data"
    }
   ],
   "source": [
    "# Gerando Y_hat zerando a segunda coordenada associada à direção de menor variância.\n",
    "\n",
    "Yh = Y.copy()\n",
    "Yh[1,:] = 0\n",
    "\n",
    "Xh = np.dot(U,Yh)\n",
    "\n",
    "fig, ax = plt.subplots(1,1)\n",
    "# gerando eixos de R^2\n",
    "ax.plot([-1,1],[0,0],color='k')\n",
    "ax.plot([0,0],[-1,1],color='k')\n",
    "ax.set_aspect('equal')\n",
    "\n",
    "# plotando os pontos\n",
    "ax.scatter(Xh[0,:],Xh[1,:],marker='o',color='red',edgecolor='black', linewidth='1')"
   ]
  },
  {
   "cell_type": "markdown",
   "metadata": {},
   "source": [
    "### Exemplo com dados reais"
   ]
  },
  {
   "cell_type": "code",
   "execution_count": 1,
   "metadata": {
    "colab": {
     "base_uri": "https://localhost:8080/",
     "height": 125
    },
    "colab_type": "code",
    "executionInfo": {
     "elapsed": 26452,
     "status": "ok",
     "timestamp": 1584975757183,
     "user": {
      "displayName": "Luis Gustavo Nonato",
      "photoUrl": "",
      "userId": "16109025348268293164"
     },
     "user_tz": 180
    },
    "id": "C4HenJ9W6TwF",
    "outputId": "809cb672-cedf-4c0b-83ca-1d1cf6540785"
   },
   "outputs": [
    {
     "name": "stdout",
     "output_type": "stream",
     "text": [
      "Go to this URL in a browser: https://accounts.google.com/o/oauth2/auth?client_id=947318989803-6bn6qk8qdgf4n4g3pfee6491hc0brc4i.apps.googleusercontent.com&redirect_uri=urn%3aietf%3awg%3aoauth%3a2.0%3aoob&response_type=code&scope=email%20https%3a%2f%2fwww.googleapis.com%2fauth%2fdocs.test%20https%3a%2f%2fwww.googleapis.com%2fauth%2fdrive%20https%3a%2f%2fwww.googleapis.com%2fauth%2fdrive.photos.readonly%20https%3a%2f%2fwww.googleapis.com%2fauth%2fpeopleapi.readonly\n",
      "\n",
      "Enter your authorization code:\n",
      "··········\n",
      "Mounted at /content/drive\n"
     ]
    }
   ],
   "source": [
    "# esta célula só é necessaria se o notebook estiver rodando no Google Colab\n",
    "from google.colab import drive\n",
    "drive.mount('/content/drive')"
   ]
  },
  {
   "cell_type": "code",
   "execution_count": 19,
   "metadata": {
    "colab": {},
    "colab_type": "code",
    "id": "n-E6AYqP-KGq"
   },
   "outputs": [],
   "source": [
    "###########\n",
    "# importing the packages\n",
    "###########\n",
    "import pandas as pd\n",
    "import numpy as np\n",
    "\n",
    "from sklearn.decomposition import PCA\n",
    "\n",
    "import matplotlib.pyplot as plt\n",
    "%matplotlib inline"
   ]
  },
  {
   "cell_type": "code",
   "execution_count": 21,
   "metadata": {
    "colab": {
     "base_uri": "https://localhost:8080/",
     "height": 35
    },
    "colab_type": "code",
    "executionInfo": {
     "elapsed": 2175,
     "status": "ok",
     "timestamp": 1584976201213,
     "user": {
      "displayName": "Luis Gustavo Nonato",
      "photoUrl": "",
      "userId": "16109025348268293164"
     },
     "user_tz": 180
    },
    "id": "xUMI42Mv-KGw",
    "outputId": "bb841cf9-d396-4b49-e54a-1d4952e6fb0f",
    "scrolled": true
   },
   "outputs": [
    {
     "name": "stdout",
     "output_type": "stream",
     "text": [
      "(6238, 618)\n"
     ]
    }
   ],
   "source": [
    "###########\n",
    "# reading data_frame\n",
    "###########\n",
    "\n",
    "file = '../DataSets/isolet1234.csv'\n",
    "\n",
    "df = pd.read_csv(file)\n",
    "print(df.shape)"
   ]
  },
  {
   "cell_type": "code",
   "execution_count": 22,
   "metadata": {
    "colab": {
     "base_uri": "https://localhost:8080/",
     "height": 157
    },
    "colab_type": "code",
    "executionInfo": {
     "elapsed": 637,
     "status": "ok",
     "timestamp": 1584976207549,
     "user": {
      "displayName": "Luis Gustavo Nonato",
      "photoUrl": "",
      "userId": "16109025348268293164"
     },
     "user_tz": 180
    },
    "id": "7qCv64Sm-KG3",
    "outputId": "e481194d-595e-4baa-da07-81bb61ae0a82"
   },
   "outputs": [
    {
     "name": "stdout",
     "output_type": "stream",
     "text": [
      "       c0      c1      c2      c3      c4      c5      c6      c7      c8  \\\n",
      "0 -0.4394 -0.0930  0.1718  0.4620  0.6226  0.4704  0.3578  0.0478 -0.1184   \n",
      "1 -0.4348 -0.1198  0.2474  0.4036  0.5026  0.6328  0.4948  0.0338 -0.0520   \n",
      "2 -0.2330  0.2124  0.5014  0.5222 -0.3422 -0.5840 -0.7168 -0.6342 -0.8614   \n",
      "3 -0.3808 -0.0096  0.2602  0.2554 -0.4290 -0.6746 -0.6868 -0.6650 -0.8410   \n",
      "4 -0.3412  0.0946  0.6082  0.6216 -0.1622 -0.3784 -0.4324 -0.4358 -0.4966   \n",
      "\n",
      "       c9  ...    c608    c609    c610    c611    c612    c613    c614  \\\n",
      "0 -0.2310  ...  0.4102  0.2052  0.3846  0.3590  0.5898  0.3334  0.6410   \n",
      "1 -0.1302  ...  0.0000  0.2954  0.2046  0.4772  0.0454  0.2046  0.4318   \n",
      "2 -0.8318  ... -0.1112 -0.0476 -0.1746  0.0318 -0.0476  0.1112  0.2540   \n",
      "3 -0.9614  ... -0.0504 -0.0360 -0.1224  0.1366  0.2950  0.0792 -0.0072   \n",
      "4 -0.5406  ...  0.1562  0.3124  0.2500 -0.0938  0.1562  0.3124  0.3124   \n",
      "\n",
      "     c615    c616  c617  \n",
      "0  0.5898 -0.4872   1.0  \n",
      "1  0.4546 -0.0910   1.0  \n",
      "2  0.1588 -0.4762   2.0  \n",
      "3  0.0936 -0.1510   2.0  \n",
      "4  0.2188 -0.2500   3.0  \n",
      "\n",
      "[5 rows x 618 columns]\n"
     ]
    }
   ],
   "source": [
    "###########\n",
    "# printing 5 rows of the DataFrame\n",
    "###########\n",
    "\n",
    "print(df.head())"
   ]
  },
  {
   "cell_type": "code",
   "execution_count": 23,
   "metadata": {
    "colab": {
     "base_uri": "https://localhost:8080/",
     "height": 35
    },
    "colab_type": "code",
    "executionInfo": {
     "elapsed": 642,
     "status": "ok",
     "timestamp": 1584976245497,
     "user": {
      "displayName": "Luis Gustavo Nonato",
      "photoUrl": "",
      "userId": "16109025348268293164"
     },
     "user_tz": 180
    },
    "id": "ChQbrGJU-KHC",
    "outputId": "eae104e4-1187-46de-d5b2-c8dc782eda6f"
   },
   "outputs": [
    {
     "name": "stdout",
     "output_type": "stream",
     "text": [
      "<class 'numpy.ndarray'> <class 'pandas.core.frame.DataFrame'>\n"
     ]
    }
   ],
   "source": [
    "###########\n",
    "# converting data columns to numpy array\n",
    "###########\n",
    "\n",
    "data = df.values\n",
    "print(type(data),type(df))"
   ]
  },
  {
   "cell_type": "code",
   "execution_count": 24,
   "metadata": {
    "colab": {
     "base_uri": "https://localhost:8080/",
     "height": 392
    },
    "colab_type": "code",
    "executionInfo": {
     "elapsed": 1744,
     "status": "ok",
     "timestamp": 1584976481763,
     "user": {
      "displayName": "Luis Gustavo Nonato",
      "photoUrl": "",
      "userId": "16109025348268293164"
     },
     "user_tz": 180
    },
    "id": "-nvQ4iJD-KHJ",
    "outputId": "e7856f19-4951-4d11-b508-ae6e9f6807ae"
   },
   "outputs": [
    {
     "name": "stdout",
     "output_type": "stream",
     "text": [
      "[59.87 26.61  9.82  7.02  5.25  4.6   3.34  3.18  2.56  2.24]\n",
      "[0.35 0.16 0.06 0.04 0.03 0.03 0.02 0.02 0.01 0.01]\n"
     ]
    },
    {
     "data": {
      "text/plain": [
       "[<matplotlib.lines.Line2D at 0x12d933da0>]"
      ]
     },
     "execution_count": 24,
     "metadata": {},
     "output_type": "execute_result"
    },
    {
     "data": {
      "image/png": "[encoded data removed]",
      "text/plain": [
       "<Figure size 864x432 with 2 Axes>"
      ]
     },
     "metadata": {
      "needs_background": "light"
     },
     "output_type": "display_data"
    }
   ],
   "source": [
    "#############\n",
    "# amount of explained variance\n",
    "#############\n",
    "data_pca=PCA(svd_solver='full')\n",
    "data_transformed = data_pca.fit(data)\n",
    "\n",
    "print(data_transformed.explained_variance_[:10])\n",
    "print(data_transformed.explained_variance_ratio_[:10])\n",
    "\n",
    "#print(data_transformed.explained_variance_)\n",
    "#print('\\n ',data_transformed.explained_variance_ratio_)\n",
    "\n",
    "plt.rcParams['figure.figsize'] = [12, 6]\n",
    "f, (ax1, ax2)  = plt.subplots(1,2)\n",
    "\n",
    "# explained_variance_ratio_[i] = autovalor_i / sum_i(autovalor_i)\n",
    "\n",
    "ax1.plot(data_pca.explained_variance_ratio_, '*')\n",
    "ax2.plot(data_pca.explained_variance_ratio_[:20], '*')"
   ]
  },
  {
   "cell_type": "code",
   "execution_count": 25,
   "metadata": {},
   "outputs": [
    {
     "name": "stdout",
     "output_type": "stream",
     "text": [
      "(2, 6238)\n"
     ]
    },
    {
     "data": {
      "text/plain": [
       "<matplotlib.collections.PathCollection at 0x10e6ac668>"
      ]
     },
     "execution_count": 25,
     "metadata": {},
     "output_type": "execute_result"
    },
    {
     "data": {
      "image/png": "[encoded data removed]",
      "text/plain": [
       "<Figure size 864x432 with 1 Axes>"
      ]
     },
     "metadata": {
      "needs_background": "light"
     },
     "output_type": "display_data"
    }
   ],
   "source": [
    "Y2D = np.dot(data_transformed.components_[:2,:],data.T) \n",
    "print(Y2D.shape)\n",
    "\n",
    "plt.scatter(Y2D[0,:],Y2D[1,:])"
   ]
  },
  {
   "cell_type": "code",
   "execution_count": 17,
   "metadata": {
    "colab": {
     "base_uri": "https://localhost:8080/",
     "height": 283
    },
    "colab_type": "code",
    "executionInfo": {
     "elapsed": 1171,
     "status": "ok",
     "timestamp": 1584976343378,
     "user": {
      "displayName": "Luis Gustavo Nonato",
      "photoUrl": "",
      "userId": "16109025348268293164"
     },
     "user_tz": 180
    },
    "id": "DTc0UZa1-KHU",
    "outputId": "ed684981-c2d3-4e35-8f6b-492c263a4ae0"
   },
   "outputs": [
    {
     "data": {
      "text/plain": [
       "<matplotlib.collections.PathCollection at 0x12b7e1278>"
      ]
     },
     "execution_count": 17,
     "metadata": {},
     "output_type": "execute_result"
    },
    {
     "data": {
      "image/png": "[encoded data removed]",
      "text/plain": [
       "<Figure size 864x432 with 1 Axes>"
      ]
     },
     "metadata": {
      "needs_background": "light"
     },
     "output_type": "display_data"
    }
   ],
   "source": [
    "###########\n",
    "# projecting data in 2D\n",
    "###########\n",
    "\n",
    "pca_proj=PCA(n_components=2)\n",
    "data_2d=pca_proj.fit_transform(data)\n",
    "\n",
    "plt.scatter(data_2d[:,0],data_2d[:,1])"
   ]
  },
  {
   "cell_type": "code",
   "execution_count": 21,
   "metadata": {},
   "outputs": [
    {
     "name": "stdout",
     "output_type": "stream",
     "text": [
      "0.8060939806148586\n"
     ]
    }
   ],
   "source": [
    "print(np.sum(data_transformed.explained_variance_ratio_[:20]))"
   ]
  }
 ],
 "metadata": {
  "colab": {
   "collapsed_sections": [],
   "name": "PCA.ipynb",
   "provenance": []
  },
  "kernelspec": {
   "display_name": "Python 3",
   "language": "python",
   "name": "python3"
  },
  "language_info": {
   "codemirror_mode": {
    "name": "ipython",
    "version": 3
   },
   "file_extension": ".py",
   "mimetype": "text/x-python",
   "name": "python",
   "nbconvert_exporter": "python",
   "pygments_lexer": "ipython3",
   "version": "3.7.1"
  }
 },
 "nbformat": 4,
 "nbformat_minor": 1
}
