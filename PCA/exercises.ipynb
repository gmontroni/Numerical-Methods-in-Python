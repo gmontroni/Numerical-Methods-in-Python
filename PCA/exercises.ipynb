{
 "cells": [
  {
   "cell_type": "markdown",
   "metadata": {
    "id": "2bjKsvaKAoMZ"
   },
   "source": [
    "## <font color='blue'>Análise de Componentes Principais </font>\n",
    "\n",
    "### Solução dos Exercícios\n",
    "\n",
    "**Material Produzido por Luis Gustavo Nonato**<br>\n",
    "**Cemeai - ICMC/USP São Carlos**\n",
    "---"
   ]
  },
  {
   "cell_type": "markdown",
   "metadata": {
    "id": "5f2NL3BCAoMd"
   },
   "source": [
    "Os exercícios abaixo farão uso do conjunto de dados <font style=\"font-family: monaco\">blobs.csv</font> disponível no _moodle_."
   ]
  },
  {
   "cell_type": "code",
   "execution_count": 65,
   "metadata": {
    "id": "gvP9YTdHAoMh"
   },
   "outputs": [],
   "source": [
    "import numpy as np\n",
    "import pandas as pd\n",
    "import matplotlib.pyplot as plt"
   ]
  },
  {
   "cell_type": "markdown",
   "metadata": {
    "id": "7-vHVfmwAoMr"
   },
   "source": [
    "### Exercício 1)\n",
    "Calcule as direções principais do conjunto de dados armazenado na variável $X$ abaixo. Imprima as 3 direções principais com maior variância nos dados."
   ]
  },
  {
   "cell_type": "code",
   "execution_count": 93,
   "metadata": {
    "id": "mb09k32IAoMt"
   },
   "outputs": [
    {
     "name": "stdout",
     "output_type": "stream",
     "text": [
      "(500, 25)\n",
      "         0         1         2         3         4         5         6   \\\n",
      "0  3.502671 -5.638312  7.602307 -0.601102 -1.600475 -2.362167  4.885454   \n",
      "1  4.390883 -2.608057  3.639166  8.686755 -5.087093  0.935015  0.498768   \n",
      "2 -8.556368 -4.420008 -9.048879 -3.506215 -4.942235 -2.999547 -3.881098   \n",
      "3  5.660971 -7.666658  8.253855 -1.764573 -0.491514 -4.648224  6.015844   \n",
      "4  2.457731 -7.111116  8.569138  0.232244 -0.752817 -5.907866  3.240364   \n",
      "\n",
      "         7         8         9   ...        15        16        17        18  \\\n",
      "0 -1.677507  1.018991 -9.116568  ... -2.689089 -1.269129  4.520669 -6.967277   \n",
      "1  1.413226 -4.825275  9.721514  ...  1.258877  7.021102  2.482222  6.720293   \n",
      "2 -7.516011  3.742998  0.286627  ... -4.242175  3.225078 -6.099840  4.493078   \n",
      "3 -0.275010  1.277448 -9.875816  ... -0.646286 -1.350738  3.496446 -8.994346   \n",
      "4 -0.554807  2.408750 -8.770853  ... -1.129332 -3.033088  3.856838 -7.832671   \n",
      "\n",
      "         19        20        21         22        23        24  \n",
      "0  4.028333  4.242330 -7.085382  -9.890756 -4.348435 -2.613919  \n",
      "1  4.804747  4.532559 -0.375265   9.062504  2.262100 -1.308439  \n",
      "2 -4.640462 -6.947689 -0.335123 -10.262120  5.431625 -8.797171  \n",
      "3  3.222179  1.719503 -6.596510  -9.156030 -2.699993 -3.977890  \n",
      "4  3.040848  2.153351 -4.350825  -8.160605 -5.439677 -2.764732  \n",
      "\n",
      "[5 rows x 25 columns]\n"
     ]
    }
   ],
   "source": [
    "from sklearn.decomposition import PCA\n",
    "\n",
    "X = pd.read_csv('blobs.csv').values\n",
    "np.set_printoptions(precision=2)\n",
    "print(X.shape)\n",
    "\n",
    "###########\n",
    "# printing 5 rows of the DataFrame\n",
    "###########\n",
    "print(df.head())"
   ]
  },
  {
   "cell_type": "code",
   "execution_count": 80,
   "metadata": {},
   "outputs": [
    {
     "name": "stdout",
     "output_type": "stream",
     "text": [
      "\n",
      "Tres direcoes com maior variancia\n",
      "\n",
      "[[ 1.92e-02 -2.06e-02  2.03e-02  2.85e-02 -9.91e-03  6.81e-04  1.11e-02\n",
      "  -6.95e-03 -9.93e-01  3.68e-02 -1.86e-02  1.95e-02  1.84e-02 -4.39e-02\n",
      "   2.90e-02  1.70e-02  5.20e-02 -1.06e-02  1.55e-02 -7.74e-03  3.99e-03\n",
      "  -1.37e-02  5.08e-02 -8.95e-03  2.90e-02]\n",
      " [ 1.79e-01  1.02e-01  1.17e-01  1.95e-01  1.55e-01  1.63e-01  9.52e-03\n",
      "   3.46e-01 -4.89e-02 -8.16e-02  3.01e-01  1.32e-01  1.42e-01  3.14e-01\n",
      "  -1.89e-01 -9.57e-02 -3.33e-01  3.94e-01 -1.26e-01  3.49e-01  1.99e-01\n",
      "   4.19e-02 -4.46e-02 -5.39e-02 -7.41e-02]\n",
      " [-2.39e-01 -7.29e-02 -3.59e-01  2.96e-02 -1.51e-02  3.44e-02 -8.81e-02\n",
      "  -8.83e-02 -6.32e-02  2.99e-02  6.88e-02  1.51e-01 -2.53e-01  2.72e-01\n",
      "   2.93e-01 -2.99e-02 -1.24e-01  3.05e-02 -1.44e-01  8.39e-02 -3.49e-01\n",
      "   2.61e-02 -5.07e-01  5.65e-02 -3.28e-01]]\n"
     ]
    }
   ],
   "source": [
    "#OUUUUUUU\n",
    "\n",
    "pca_obj=PCA(svd_solver='full')  #calcula todos os autovalores e autovetores\n",
    "X_transformed = pca_obj.fit(X)  #passando a base de dados\n",
    "\n",
    "# o atribudo \"components_\" é um array onde as direções principais \n",
    "# estão armazenadas nas linhas, sendo a componente principal de maior \n",
    "# variância armazenada na linha 0, componente principal com a \n",
    "# segunda maior na linha 1 e assim por diante\n",
    "print('\\nTres direcoes com maior variancia\\n')\n",
    "print(X_transformed.components_[0:3])     #autovetores\n"
   ]
  },
  {
   "cell_type": "markdown",
   "metadata": {
    "id": "CD5JxAxKAoM0"
   },
   "source": [
    "### Exercício 2)\n",
    "Faça um gráfico mostrando o decaimento no valor das variâncias. Faça um segundo gráfico mostrando o decaimento no valor da porcentagem de variância explicada por cada direção principal.\n",
    "\n",
    "**Dica**: Utilize o atributo e \"explained_variance_ratio_\" no segundo caso. Veja [documentação](https://scikit-learn.org/stable/modules/generated/sklearn.decomposition.PCA.html) para entender claramente a diferença entre tais atributos:"
   ]
  },
  {
   "cell_type": "code",
   "execution_count": 88,
   "metadata": {
    "id": "-t3g4Bm3AoM3"
   },
   "outputs": [
    {
     "name": "stdout",
     "output_type": "stream",
     "text": [
      "[8.44e+02 2.24e+02 1.98e+02 1.33e+02 1.05e+02 1.38e+00 1.27e+00 1.25e+00\n",
      " 1.21e+00 1.16e+00 1.14e+00 1.13e+00 1.07e+00 1.04e+00 1.03e+00 9.81e-01\n",
      " 9.52e-01 9.09e-01 8.71e-01 8.29e-01 8.27e-01 7.99e-01 7.86e-01 6.71e-01\n",
      " 6.55e-01]\n",
      "[5.54e-01 1.47e-01 1.30e-01 8.74e-02 6.88e-02 9.07e-04 8.37e-04 8.20e-04\n",
      " 7.96e-04 7.63e-04 7.47e-04 7.40e-04 7.02e-04 6.84e-04 6.73e-04 6.44e-04\n",
      " 6.25e-04 5.96e-04 5.72e-04 5.44e-04 5.42e-04 5.24e-04 5.16e-04 4.40e-04\n",
      " 4.30e-04]\n"
     ]
    },
    {
     "data": {
      "text/plain": [
       "[<matplotlib.lines.Line2D at 0x1df0da7bd90>]"
      ]
     },
     "execution_count": 88,
     "metadata": {},
     "output_type": "execute_result"
    },
    {
     "data": {
      "image/png": "[encoded data removed]",
      "text/plain": [
       "<Figure size 864x432 with 2 Axes>"
      ]
     },
     "metadata": {
      "needs_background": "light"
     },
     "output_type": "display_data"
    }
   ],
   "source": [
    "np.set_printoptions(precision=2)\n",
    "print(X_transformed.explained_variance_)             #variancia\n",
    "print(X_transformed.explained_variance_ratio_)       #variancia explicada\n",
    "\n",
    "plt.rcParams['figure.figsize'] = [12, 6]             #tamanho da imagem em poolegadas\n",
    "f, (ax1, ax2)  = plt.subplots(1,2)\n",
    "\n",
    "ax1.plot(X_transformed.explained_variance_, 'o')     #faz o plot com relação ao indice\n",
    "ax2.plot(X_transformed.explained_variance_ratio_, 'o')"
   ]
  },
  {
   "cell_type": "markdown",
   "metadata": {
    "id": "FhNKBk42AoM8"
   },
   "source": [
    "### Exercício 3)\n",
    "Calcule quantas direções principais são necessárias para representar no mínimo $80\\%$ da informação contida nos dados."
   ]
  },
  {
   "cell_type": "code",
   "execution_count": 92,
   "metadata": {
    "id": "TkHU8l90AoM_"
   },
   "outputs": [
    {
     "name": "stdout",
     "output_type": "stream",
     "text": [
      "(25,)\n",
      "Numero de componentes com no mínimo 80% da informacao:  3\n",
      "\n",
      "Porcentagem da informacao:  0.830650103284895\n"
     ]
    }
   ],
   "source": [
    "# O atributo \"explained_variance_ratio_\" contém a porcentagem de\n",
    "# informação representada em cada direção (ordenado da maior para a menor)\n",
    "# Para encontrar o número de direções necessárias para representar\n",
    "# 80% da informação basta somar os valores de \"explained_variance_ratio_\"\n",
    "# até que se obtenha 80%\n",
    "\n",
    "percentage_info = 0.0\n",
    "num_components80 = 0\n",
    "for i in range(X_transformed.explained_variance_ratio_.shape[0]):  #Da o número de elementos da linha\n",
    "    percentage_info += X_transformed.explained_variance_ratio_[i]  #Soma cada L_\n",
    "    if percentage_info >= 0.8:  #se a porcentagem for maior ou igual a 80%\n",
    "        num_components80 = i+1  #faz a última soma\n",
    "        break                   #e finaliza o processo\n",
    "        \n",
    "print('Numero de componentes com no mínimo 80% da informacao: ',\n",
    "     num_components80)\n",
    "print('\\nPorcentagem da informacao: ',percentage_info)"
   ]
  },
  {
   "cell_type": "markdown",
   "metadata": {
    "id": "eSeJRgscAoNF"
   },
   "source": [
    "### Exercício 4)\n",
    "Utilizando apenas as duas componentes com maior variância, projete os dados originais nesta duas componentes e faça um \"scatter plot\" dos dados em duas dimensões."
   ]
  },
  {
   "cell_type": "code",
   "execution_count": 76,
   "metadata": {
    "id": "IVZczSXuAoNG"
   },
   "outputs": [
    {
     "name": "stdout",
     "output_type": "stream",
     "text": [
      "(500, 25)\n",
      "(25, 2)\n",
      "0.5005756116803981\n"
     ]
    },
    {
     "data": {
      "image/png": "[encoded data removed]",
      "text/plain": [
       "<Figure size 864x432 with 1 Axes>"
      ]
     },
     "metadata": {
      "needs_background": "light"
     },
     "output_type": "display_data"
    }
   ],
   "source": [
    "X2D = np.dot(X,X_transformed.components_[0:2].T)\n",
    "print(X.shape)\n",
    "print(X_transformed.components_[0:2].T.shape)\n",
    "\n",
    "plt.scatter(X2D[:,0],X2D[:,1])\n",
    "print(X2D[1, 1])"
   ]
  },
  {
   "cell_type": "markdown",
   "metadata": {
    "id": "ATbK89NzAoNL"
   },
   "source": [
    "### Exercício 5)\n",
    "Analisando o \"scatter plot\" do exercício anterior você deve ter notado que existem _outliers_ nos dados originais (pontos muito distantes do demais). Encontre os _outliers_ e remova-os dos dados originais."
   ]
  },
  {
   "cell_type": "code",
   "execution_count": 111,
   "metadata": {
    "id": "KPryfIPaAoNN"
   },
   "outputs": [
    {
     "name": "stdout",
     "output_type": "stream",
     "text": [
      "indice das linhas dos elementos \"outliers\":\n",
      " [[421   8]\n",
      " [426  15]]\n",
      "(500, 25)\n",
      "(498, 25)\n"
     ]
    }
   ],
   "source": [
    "# utilizando z-score para encontrar outliers\n",
    "# o pacote scipy possui um método para encontrar o z-score\n",
    "\n",
    "from scipy.stats import zscore\n",
    "\n",
    "# calculando z-scores\n",
    "Xzscore = zscore(X,axis=0)\n",
    "\n",
    "# encontrando outliers\n",
    "outliers = np.abs(Xzscore) > 2.8 # 2.8 é o threshold utilizado para \n",
    "                                 # identificar um valor como outlier\n",
    "    \n",
    "outliers_id = np.argwhere(outliers == True)     #Encontra os indices de pontos sobre uma certa condição\n",
    "print('indice das linhas dos elementos \"outliers\":\\n',outliers_id)\n",
    "\n",
    "# removendo outliers\n",
    "df = pd.DataFrame(data=X)     #data frame de X\n",
    "print(df.shape)\n",
    "df = df.drop(outliers_id[:,0],axis=0)   #usando o comando drop para remover a linha 421 e 426.\n",
    "#print(outliers_id[:,0])\n",
    "print(df.shape)\n",
    "\n",
    "X_no_outliers = df.values"
   ]
  },
  {
   "cell_type": "markdown",
   "metadata": {
    "id": "QSfpWUS-AoNT"
   },
   "source": [
    "### Exercício 6)\n",
    "Um dos problemas de PCA é sua sensibilidade à outliers, isto é, outliers interferem muito no cálculo das direções principais. Recacule as direções principais dos dados cujos outliers foram removidos e verifique o quanto a direção principal de maior variância mudou.\n",
    "\n",
    "**DICA**: utilize o ângulo entre as direções principais com e sem outliers para medir a mudança nas direções:"
   ]
  },
  {
   "cell_type": "code",
   "execution_count": 46,
   "metadata": {
    "id": "hUQEtrECAoNV"
   },
   "outputs": [
    {
     "name": "stdout",
     "output_type": "stream",
     "text": [
      "1.8486406879051454\n",
      "angulo de  105.92243317616622  graus entre direcoes principais\n"
     ]
    }
   ],
   "source": [
    "pca_obj=PCA(svd_solver='full')  #calcula todos os autovalores e autovetores\n",
    "X_no_outliers_transformed = pca_obj.fit(X_no_outliers)  #passando a base de dados\n",
    "\n",
    "# Calculando o ângulo entre as direções principais com e \n",
    "# sem outliers: cos(angulo) = np.dot(v1,v2)/(np.norm(v1)*np.norm(v2))\n",
    "# angulo = arccos(np.dot(v1,v2)/(np.linalg.norm(v1)*np.linalg.norm(v2)))\n",
    "\n",
    "v1 = X_transformed.components_[0] # direcao principal de maior variancia com outliers\n",
    "v2 = X_no_outliers_transformed.components_[0] # direcao principal de maior variancia sem outliers\n",
    "\n",
    "cos_comp = np.dot(v1,v2)/(np.linalg.norm(v1)*np.linalg.norm(v2))               \n",
    "ang = np.arccos(cos_comp)\n",
    "print(ang)  #Devolve o angulo em radianos, desta forma precisamos fazer a conversão\n",
    "print('angulo de ',ang*180/3.1415,' graus entre direcoes principais')"
   ]
  },
  {
   "cell_type": "markdown",
   "metadata": {
    "id": "kxaYDiqfAoNZ"
   },
   "source": [
    "### Exercício 7)\n",
    "Compare visualmente o decaimento da procentagem de variância explicada com e sem outliers (valores do atributo \"explained_variance_ratio_\"). "
   ]
  },
  {
   "cell_type": "code",
   "execution_count": 49,
   "metadata": {
    "id": "MBdI14NCAoNa"
   },
   "outputs": [
    {
     "data": {
      "text/plain": [
       "[<matplotlib.lines.Line2D at 0x1df0a287a00>]"
      ]
     },
     "execution_count": 49,
     "metadata": {},
     "output_type": "execute_result"
    },
    {
     "data": {
      "image/png": "[encoded data removed]",
      "text/plain": [
       "<Figure size 864x432 with 2 Axes>"
      ]
     },
     "metadata": {
      "needs_background": "light"
     },
     "output_type": "display_data"
    }
   ],
   "source": [
    "plt.rcParams['figure.figsize'] = [12, 6]\n",
    "f, (ax1, ax2)  = plt.subplots(1,2)\n",
    "\n",
    "ax1.set_title('Com outliers')\n",
    "ax1.plot(X_transformed.explained_variance_ratio_, 'o')\n",
    "ax2.set_title('Sem outliers')\n",
    "ax2.plot(X_no_outliers_transformed.explained_variance_ratio_, 'o')"
   ]
  },
  {
   "cell_type": "markdown",
   "metadata": {
    "id": "38cTbYw0AoNg"
   },
   "source": [
    "### Exercício 8)\n",
    "Qual a procentagem de informação explicada pelas 4 primeiras componentes principais?"
   ]
  },
  {
   "cell_type": "code",
   "execution_count": 112,
   "metadata": {
    "id": "WedxDSPPAoNi"
   },
   "outputs": [
    {
     "name": "stdout",
     "output_type": "stream",
     "text": [
      "A porcentagem é : 97.0728879787544 %\n"
     ]
    }
   ],
   "source": [
    "print('A porcentagem é :', np.sum(X_no_outliers_transformed.explained_variance_ratio_[0:4])*100, '%')"
   ]
  },
  {
   "cell_type": "markdown",
   "metadata": {
    "id": "HrwxMAMaAoNn"
   },
   "source": [
    "### Exercício 9)\n",
    "Repita o exercício 4), utilizando os dados sem outliers, ou seja, projete os dados sem outliers nas duas primeiras direções principais e faça um scatter plot."
   ]
  },
  {
   "cell_type": "code",
   "execution_count": 57,
   "metadata": {
    "id": "_FDEfChxAoNp"
   },
   "outputs": [
    {
     "data": {
      "text/plain": [
       "<matplotlib.collections.PathCollection at 0x1df0a3c1520>"
      ]
     },
     "execution_count": 57,
     "metadata": {},
     "output_type": "execute_result"
    },
    {
     "data": {
      "image/png": "[encoded data removed]",
      "text/plain": [
       "<Figure size 864x432 with 1 Axes>"
      ]
     },
     "metadata": {
      "needs_background": "light"
     },
     "output_type": "display_data"
    }
   ],
   "source": [
    "X2D_no_outliers = np.dot(X_no_outliers,X_no_outliers_transformed.components_[0:2].T)\n",
    "\n",
    "plt.scatter(X2D_no_outliers[:,0],X2D_no_outliers[:,1])"
   ]
  },
  {
   "cell_type": "markdown",
   "metadata": {
    "id": "kYtpBXVUgRXg"
   },
   "source": [
    "### Exercício 10)\n",
    "Uma operação muito importante antes de aplicar PCA é \"padronizar\" os dados, fazendo com que cada coordenada tenha média zero e variância um. \n",
    "\n",
    "Refaça o gráfico do exemplo anterior, porém \"padronizando\" as coordenadas antes de calcular o PCA.\n",
    "\n",
    "**DICA:** Utilize o método <font color='blue'>StandardScaler</font> disponível no pacote <font color='blue'> sklearn.preprocessing</font> para realizar a padronização."
   ]
  },
  {
   "cell_type": "code",
   "execution_count": 58,
   "metadata": {
    "id": "q4xfNPOUgRXi"
   },
   "outputs": [
    {
     "name": "stdout",
     "output_type": "stream",
     "text": [
      "[ 4.99e-17  1.78e-18 -3.21e-17  2.85e-17 -1.89e-16  7.67e-17  2.85e-17\n",
      "  3.57e-17  2.85e-17  1.43e-17 -3.57e-17  1.43e-17 -1.78e-17  1.78e-18\n",
      "  4.46e-17  9.81e-17 -1.78e-18 -1.78e-17  6.42e-17  3.21e-17  1.61e-17\n",
      "  3.57e-17  3.75e-17 -1.02e-16  1.31e-16]\n",
      "[1. 1. 1. 1. 1. 1. 1. 1. 1. 1. 1. 1. 1. 1. 1. 1. 1. 1. 1. 1. 1. 1. 1. 1.\n",
      " 1.]\n"
     ]
    },
    {
     "data": {
      "text/plain": [
       "<matplotlib.collections.PathCollection at 0x1df0a6a1a90>"
      ]
     },
     "execution_count": 58,
     "metadata": {},
     "output_type": "execute_result"
    },
    {
     "data": {
      "image/png": "[encoded data removed]",
      "text/plain": [
       "<Figure size 864x432 with 1 Axes>"
      ]
     },
     "metadata": {
      "needs_background": "light"
     },
     "output_type": "display_data"
    }
   ],
   "source": [
    "from sklearn.preprocessing import StandardScaler\n",
    "\n",
    "X_no_outliers_normalized = StandardScaler().fit_transform(X_no_outliers)\n",
    "\n",
    "print(np.mean(X_no_outliers_normalized,axis=0))\n",
    "print(np.std(X_no_outliers_normalized,axis=0))\n",
    "\n",
    "pca_obj3=PCA(svd_solver='full')\n",
    "X_no_outliers_normalized_transformed = pca_obj3.fit(X_no_outliers_normalized)\n",
    "\n",
    "X2D_no_outliers_normalizaed = np.dot(X_no_outliers_normalized,X_no_outliers_normalized_transformed.components_[0:2].T)\n",
    "\n",
    "plt.scatter(X2D_no_outliers_normalizaed[:,0],X2D_no_outliers_normalizaed[:,1])"
   ]
  }
 ],
 "metadata": {
  "colab": {
   "collapsed_sections": [],
   "name": "PCA execicios.ipynb",
   "provenance": []
  },
  "kernelspec": {
   "display_name": "Python 3",
   "language": "python",
   "name": "python3"
  },
  "language_info": {
   "codemirror_mode": {
    "name": "ipython",
    "version": 3
   },
   "file_extension": ".py",
   "mimetype": "text/x-python",
   "name": "python",
   "nbconvert_exporter": "python",
   "pygments_lexer": "ipython3",
   "version": "3.8.8"
  }
 },
 "nbformat": 4,
 "nbformat_minor": 1
}
