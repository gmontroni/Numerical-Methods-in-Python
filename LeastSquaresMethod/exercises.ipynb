{
 "cells": [
  {
   "cell_type": "markdown",
   "metadata": {},
   "source": [
    "# <font color='blue'>MAI5002 - Fundamentos de Matemática Aplicada</font>\n",
    "\n",
    "## <font color='blue'>Mínimos Quadrados - Exercícios </font>\n",
    "\n",
    "### Material produzido por Luis Gustavo Nonato \n",
    "\n",
    "ICMC-USP\n",
    "\n",
    "----"
   ]
  },
  {
   "cell_type": "code",
   "execution_count": null,
   "metadata": {},
   "outputs": [],
   "source": [
    "import numpy as np\n",
    "import matplotlib.pyplot as plt"
   ]
  },
  {
   "cell_type": "markdown",
   "metadata": {},
   "source": [
    "### Exercício 1)\n",
    "Considere a função $f(x)=\\exp(-x^2)$, $x\\in[0,1]$. Usando o método dos mínimos quadrados, aproxime a função $f(x)$ por um polinômio quadrático e por um polinômio cúbico. Verifique o erro médio quadrático em cada um dos casos."
   ]
  },
  {
   "cell_type": "code",
   "execution_count": null,
   "metadata": {},
   "outputs": [],
   "source": [
    "# Solução\n",
    "\n"
   ]
  },
  {
   "cell_type": "markdown",
   "metadata": {},
   "source": [
    "### Exercício 2)\n",
    "Considere o conjunto de pontos armazenados como linhas no arquivo ``sample_func.dat`` (disponível para download no google drive). Aproxime o conjunto de pontos pela função \n",
    "\n",
    "$$\n",
    "f(x) = \\frac{a}{(2+b\\cos(x))}\n",
    "$$\n",
    "\n",
    "utilizando mínimos quadrados para encontrar os valores de $a$ e $b$. Faça o gráfico dos pontos e da função obtida."
   ]
  },
  {
   "cell_type": "code",
   "execution_count": null,
   "metadata": {},
   "outputs": [],
   "source": [
    "#Solução\n",
    "X=np.loadtxt('sample_func.dat')\n",
    "\n"
   ]
  },
  {
   "cell_type": "markdown",
   "metadata": {},
   "source": [
    "### Exercício 3)\n",
    "Utiliza mínimos quadrados para aproximar a função\n",
    "\n",
    "$$\n",
    "f(x)=(x^3-1)^2, \\quad x\\in[0,1]\n",
    "$$\n",
    "\n",
    "por uma reta $r(x)=a+bx$, de modo que o erro médio quadrático seja mínimo e que a reta passe pelo ponto $r(1)=0$."
   ]
  },
  {
   "cell_type": "markdown",
   "metadata": {},
   "source": []
  },
  {
   "cell_type": "code",
   "execution_count": null,
   "metadata": {},
   "outputs": [],
   "source": []
  },
  {
   "cell_type": "markdown",
   "metadata": {},
   "source": [
    "### Exercício 4)\n",
    "Encontre a matrix de projeção ortogonal dos pontos em $\\mathbb{R}^3$ sobre o plano dado pela equação $2x-y-z=0$. Faça o gráfico do plano e de um conjunto de pontos projetados sobre ele."
   ]
  },
  {
   "cell_type": "code",
   "execution_count": null,
   "metadata": {},
   "outputs": [],
   "source": [
    "# Solução\n",
    "\n"
   ]
  },
  {
   "cell_type": "markdown",
   "metadata": {},
   "source": [
    "### Exercício 5)\n",
    "O código abaixo gera pontos em um espaço $\\mathbb{R}^k$ ($k=3$ no exemplo) seguindo duas distribuições normais multivariadas. Como o método de mínimos quadrados poderia ser utilizado para encontrar um hiperplano de dimensão k-1 que aproxime os pontos? \n",
    "\n",
    "O método funciona sempre? Quais são as condições para que o método resulte em uma solução válida."
   ]
  },
  {
   "cell_type": "code",
   "execution_count": null,
   "metadata": {},
   "outputs": [],
   "source": [
    "n = 200  # numero de pontos\n",
    "k = 3    # dimensão do espaço\n",
    "\n",
    "X = np.zeros((n,k))\n",
    "\n",
    "# Normal multivariada centrada na origem\n",
    "X[:int(n/2),:] = np.random.multivariate_normal(np.zeros(k),0.1*np.diag(np.ones(k)),int(n/2))\n",
    "X[int(n/2):,:] = np.random.multivariate_normal(np.ones(k),0.1*np.diag(np.ones(k)),int(n/2))"
   ]
  },
  {
   "cell_type": "code",
   "execution_count": null,
   "metadata": {},
   "outputs": [],
   "source": [
    "#Solução"
   ]
  },
  {
   "cell_type": "markdown",
   "metadata": {},
   "source": [
    "### Exercício 6)\n",
    "O método dos mínimos quadrados pode ser difícil de resolver quando as colunas da matriz são quase linearmente dependentes, pois a solução do sistema de equações normais pode ficar instável. A solução típica para este problema é encontrar uma base ortogonal (ortonormal) para o espaço coluna da matriz e utilizar esta base na solução de mínimos quadrados.\n",
    "\n",
    "Dada a matriz $X$ construída no código abaixo (a segunda coluna é uma perturbação da primeira), encontre uma base ortogonal para as colunas de $X$ e projete o ponto $\\mathbf{b}=[1,1,1,1,1]$ sobre o espaço coluna."
   ]
  },
  {
   "cell_type": "code",
   "execution_count": null,
   "metadata": {},
   "outputs": [],
   "source": [
    "X = np.random.uniform(0,1,size=(5,2))\n",
    "X[:,1] = X[:,0] + np.random.uniform(-0.001,0.001,X.shape[0])\n",
    "\n",
    "b = np.array([1,1,1,1,1])"
   ]
  },
  {
   "cell_type": "code",
   "execution_count": null,
   "metadata": {},
   "outputs": [],
   "source": [
    "#Solução"
   ]
  },
  {
   "cell_type": "markdown",
   "metadata": {},
   "source": [
    "**Obs:** Tente resolver as equações normais utilizando diretamente a matriz $\\mathbf{X}$ e veja o que acontece."
   ]
  }
 ],
 "metadata": {
  "kernelspec": {
   "display_name": "Python 3",
   "language": "python",
   "name": "python3"
  },
  "language_info": {
   "codemirror_mode": {
    "name": "ipython",
    "version": 3
   },
   "file_extension": ".py",
   "mimetype": "text/x-python",
   "name": "python",
   "nbconvert_exporter": "python",
   "pygments_lexer": "ipython3",
   "version": "3.7.1"
  }
 },
 "nbformat": 4,
 "nbformat_minor": 2
}
