{
 "cells": [
  {
   "cell_type": "markdown",
   "metadata": {},
   "source": [
    "# <font color='blue'>MAI5002 - Fundamentos de Matemática Aplicada</font>\n",
    "\n",
    "## <font color='blue'>Mínimos Quadrados - Solução dos Exercícios </font>\n",
    "\n",
    "### Material produzido por Luis Gustavo Nonato \n",
    "\n",
    "ICMC-USP\n",
    "\n",
    "----"
   ]
  },
  {
   "cell_type": "code",
   "execution_count": 1,
   "metadata": {},
   "outputs": [],
   "source": [
    "import numpy as np\n",
    "import matplotlib.pyplot as plt"
   ]
  },
  {
   "cell_type": "markdown",
   "metadata": {},
   "source": [
    "### Exercício 1)\n",
    "Considere a função $f(x)=\\exp(-x^2)$, $x\\in[0,1]$. Usando o método dos mínimos quadrados, aproxime a função $f(x)$ por um polinômio quadrático e por um polinômio cúbico. Verifique o erro médio quadrático em cada um dos casos."
   ]
  },
  {
   "cell_type": "code",
   "execution_count": 21,
   "metadata": {},
   "outputs": [
    {
     "name": "stdout",
     "output_type": "stream",
     "text": [
      "0.0001268328929439092 1.3399915608756554e-07\n"
     ]
    },
    {
     "data": {
      "image/png": "[encoded data removed]",
      "text/plain": [
       "<Figure size 432x288 with 1 Axes>"
      ]
     },
     "metadata": {
      "needs_background": "light"
     },
     "output_type": "display_data"
    }
   ],
   "source": [
    "# Solução\n",
    "\n",
    "t = np.linspace(0,1,100)\n",
    "f = np.exp(-t**2)\n",
    "\n",
    "plt.plot(t,f,color='blue')\n",
    "\n",
    "# polinômio quadratico, montando a matriz \n",
    "Aq = np.ones((t.shape[0],3))\n",
    "Aq[:,1] = t\n",
    "Aq[:,2] = t**2\n",
    "\n",
    "# polinômio cubico, montando a matriz \n",
    "Ac = np.ones((t.shape[0],4))\n",
    "Ac[:,1] = t\n",
    "Ac[:,2] = t**2\n",
    "Ac[:,3] = t**3\n",
    "\n",
    "# Resolvendo as equações normais\n",
    "alphaq = np.linalg.solve(np.dot(Aq.T,Aq),np.dot(Aq.T,f))\n",
    "alphac = np.linalg.solve(np.dot(Ac.T,Ac),np.dot(Ac.T,f))\n",
    "\n",
    "yq = np.dot(Aq,alphaq)\n",
    "yc = np.dot(Ac,alphac)\n",
    "\n",
    "plt.plot(t,yq,color='red')\n",
    "plt.plot(t,yc,color='orange')\n",
    "\n",
    "Erroq = (np.linalg.norm(yq-f)**2)/t.shape[0]\n",
    "Erroc = (np.linalg.norm(yc-f)**2)/t.shape[0]\n",
    "\n",
    "print(Erroq,Erroc)"
   ]
  },
  {
   "cell_type": "markdown",
   "metadata": {},
   "source": [
    "### Exercício 2)\n",
    "Considere o conjunto de pontos armazenados como linhas no arquivo ``sample_func.dat`` (disponível para download no google drive). Aproxime o conjunto de pontos pela função \n",
    "\n",
    "$$\n",
    "f(x) = \\frac{a}{(2+b\\cos(x))}\n",
    "$$\n",
    "\n",
    "utilizando mínimos quadrados para encontrar os valores de $a$ e $b$. Faça o gráfico dos pontos e da função obtida."
   ]
  },
  {
   "cell_type": "markdown",
   "metadata": {},
   "source": [
    "**Solução** Para que possamos empregar mínimos quadrados, precisamos linearizar a função $f(x)=\\frac{a}{(2+b\\cos(x))}$. Para isso realizamos a seguinte manipulação algébrica:\n",
    "\n",
    "$$\n",
    "g(x) = \\frac{1}{f(x)} = \\frac{2}{a}+\\frac{b}{a}\\cos(x) = c+d\\cos(x)\\\\\n",
    "\\downarrow \\\\\n",
    "\\begin{bmatrix}\n",
    "1 & cos(x_1) \\\\\n",
    "1 & cos(x_2) \\\\\n",
    "\\vdots & \\vdots \\\\\n",
    "1 & cos(x_n)\n",
    "\\end{bmatrix}\n",
    "\\begin{bmatrix}\n",
    "c \\\\ d\n",
    "\\end{bmatrix}=\n",
    "\\begin{bmatrix}\n",
    "g(x_1) \\\\\n",
    "g(x_2) \\\\\n",
    "\\vdots  \\\\\n",
    "g(x_n)\n",
    "\\end{bmatrix}\n",
    "$$\n",
    "\n",
    "Utilizamos mínimos quadrados para calcular $c$ e $d$ e então obtemos:\n",
    "\n",
    "$$\n",
    "a = \\frac{2}{c}, \\quad b = a\\,d\n",
    "$$"
   ]
  },
  {
   "cell_type": "code",
   "execution_count": 49,
   "metadata": {},
   "outputs": [
    {
     "name": "stdout",
     "output_type": "stream",
     "text": [
      "1.9840113331676488 1.0127899624410182\n"
     ]
    },
    {
     "data": {
      "text/plain": [
       "[<matplotlib.lines.Line2D at 0x115e7c208>]"
      ]
     },
     "execution_count": 49,
     "metadata": {},
     "output_type": "execute_result"
    },
    {
     "data": {
      "image/png": "[encoded data removed]",
      "text/plain": [
       "<Figure size 432x288 with 1 Axes>"
      ]
     },
     "metadata": {
      "needs_background": "light"
     },
     "output_type": "display_data"
    }
   ],
   "source": [
    "X=np.loadtxt('sample_func.dat')\n",
    "\n",
    "# montando a matriz de mínimos quadrados\n",
    "A = np.ones((X.shape[0],2))\n",
    "A[:,1] = np.cos(X[:,0])\n",
    "\n",
    "# resolvendo a equação normal\n",
    "g = 1.0/X[:,1]\n",
    "cd = np.linalg.solve(np.dot(A.T,A),np.dot(A.T,g))  # cd[0] corresponde ao c e cd[1] ao d\n",
    "\n",
    "# calculado a e b\n",
    "a = 2/cd[0]\n",
    "b = a*cd[1]\n",
    "\n",
    "print(a,b)\n",
    "\n",
    "f = a/(2+b*np.cos(X[:,0]))\n",
    "\n",
    "plt.scatter(X[:,0],X[:,1],color='blue')\n",
    "plt.plot(X[:,0],f,color='red')"
   ]
  },
  {
   "cell_type": "markdown",
   "metadata": {},
   "source": [
    "### Exercício 3)\n",
    "Utiliza mínimos quadrados para aproximar a função\n",
    "\n",
    "$$\n",
    "f(x)=(x^3-1)^2, \\quad x\\in[0,1]\n",
    "$$\n",
    "\n",
    "por uma reta $r(x)=a+bx$, de modo que o erro médio quadrático seja mínimo e que a reta passe pelo ponto $r(1)=0$."
   ]
  },
  {
   "cell_type": "markdown",
   "metadata": {},
   "source": [
    "**Solução**\n",
    "\n",
    "A restrição $r(1)=0$ implica que $b=-a$, assim, a aproximação se torna:\n",
    "\n",
    "$$\n",
    "f(x) \\approx a - ax \\rightarrow f(x) \\approx a(1-x)\n",
    "$$\n",
    "\n",
    "Neste caso a matriz de mínimos quadrados se torna um vetor coluna:\n",
    "\n",
    "$$\n",
    "\\begin{bmatrix}\n",
    "(1-x_1) \\\\\n",
    "(1-x_2) \\\\\n",
    "\\vdots  \\\\\n",
    "(1-x_n)\n",
    "\\end{bmatrix}a = \n",
    "\\begin{bmatrix}\n",
    "f(x_1) \\\\\n",
    "f(x_2) \\\\\n",
    "\\vdots  \\\\\n",
    "f(x_n)\n",
    "\\end{bmatrix}\n",
    "$$\n",
    "\n",
    "Assim, denotando os vetores da equação acima como $\\mathbf{c}=[(1-x_1),\\ldots,(1-x_n)]^\\top$ e $\\mathbf{f}=[f(x_1),\\ldots,f(x_n)]^\\top$ a solução da equação normal é simplesmente:\n",
    "\n",
    "$$\n",
    "a = \\frac{\\mathbf{c}^\\top\\mathbf{f}}{\\mathbf{c}^\\top\\mathbf{c}}\n",
    "$$"
   ]
  },
  {
   "cell_type": "code",
   "execution_count": 53,
   "metadata": {},
   "outputs": [
    {
     "data": {
      "text/plain": [
       "[<matplotlib.lines.Line2D at 0x115d89198>]"
      ]
     },
     "execution_count": 53,
     "metadata": {},
     "output_type": "execute_result"
    },
    {
     "data": {
      "image/png": "[encoded data removed]",
      "text/plain": [
       "<Figure size 432x288 with 1 Axes>"
      ]
     },
     "metadata": {
      "needs_background": "light"
     },
     "output_type": "display_data"
    }
   ],
   "source": [
    "x = np.linspace(0,1,100)\n",
    "\n",
    "f = (x**3-1)**2\n",
    "plt.plot(x,f)\n",
    "\n",
    "# construindo os vetores colunas\n",
    "c = 1-x\n",
    "\n",
    "# resolvendo a equacao normal\n",
    "a = np.dot(c,f)/np.dot(c,c)\n",
    "\n",
    "r = a - a*x\n",
    "plt.plot(x,r,color='red')"
   ]
  },
  {
   "cell_type": "markdown",
   "metadata": {},
   "source": [
    "### Exercício 4)\n",
    "Encontre a matrix de projeção ortogonal dos pontos em $\\mathbb{R}^3$ sobre o plano dado pela equação $2x-y-z=0$. Faça o gráfico do plano e de um conjunto de pontos projetados sobre ele."
   ]
  },
  {
   "cell_type": "code",
   "execution_count": 68,
   "metadata": {},
   "outputs": [
    {
     "name": "stdout",
     "output_type": "stream",
     "text": [
      "[[-0.68864358  1.44303249 -0.32181722  1.53258074 -1.41243593]\n",
      " [ 1.95161653  0.72686258  0.5157709   1.71270662 -2.92084534]\n",
      " [-3.32890368  2.15920241 -1.15940534  1.35245487  0.09597349]]\n"
     ]
    },
    {
     "data": {
      "text/plain": [
       "<mpl_toolkits.mplot3d.art3d.Line3DCollection at 0x12ba46b00>"
      ]
     },
     "execution_count": 68,
     "metadata": {},
     "output_type": "execute_result"
    }
   ],
   "source": [
    "# Solução\n",
    "\n",
    "import numpy as np\n",
    "import matplotlib.pyplot as plt\n",
    "from mpl_toolkits.mplot3d import Axes3D\n",
    "%matplotlib qt \n",
    "\n",
    "# Vamos encontrar uma base para o espaço correspondendo ao plano 2x-y-z=0\n",
    "# e armazena-la como colunas de uma matriz A\n",
    "\n",
    "A = np.array([[1,1,1],[0,-1,1]]).T\n",
    "\n",
    "# gerando o plano \n",
    "normal_t = np.cross(A[:,0],A[:,1])\n",
    "xx, yy = np.meshgrid(range(-3,3), range(-3,3))\n",
    "zz = -(normal_t[0] * xx + normal_t[1] * yy)/normal_t[2]\n",
    "\n",
    "# plot do plano\n",
    "fig1 = plt.figure()\n",
    "ax1 = fig1.add_subplot(111,projection='3d')\n",
    "ax1.plot_surface(xx, yy, zz, alpha=0.2)\n",
    "ax1.set_title('Espaco Linha')\n",
    "\n",
    "# plot da origem\n",
    "ax1.scatter(0,0,0,s=25,color='k')\n",
    "\n",
    "# plot dos vetores base do plano\n",
    "x1 = A[:,0]/np.linalg.norm(A[:,0])\n",
    "x2 = A[:,1]/np.linalg.norm(A[:,1])\n",
    "ax1.quiver(0, 0, 0, x1[0],x1[1],x1[2],color='blue')\n",
    "ax1.quiver(0, 0, 0, x2[0],x2[1],x2[2],color='red')\n",
    "\n",
    "# Definindo 5 pontos quaisque em R3\n",
    "B = np.random.uniform(-2.9,2.9,size=(3,5))\n",
    "\n",
    "# Projetando os pontos sobre o plano\n",
    "# encontrando os coeficientes de cada ponto\n",
    "x = np.linalg.solve(np.dot(A.T,A),np.dot(A.T,B))\n",
    "\n",
    "# encontrando as projeções\n",
    "P = np.dot(A,x)\n",
    "print(P)\n",
    "\n",
    "# Plot dos pontos originais\n",
    "ax1.scatter(B[0,:],B[1,:],B[2,:],s=25,color='red')\n",
    "    \n",
    "# Plot dos pontos projetados\n",
    "ax1.scatter(P[0,:],P[1,:],P[2,:],s=25,color='blue')\n",
    "    \n",
    "# Plot das distancias\n",
    "for i in range(B.shape[1]):\n",
    "    ax1.plot([P[0,i],B[0,i]],[P[1,i],B[1,i]],[P[2,i],B[2,i]],color='k',linestyle='--')\n",
    "    \n",
    "    \n",
    "ax1.quiver(0,0,0,normal_t[0],normal_t[1],normal_t[2],color='k')"
   ]
  },
  {
   "cell_type": "markdown",
   "metadata": {},
   "source": [
    "### Exercício 5)\n",
    "O código abaixo gera pontos em um espaço $\\mathbb{R}^k$ ($k=3$ no exemplo) seguindo duas distribuições normais multivariadas. Como o método de mínimos quadrados poderia ser utilizado para encontrar um hiperplano de dimensão k-1 que aproxime os pontos? \n",
    "\n",
    "O método funciona sempre? Quais são as condições para que o método resulte em uma solução válida."
   ]
  },
  {
   "cell_type": "code",
   "execution_count": 63,
   "metadata": {},
   "outputs": [],
   "source": [
    "n = 200  # numero de pontos\n",
    "k = 3    # dimensão do espaço\n",
    "\n",
    "X = np.zeros((n,k))\n",
    "\n",
    "# Normal multivariada centrada na origem\n",
    "X[:int(n/2),:] = np.random.multivariate_normal(np.zeros(k),0.1*np.diag(np.ones(k)),int(n/2))\n",
    "X[int(n/2):,:] = np.random.multivariate_normal(np.ones(k),0.1*np.diag(np.ones(k)),int(n/2))"
   ]
  },
  {
   "cell_type": "markdown",
   "metadata": {},
   "source": [
    "**Solução**\n",
    "Para que possamos encontrar o subespaço, devemos interpretar os pontos como sendo o gráfico de uma função \n",
    "\n",
    "$$\n",
    "f:\\mathbb{R}^k-1\\rightarrow\\mathbb{R}\n",
    "$$\n",
    "\n",
    "ou seja, os pontos devem ser da forma $[x_1,x_2,\\ldots,x_{k-1},f(x_1,x_2,\\ldots,x_{k-1})]$, onde a última coordenada é uma função das $k-1$ outras coordenadas. Assim, o subspaço (hiperplano) seria dado por:\n",
    "\n",
    "$$\n",
    "\\begin{matrix}\n",
    "a_0+a_1x_{11}+a_2x_{12}+\\cdots+a_{k-1}x_{1(k-1)}\\approx f(a_0+a_1x_{11}+a_2x_{12}+\\cdots+a_{k-1}x_{1(k-1)})=x_{1k}\\\\\n",
    "a_0+a_1x_{21}+a_2x_{22}+\\cdots+a_{k-1}x_{2(k-1)}\\approx f(a_0+a_1x_{21}+a_2x_{22}+\\cdots+a_{k-1}x_{2(k-1)})=x_{2k}\\\\\n",
    "\\vdots\\\\\n",
    "a_0+a_1x_{n1}+a_2x_{n2}+\\cdots+a_{k-1}x_{n(k-1)}\\approx f(a_0+a_1x_{n1}+a_2x_{n2}+\\cdots+a_{k-1}x_{n(k-1)})=x_{nk}\n",
    "\\end{matrix}\\\\\n",
    "\\downarrow \\\\\n",
    "\\begin{bmatrix}\n",
    "1 & x_{11} & x_{12}  & \\cdots & x_{1(k-1)}\\\\\n",
    "1 & x_{21} & x_{22} & \\cdots & x_{2(k-1)}\\\\\n",
    " &  &  & \\vdots  & \\\\\n",
    "1 & x_{n1} & x_{n2} & \\cdots & x_{n(k-1)}\n",
    "\\end{bmatrix}\n",
    "\\begin{bmatrix}\n",
    "a_0 \\\\ a_1 \\\\ a_2 \\\\ \\vdots \\\\ a_{k-1}\n",
    "\\end{bmatrix}\\approx\n",
    "\\begin{bmatrix}\n",
    "x_{1k}\\\\\n",
    "x_{2k}\\\\\n",
    "\\vdots\\\\\n",
    "x_{nk}\n",
    "\\end{bmatrix}\n",
    "$$\n",
    "\n",
    "Utilizando mínimos quadrados encontramos os valores dos coeficientes $a_i$. "
   ]
  },
  {
   "cell_type": "code",
   "execution_count": 66,
   "metadata": {},
   "outputs": [
    {
     "data": {
      "text/plain": [
       "<mpl_toolkits.mplot3d.art3d.Path3DCollection at 0x1282c7dd8>"
      ]
     },
     "execution_count": 66,
     "metadata": {},
     "output_type": "execute_result"
    }
   ],
   "source": [
    "# montando a matriz\n",
    "A = np.ones((X.shape[0],X.shape[1]))\n",
    "A[:,1:] = X[:,:-1]\n",
    "\n",
    "alpha = np.linalg.solve(np.dot(A.T,A),np.dot(A.T,X[:,-1]))\n",
    "\n",
    "# gerando o plano \n",
    "normal_t = np.zeros(k)\n",
    "normal_t[:-1] = alpha[1:]\n",
    "normal_t[-1] = -1\n",
    "xx, yy = np.meshgrid(range(-3,3), range(-3,3))\n",
    "zz = -(normal_t[0] * xx + normal_t[1] * yy)/normal_t[2]\n",
    "\n",
    "# plot do plano\n",
    "fig1 = plt.figure()\n",
    "ax1 = fig1.add_subplot(111,projection='3d')\n",
    "ax1.plot_surface(xx, yy, zz, alpha=0.2)\n",
    "ax1.set_title('Espaco Linha')\n",
    "\n",
    "# plot dos pontos\n",
    "ax1.scatter(X[:,0],X[:,1],X[:,2],s=25,color='red')"
   ]
  },
  {
   "cell_type": "markdown",
   "metadata": {},
   "source": [
    "**Imporante**: O método acima só funciona se não existirem dois pontos com as mesmas coordenadas $x_1,\\ldots,x_{k-1}$, caso contrário a matriz de mínimos quadrados se torna singular. Além disso, temos que $n>k$ pontos no conjunto de dados (justifique estas afirmações)."
   ]
  },
  {
   "cell_type": "markdown",
   "metadata": {},
   "source": [
    "### Exercício 6)\n",
    "O método dos mínimos quadrados pode ser difícil de resolver quando as colunas da matriz são quase linearmente dependentes, pois a solução do sistema de equações normais pode ficar instável. A solução típica para este problema é encontrar uma base ortogonal (ortonormal) para o espaço coluna da matriz e utilizar esta base na solução de mínimos quadrados.\n",
    "\n",
    "Dada a matriz $X$ construída no código abaixo (a segunda coluna é uma perturbação da primeira), encontre uma base ortogonal para as colunas de $X$ e projete o ponto $\\mathbf{b}=[1,1,1,1,1]$ sobre o espaço coluna."
   ]
  },
  {
   "cell_type": "code",
   "execution_count": 2,
   "metadata": {},
   "outputs": [],
   "source": [
    "X = np.random.uniform(0,1,size=(5,2))\n",
    "X[:,1] = X[:,0] + np.random.uniform(-0.001,0.001,X.shape[0])\n",
    "\n",
    "b = np.array([1,1,1,1,1])"
   ]
  },
  {
   "cell_type": "markdown",
   "metadata": {},
   "source": [
    "**Solução**\n",
    "\n",
    "Para encontrar a base ortogonal basta calcularmos a decomposição QR da matriz $\\mathbf{X}$.\n",
    "\n",
    "$$\n",
    "\\mathbf{X}=\\mathbf{Q}\\mathbf{R}\\\\\n",
    "\\downarrow\\\\\n",
    "\\mathbf{Q}\\mathbf{R}\\mathbf{\\alpha}=\\mathbf{b}\\\\\n",
    "\\downarrow\\\\\n",
    "\\mathbf{R}\\mathbf{\\alpha}=\\mathbf{Q}^\\top\\mathbf{b}\n",
    "$$\n",
    "\n",
    "Note que a matriz $\\mathbf{R}$ é quadrada com colunas LI, logo o sistema pode ser resolvido diretamente. A projeção de $\\mathbf{b}$ será dada por \n",
    "\n",
    "$$\n",
    "\\mathbf{p} = \\mathbf{Q}\\mathbf{\\alpha}\n",
    "$$"
   ]
  },
  {
   "cell_type": "code",
   "execution_count": 5,
   "metadata": {},
   "outputs": [
    {
     "name": "stdout",
     "output_type": "stream",
     "text": [
      "dimensao de Q (5, 2)\n",
      "dimensao de R (2, 2)\n",
      "[-417.85406463  190.70657376  105.7340763    -4.87596923 -482.3415851 ]\n"
     ]
    }
   ],
   "source": [
    "import numpy as np\n",
    "\n",
    "# Calculando a decomposição QR\n",
    "\n",
    "Q,R = np.linalg.qr(X)\n",
    "print('dimensao de Q',Q.shape)\n",
    "print('dimensao de R',R.shape)\n",
    "\n",
    "# projetando o ponto b\n",
    "alpha = np.linalg.solve(R,np.dot(Q.T,b))\n",
    "p = np.dot(Q,alpha)\n",
    "\n",
    "print(p)"
   ]
  },
  {
   "cell_type": "markdown",
   "metadata": {},
   "source": [
    "**Obs:** Tente resolver as equações normais utilizando diretamente a matriz $\\mathbf{X}$ e veja o que acontece."
   ]
  }
 ],
 "metadata": {
  "kernelspec": {
   "display_name": "Python 3",
   "language": "python",
   "name": "python3"
  },
  "language_info": {
   "codemirror_mode": {
    "name": "ipython",
    "version": 3
   },
   "file_extension": ".py",
   "mimetype": "text/x-python",
   "name": "python",
   "nbconvert_exporter": "python",
   "pygments_lexer": "ipython3",
   "version": "3.7.1"
  }
 },
 "nbformat": 4,
 "nbformat_minor": 2
}
