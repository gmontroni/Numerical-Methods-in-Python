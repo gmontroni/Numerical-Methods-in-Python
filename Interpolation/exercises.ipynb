{
 "cells": [
  {
   "cell_type": "markdown",
   "metadata": {},
   "source": [
    "# <font color='blue'>Interpolação de Funções</font>\n",
    "\n",
    "## Exercícios\n",
    "\n",
    "### Material produzido por Luis Gustavo Nonato\n",
    "\n",
    "ICMC-USP\n",
    "\n",
    "----"
   ]
  },
  {
   "cell_type": "code",
   "execution_count": 2,
   "metadata": {},
   "outputs": [],
   "source": [
    "import numpy as np\n",
    "import matplotlib.pyplot as plt\n",
    "from scipy.interpolate import CubicSpline\n",
    "from scipy.interpolate import lagrange"
   ]
  },
  {
   "cell_type": "markdown",
   "metadata": {},
   "source": [
    "### Exercício 1)\n",
    "Dados um conjunto de pontos $\\{x_1,\\ldots,x_n\\}$ e valores $\\{y_1,\\ldots ,y_n\\}$, quais as hipóteses para que o polinômio interpolador exista e seja único?"
   ]
  },
  {
   "cell_type": "markdown",
   "metadata": {},
   "source": [
    "**Solução**\n",
    "\n"
   ]
  },
  {
   "cell_type": "markdown",
   "metadata": {},
   "source": [
    "A hipotese é que precisamos de um conjunto de pontos distintos, ou seja, $x_i\\neq x_j,\\, \\forall i\\neq j$."
   ]
  },
  {
   "cell_type": "markdown",
   "metadata": {},
   "source": [
    "### Exercício 2)\n",
    "Sabendo que a equação $x−\\exp(−x)=0$ tem uma raiz em [0,1], pode-se aproximar tal raiz utilizando um polinômio interpolador sobre 3 pontos. Encontre uma aproximação para a raiz utilizando tal esquema. Compare o resultado obtido com o zero encontrado pelo método de Newton."
   ]
  },
  {
   "cell_type": "markdown",
   "metadata": {},
   "source": [
    "**Solução**\n",
    "\n"
   ]
  },
  {
   "cell_type": "code",
   "execution_count": 39,
   "metadata": {},
   "outputs": [
    {
     "name": "stdout",
     "output_type": "stream",
     "text": [
      "O polinômio interpolador é: -0.30 x^2 + 1.91 x -0.99\n",
      "As raízes são  0.57  5.73\n",
      "Uma aproximação para a raiz é 0.567\n",
      "A aproximação da raiz por Newton é 0.567\n"
     ]
    },
    {
     "data": {
      "image/png": "[encoded data removed]",
      "text/plain": [
       "<Figure size 432x288 with 1 Axes>"
      ]
     },
     "metadata": {
      "needs_background": "light"
     },
     "output_type": "display_data"
    }
   ],
   "source": [
    "from scipy.optimize import newton\n",
    "\n",
    "x = np.linspace(0,1,40)\n",
    "f = lambda x: x - np.exp(-x)\n",
    "\n",
    "plt.plot([0,1],[0,0], color = 'k', label='f(x) = x - exp(-x)')\n",
    "plt.plot(x,f(x))\n",
    "\n",
    "#Definindo os três pontos\n",
    "#Note que a raiz se encontra entre [0.4,0.6]\n",
    "\n",
    "xi = np.array([0.4,0.5,0.6])\n",
    "yi = f(xi)\n",
    "l = lagrange(xi,yi)\n",
    "\n",
    "#l.c são os coeficientes do polinomio de lagrange organizados do\n",
    "#maior para o menor associado aos x.\n",
    "print('O polinômio interpolador é:', \"%5.2f\"%l.c[0], 'x^2', \n",
    "      \"+%5.2f\"%l.c[1], 'x', \"%5.2f\"%l.c[2])\n",
    "\n",
    "#Calculando as raízes do polinômio\n",
    "r1 = (-l.c[1] + np.sqrt(l.c[1]**2 - 4*l.c[0]*l.c[2]))/(2*l.c[0])\n",
    "r2 = (-l.c[1] - np.sqrt(l.c[1]**2 - 4*l.c[0]*l.c[2]))/(2*l.c[0])\n",
    "print('As raízes são',\"%5.2f\"%r1,\"%5.2f\"%r2)\n",
    "\n",
    "print('Uma aproximação para a raiz é',\"%5.3f\"%r1)\n",
    "plt.scatter(r1,f(r1),color='r')\n",
    "\n",
    "fl = lambda x: l.c[0]*x**2 + l.c[1]*x + l.c[2]\n",
    "plt.plot(x,fl(x),'--', label= 'Polinômio de Lagrange')\n",
    "plt.legend()\n",
    "\n",
    "# utilizando método de Newton\n",
    "#No M de Newton é passado a função e o chute inicial\n",
    "rnewton = newton(f,0.5)\n",
    "print('A aproximação da raiz por Newton é',\"%5.3f\"%rnewton)"
   ]
  },
  {
   "cell_type": "markdown",
   "metadata": {},
   "source": [
    "### Exercício 3)\n",
    "Considere a função $f(x) = \\cos(x)$ definida no intervalo $[0,1]$. Suponha que $f$ deva ser aproximada por um polinômio interpolador de grau $n$ de tal forma que o erro de aproximação seja menor ou igual a $10^{-1}$. Supondo uma amostragem de $f$ com pontos igualmente espaçados, encontre um valor de $n$ de modo que tal erro seja atingido.\n",
    "\n",
    "Uma vez encontrado o grau do polinômio, defina o número de pontos que devem ser utilizados na aproximação e faça os gráficos de $f(x) = \\cos(x)$ e do polinômio interpolador."
   ]
  },
  {
   "cell_type": "markdown",
   "metadata": {},
   "source": [
    "**Solução**\n",
    "\n",
    "A fórmula do erro de aproximação para um polinômio de grau $n$ é\n",
    "\n",
    "$$\n",
    "E(x) = f(x)-P(x)=\\frac{f^{\\{n\\}}(\\xi)}{n!}\\prod_{i=1}^{n}(x-x_i)\n",
    "$$\n",
    "\n",
    "Desta forma queremos que \n",
    "\n",
    "$$\n",
    "\\frac{f^{\\{n\\}}(\\xi)}{n!}\\prod_{i=1}^{n}(x-x_i)\\leq 10^{-1}\n",
    "$$\n",
    "\n",
    "Como $f(x)=\\cos(x)$ temos que $f^{\\{n\\}}(x)\\leq 1$, assim\n",
    "\n",
    "$$\n",
    "\\frac{f^{\\{n\\}}(\\xi)}{n!}\\prod_{i=1}^{n}(x-x_i)\\leq \\prod_{i=1}^{n}(x-x_i)\n",
    "$$\n",
    "\n",
    "Os pontos devem ser igualmentes espaçados e temos que ter $n+1$ pontos para obter um polinômio de grau $n$. Assim, os pontos $x_i$ serão dados por $x_i=(i-1)\\,\\frac{1}{n}$, ou seja $(x-x_i)\\leq \\frac{1}{n}$. Temos então que:\n",
    "\n",
    "$$\n",
    "\\frac{f^{\\{n\\}}(\\xi)}{n!}\\prod_{i=1}^{n}(x-x_i)\\leq \\prod_{i=1}^{n}(x-x_i) \\leq \\left(\\frac{1}{n}\\right)^{n}<\\frac{1}{n}\\leq 10^{-1}\n",
    "$$\n",
    "\n",
    "Assim, $n \\geq 10$.\n",
    "\n"
   ]
  },
  {
   "cell_type": "code",
   "execution_count": 40,
   "metadata": {},
   "outputs": [
    {
     "name": "stdout",
     "output_type": "stream",
     "text": [
      "erro médio 4.641154127682512e-12\n"
     ]
    },
    {
     "data": {
      "image/png": "[encoded data removed]",
      "text/plain": [
       "<Figure size 432x288 with 1 Axes>"
      ]
     },
     "metadata": {
      "needs_background": "light"
     },
     "output_type": "display_data"
    }
   ],
   "source": [
    "#Calculo do produtório Li\n",
    "def li(t,x,i):\n",
    "    numerador = np.asarray([t-x[j] for j in range(x.size) if j!=i])\n",
    "    denominador = x[i]-x\n",
    "    denominador[i] = 1\n",
    "    return(np.prod(numerador,axis=0)/np.prod(denominador))\n",
    "\n",
    "n = 10\n",
    "x = np.linspace(0,1,n)\n",
    "f = lambda x: np.cos(x)\n",
    "t = np.linspace(0,1,100)\n",
    "\n",
    "#polinomio de lagrange\n",
    "pl = np.sum(np.array([f(x[i])*li(t,x,i) for i in range(n)]),axis=0)\n",
    "\n",
    "plt.plot(t,pl)\n",
    "plt.plot(t,f(t))\n",
    "\n",
    "print('erro médio',np.sum(np.abs(pl-f(t)))/n)"
   ]
  },
  {
   "cell_type": "markdown",
   "metadata": {},
   "source": [
    "### Exercício 4)\n",
    "Considere a matriz abaixo, onde a primeira linha corresponde a coordenada $x$ e a segunda a coordenada $y$ dos pontos que definem a figura apresentada.\n",
    "\n",
    "Construa uma aproximação suave da figura utilizando splines cúbicas."
   ]
  },
  {
   "cell_type": "code",
   "execution_count": 41,
   "metadata": {
    "scrolled": true
   },
   "outputs": [
    {
     "data": {
      "text/plain": [
       "[<matplotlib.lines.Line2D at 0x229dd6a5f10>]"
      ]
     },
     "execution_count": 41,
     "metadata": {},
     "output_type": "execute_result"
    },
    {
     "data": {
      "image/png": "[encoded data removed]",
      "text/plain": [
       "<Figure size 432x288 with 1 Axes>"
      ]
     },
     "metadata": {
      "needs_background": "light"
     },
     "output_type": "display_data"
    }
   ],
   "source": [
    "ptos = np.array([[1.0, 0.5, 1.0, 1.0, 2.0, 2.5, 2.0, 1.0, 0.3, 0.7, 0.0, -0.7, -0.3, -1.0, -2.0, -2.5, -2.0, -1.0, -1.0, -0.5, -1.0, 1.0],\n",
    "                 [0.0, 0.7, 1.5, 4.0, 4.0, 4.0, 4.5, 4.5, 5.0, 5.5, 6.5, 5.5, 5.0, 4.5, 4.5, 4.0, 4.0, 4.0, 1.5, 0.7, 0.0, 0.0]])\n",
    "\n",
    "plt.plot(ptos[0,:],ptos[1,:])"
   ]
  },
  {
   "cell_type": "code",
   "execution_count": 50,
   "metadata": {},
   "outputs": [
    {
     "data": {
      "text/plain": [
       "[<matplotlib.lines.Line2D at 0x229dd790ac0>]"
      ]
     },
     "execution_count": 50,
     "metadata": {},
     "output_type": "execute_result"
    },
    {
     "data": {
      "image/png": "[encoded data removed]",
      "text/plain": [
       "<Figure size 432x288 with 1 Axes>"
      ]
     },
     "metadata": {
      "needs_background": "light"
     },
     "output_type": "display_data"
    }
   ],
   "source": [
    "# Solução\n",
    "#numero de pontos\n",
    "n = ptos.shape[1]\n",
    "x = np.linspace(0,1,n)\n",
    "\n",
    "#Calculando a spline para x e y \n",
    "#Calcula a função para os pontos x e\n",
    "#para os pontos y\n",
    "csx = CubicSpline(x,ptos[0,:])\n",
    "csy = CubicSpline(x,ptos[1,:])\n",
    "\n",
    "t = np.linspace(0,1,100)\n",
    "#aplica a função nas curvas\n",
    "pcsx = csx(t)\n",
    "pcsy = csy(t)\n",
    "\n",
    "plt.plot(pcsx,pcsy)"
   ]
  },
  {
   "cell_type": "markdown",
   "metadata": {},
   "source": [
    "### Exercício 5)\n",
    "Considere o conjunto de valores $y_i$ fornecidos na célula abaixo e suponha que o domínio esteja definio no intervalo $[-\\pi,\\pi]$. Realize interpolação usando polinômios de Lagrande e Splines Cúbicas. Compare graficamente as duas soluções."
   ]
  },
  {
   "cell_type": "code",
   "execution_count": 51,
   "metadata": {},
   "outputs": [
    {
     "data": {
      "text/plain": [
       "<matplotlib.collections.PathCollection at 0x229dd773a90>"
      ]
     },
     "execution_count": 51,
     "metadata": {},
     "output_type": "execute_result"
    },
    {
     "data": {
      "image/png": "[encoded data removed]",
      "text/plain": [
       "<Figure size 432x288 with 1 Axes>"
      ]
     },
     "metadata": {
      "needs_background": "light"
     },
     "output_type": "display_data"
    }
   ],
   "source": [
    "x = np.linspace(-np.pi,np.pi,15)\n",
    "y = np.sin(2*x**2) - 0.5/(1+x) + np.random.uniform(-0.3,0.3,15)\n",
    "\n",
    "plt.scatter(x,y)"
   ]
  },
  {
   "cell_type": "code",
   "execution_count": 58,
   "metadata": {},
   "outputs": [
    {
     "name": "stdout",
     "output_type": "stream",
     "text": [
      "          14            13          12          11         10         9\n",
      "0.005401 x  - 0.007093 x  - 0.1492 x  + 0.1929 x  + 1.546 x  - 1.954 x\n",
      "         8         7        6         5         4         3        2\n",
      " - 7.52 x + 9.148 x + 17.4 x - 19.69 x - 16.95 x + 15.95 x + 4.82 x - 1.626 x - 0.7296\n"
     ]
    },
    {
     "data": {
      "text/plain": [
       "[<matplotlib.lines.Line2D at 0x229dedf8cd0>]"
      ]
     },
     "execution_count": 58,
     "metadata": {},
     "output_type": "execute_result"
    },
    {
     "data": {
      "image/png": "[encoded data removed]",
      "text/plain": [
       "<Figure size 432x288 with 1 Axes>"
      ]
     },
     "metadata": {
      "needs_background": "light"
     },
     "output_type": "display_data"
    }
   ],
   "source": [
    "n = 100\n",
    "\n",
    "#Usa os pontos para calcular a função de interpolação\n",
    "cs = CubicSpline(x,y)\n",
    "la = lagrange(x,y)\n",
    "\n",
    "#intervalo de pontos\n",
    "t = np.linspace(-np.pi,np.pi,n)\n",
    "\n",
    "#Calcula a curva com a função\n",
    "pcs = cs(t)\n",
    "pla = la(t)\n",
    "\n",
    "plt.plot(t,pcs)\n",
    "plt.plot(t,pla)"
   ]
  }
 ],
 "metadata": {
  "kernelspec": {
   "display_name": "Python 3",
   "language": "python",
   "name": "python3"
  },
  "language_info": {
   "codemirror_mode": {
    "name": "ipython",
    "version": 3
   },
   "file_extension": ".py",
   "mimetype": "text/x-python",
   "name": "python",
   "nbconvert_exporter": "python",
   "pygments_lexer": "ipython3",
   "version": "3.8.8"
  }
 },
 "nbformat": 4,
 "nbformat_minor": 2
}
