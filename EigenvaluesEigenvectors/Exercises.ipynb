{
 "cells": [
  {
   "cell_type": "markdown",
   "metadata": {},
   "source": [
    "# <span style=\"color:blue\"> Metodos Espectrais e Decomposição de Matrizes</span>\n",
    "## <font color='blue'>Autovalores e Autovetores</font>\n",
    "\n",
    "## <span style=\"color:blue\">Solução dos Exercícios</span>\n",
    "**Material Produzido por Luis Gustavo Nonato**<br>\n",
    "**Cemeai - ICMC/USP São Carlos**"
   ]
  },
  {
   "cell_type": "code",
   "execution_count": 44,
   "metadata": {},
   "outputs": [],
   "source": [
    "import numpy as np"
   ]
  },
  {
   "cell_type": "markdown",
   "metadata": {},
   "source": [
    "### Exercício 1) \n",
    "Mostre que para qualquer matriz $\\mathbf{A}$ com colunas LI, a matriz $\\mathbf{A}^\\top\\mathbf{A}$ é simétrica e semi-definida positiva."
   ]
  },
  {
   "cell_type": "markdown",
   "metadata": {},
   "source": []
  },
  {
   "cell_type": "code",
   "execution_count": null,
   "metadata": {},
   "outputs": [],
   "source": []
  },
  {
   "cell_type": "markdown",
   "metadata": {},
   "source": [
    "### Exercício 2)\n",
    "Construa uma matriz $\\mathbf{A}$ definida positiva  $10\\times 10$ e verifique que o produto $\\mathbf{x}^\\top\\mathbf{A}\\mathbf{x}>0$ para alguns vetores $\\mathbf{x}$."
   ]
  },
  {
   "cell_type": "markdown",
   "metadata": {},
   "source": [
    "**Solução**\n",
    "\n"
   ]
  },
  {
   "cell_type": "code",
   "execution_count": 25,
   "metadata": {},
   "outputs": [
    {
     "name": "stdout",
     "output_type": "stream",
     "text": [
      "Como det(B) é 0.021411003972704182 então os vetores da matriz é LI.\n",
      "A matriz é definida positiva? True\n"
     ]
    }
   ],
   "source": [
    "B = np.random.uniform(0,1,size=(10,10))\n",
    "\n",
    "b = np.linalg.det(B)            #Verificando se X é LI.\n",
    "print('Como det(B) é', b, 'então os vetores da matriz é LI.')\n",
    "\n",
    "Q,R = np.linalg.qr(B)          #Fatoração QR da matriz X.\n",
    "\n",
    "L = np.diag(np.random.uniform(1,5,10))     #Criando a matriz dos lambdas.\n",
    "\n",
    "A = np.linalg.multi_dot([Q,L,Q.T])    #Gerando A definida positiva.\n",
    "\n",
    "#Testando se A realmente é definida positiva.\n",
    "\n",
    "X = np.random.uniform(0,1,size=(10,30))\n",
    "FQ = []\n",
    "\n",
    "\n",
    "for i in range(X.shape[1]):\n",
    "    FQ.append(np.linalg.multi_dot([X[:,i].T,A,X[:,i]]))\n",
    "    \n",
    "    \n",
    "print('A matriz é definida positiva?', np.all(np.array(FQ) > 0))"
   ]
  },
  {
   "cell_type": "markdown",
   "metadata": {},
   "source": [
    "### Exercício 3)\n",
    "Construa uma transformação linear que mapeia o vetor $\\mathbf{v}=[1,1,1,1,1]\\in\\mathbb{R}^5$ nele mesmo, ou seja, a transformação deve satisfazer \n",
    "\n",
    "$$\n",
    "\\mathbf{A}\\mathbf{v}=\\mathbf{v}\n",
    "$$"
   ]
  },
  {
   "cell_type": "code",
   "execution_count": 40,
   "metadata": {},
   "outputs": [
    {
     "name": "stdout",
     "output_type": "stream",
     "text": [
      "Construção bem sucedida\n",
      "A matriz de transformação é:\n",
      " [[-25.57048984  12.58535192   8.77456965 -10.21724416  15.42781243]\n",
      " [-37.66799511  19.50461073  10.13788025 -11.13280602  20.15831016]\n",
      " [-11.39509089   6.8905274    3.71948286  -3.83786458   5.62294522]\n",
      " [ -1.10332332   4.27599778  -7.9006113    5.58200493   0.14593191]\n",
      " [-20.95651086  10.50346262   4.7300701   -7.61047085  14.33344899]]\n",
      "\n",
      " A imagem de [1,1,1,1,1] é: [1. 1. 1. 1. 1.]\n"
     ]
    }
   ],
   "source": [
    "#Construindo v\n",
    "v = np.array([1,1,1,1,1])\n",
    "# construindo a matriz com colunas LI garantindo v como a última coluna\n",
    "S = np.random.randint(0,100,size=(5,5))\n",
    "S[:,-1] = v\n",
    "\n",
    "det = np.linalg.det(S)\n",
    "if det == 0:\n",
    "    print('Gerar novos colunas randomicas para S, demos azar')\n",
    "else:\n",
    "    print('Construção bem sucedida')\n",
    "    S_1 = np.linalg.inv(S)\n",
    "    \n",
    "    # Construindo a matriz de autovalores sendo o autovalor 1 na última posição\n",
    "    d = np.random.uniform(0,10,5)\n",
    "    d[-1] = 1\n",
    "    L = np.diag(d)\n",
    "    \n",
    "    # Constuindo a transformação\n",
    "    A = np.linalg.multi_dot([S,L,S_1])\n",
    "    \n",
    "    # Garantindo que v é um autovetor\n",
    "    print('A matriz de transformação é:\\n',A)\n",
    "    print('\\n A imagem de [1,1,1,1,1] é:',np.dot(A,v))\n",
    "    "
   ]
  },
  {
   "cell_type": "markdown",
   "metadata": {},
   "source": [
    "### Exercício 4) \n",
    "Encontre a equação de uma elipse cujo o eixo maior está na direção do vetor $[1,1]$."
   ]
  },
  {
   "cell_type": "markdown",
   "metadata": {},
   "source": [
    "**Solução**\n",
    "\n"
   ]
  },
  {
   "cell_type": "code",
   "execution_count": 67,
   "metadata": {},
   "outputs": [
    {
     "name": "stdout",
     "output_type": "stream",
     "text": [
      "0.9999999999999998\n",
      "A matriz definida positiva é\n",
      " [[ 0.65 -0.35]\n",
      " [-0.35  0.65]]\n",
      "A equação da elipse é\n",
      " 0.65 xˆ2 -0.70 xy +0.65 yˆ2 = 1\n"
     ]
    }
   ],
   "source": [
    "# matriz ortonormal dos autovetores\n",
    "Q = np.array([[1, 1],[-1, 1]]).T # matriz ortogonal com [1,1] como uma das colunas\n",
    "Q = Q/np.linalg.norm(Q,axis=0)  # normalizando as colunas para que tenham norma 1\n",
    "print(np.linalg.det(Q))\n",
    "\n",
    "# matriz diagonal dos autovalores, sendo que o menor autovalor corresponde a primeira coluna de Q\n",
    "l = np.array([0.3, 1])\n",
    "L = np.diag(l)\n",
    "\n",
    "# Matriz definida positiva com [1,1] como autovetor associado ao menor autovalor\n",
    "A = np.linalg.multi_dot([Q,L,Q.T])\n",
    "np.set_printoptions(precision=2)\n",
    "print('A matriz definida positiva é\\n',A)\n",
    "\n",
    "# Equação da elipse\n",
    "print('A equação da elipse é\\n','{:4.2f}'.format(A[0,0]),'xˆ2',\\\n",
    "      '{:4.2f}'.format(2*A[0,1]),'xy','+{:4.2f}'.format(A[1,1]),'yˆ2 = 1')"
   ]
  },
  {
   "cell_type": "code",
   "execution_count": 68,
   "metadata": {},
   "outputs": [
    {
     "data": {
      "image/png": "[encoded data removed]",
      "text/plain": [
       "<Figure size 432x288 with 1 Axes>"
      ]
     },
     "metadata": {
      "needs_background": "light"
     },
     "output_type": "display_data"
    }
   ],
   "source": [
    "# desenhando a elipse\n",
    "from sympy import symbols, Eq, plot_implicit\n",
    "\n",
    "x,y = symbols('x y')\n",
    "p1 = plot_implicit(Eq(A[0,0]*x**2+2*A[0,1]*x*y+A[1,1]*y**2,1))\n"
   ]
  },
  {
   "cell_type": "markdown",
   "metadata": {},
   "source": [
    "### Exercício 5)\n",
    "Encontre uma trasformação linear cujos autovetores são $v_1=[1,1]$ e $v_2=[1,-1]$ e os autovalores correspondentes são $a_1$ e $a_2$, respectivamente. Os valores de $a_1$ e $a_2$ devem ser escolhidos por você. Verifique graficamente o efeito desta transformação no círculo $x^2+y^2=1$.\n",
    "O que acontece quando $a = b$, $a > b$ e $a < b$?"
   ]
  },
  {
   "cell_type": "code",
   "execution_count": 81,
   "metadata": {},
   "outputs": [],
   "source": [
    "# os vetores v1 e v2 são LI, logo podemos considerá-los como autovetores da transformação\n",
    "# precisamos apenas definir os autovalores\n",
    "\n",
    "S = np.array([[1,1],[1,-1]]).T\n",
    "S_1 = np.linalg.inv(S)\n",
    "L = np.diag([0.5,0.1])\n",
    "\n",
    "# montando a transformação linear\n",
    "A = np.linalg.multi_dot([S,L,S_1])\n",
    "\n",
    "# gerando pontos no ciruclo\n",
    "n = 100 # numero de pontos sobre o circulo\n",
    "t = np.linspace(0,2*np.pi,n)\n",
    "X = np.zeros((2,n))\n",
    "X[0,:] = np.cos(t)\n",
    "X[1,:] = np.sin(t)\n",
    "\n",
    "# encontrando a transformacao de X\n",
    "AX = np.dot(A,X)"
   ]
  },
  {
   "cell_type": "code",
   "execution_count": 82,
   "metadata": {},
   "outputs": [
    {
     "data": {
      "text/plain": [
       "[<matplotlib.lines.Line2D at 0x220c2706c70>]"
      ]
     },
     "execution_count": 82,
     "metadata": {},
     "output_type": "execute_result"
    },
    {
     "data": {
      "image/png": "[encoded data removed]",
      "text/plain": [
       "<Figure size 432x288 with 2 Axes>"
      ]
     },
     "metadata": {
      "needs_background": "light"
     },
     "output_type": "display_data"
    }
   ],
   "source": [
    "import matplotlib.pyplot as plt\n",
    "\n",
    "fig, (ax1,ax2) = plt.subplots(nrows=1,ncols=2)\n",
    "ax1.set_aspect('equal')\n",
    "ax1.plot(X[0,:],X[1,:])\n",
    "\n",
    "ax2.set_aspect('equal')\n",
    "ax2.plot(AX[0,:],AX[1,:])"
   ]
  },
  {
   "cell_type": "markdown",
   "metadata": {},
   "source": [
    "### Exercício 6)\n",
    "Em muitos problemas reais, o que se busca é contrar o maior autovalor de uma matriz e seu correspondente autovetor. Vamos denotar os autovalores de uma matriz $\\mathbf{A}$ em ordem decrescente $|\\lambda_n|<\\ldots\\leq|\\lambda_1|$ e analisar o efeito de aplicar $\\mathbf{A}$ sucessivamente a partir de um vetor qualquer (randomico) $\\mathbf{x}$. Sendo $\\mathbf{u}_n,\\ldots,\\mathbf{u}_1$ os autovalores correspondentes, temos que:\n",
    "\n",
    "$$\n",
    "\\mathbf{x}=c_n\\mathbf{u}_n+c_{n-1}\\mathbf{u}_{n-1}+\\cdots+c_1\\mathbf{u}_1\\\\\n",
    "\\downarrow\\\\\n",
    "\\mathbf{x}^1=\\mathbf{A}\\mathbf{x} = c_n\\mathbf{A}\\mathbf{u}_n+c_{n-1}\\mathbf{A}\\mathbf{u}_{n-1}+\\cdots+c_1\\mathbf{A}\\mathbf{u}_1 = c_n\\lambda_n\\mathbf{u}_n+c_{n-1}\\lambda_{n-1}\\mathbf{u}_{n-1}+\\cdots+c_1\\lambda_1\\mathbf{u}_1\\\\\n",
    "\\downarrow\\\\\n",
    "\\mathbf{x}^2=\\mathbf{A}\\mathbf{x}^1=c_n\\lambda_n^2\\mathbf{u}_n+c_{n-1}\\lambda_{n-1}^2\\mathbf{u}_{n-1}+\\cdots+c_1\\lambda_1^2\\mathbf{u}_1\\\\\n",
    "\\downarrow\\\\\n",
    "\\vdots\\\\\n",
    "\\downarrow\\\\\n",
    "\\mathbf{x}^k=\\mathbf{A}\\mathbf{x}^{k-1}=c_n\\lambda_n^k\\mathbf{u}_n+c_{n-1}\\lambda_{n-1}^{k}\\mathbf{u}_{n-1}+\\cdots+c_1\\lambda_1^k\\mathbf{u}_1 = \\\\\n",
    "\\lambda_n^k\\left(c_n\\mathbf{u}_n+(\\frac{\\lambda_{n-1}}{\\lambda_{n}})^k \\mathbf{u}_{n-1}+\\cdots+ (\\frac{\\lambda_{1}}{\\lambda_{n}})^k \\mathbf{u}_{1}  \\right)\n",
    "$$\n",
    "\n",
    "Como $\\frac{\\lambda_{i}}{\\lambda_{n}}<1$ temos que $(\\frac{\\lambda_{i}}{\\lambda_{n}})^k\\rightarrow 0$ quando $k\\rightarrow\\infty$. Assim:\n",
    "\n",
    "$$\n",
    "\\mathbf{x}^k=\\mathbf{A}\\mathbf{x}^{k-1}\\rightarrow \\lambda_n^k c_n\\mathbf{u}_n\n",
    "$$\n",
    "\n",
    "Ou seja, $\\mathbf{A}\\mathbf{x}^{k-1}$ converge para o autovetor $\\mathbf{u}_n$. Uma vez encontrada a aproximação do autovetor, podemos obter o autovalor pelo coeficiente de Rayleigh:\n",
    "\n",
    "$$\n",
    "\\lambda_n = \\frac{(\\mathbf{x}^k)^\\top\\mathbf{A}\\mathbf{x}^k}{(\\mathbf{x}^k)^\\top\\mathbf{x}^k}\n",
    "$$\n",
    "\n",
    "O método acima para calcular o maior autovetor e autovalor é chamado de **método das potências**.\n",
    "\n",
    "Implemente o método das potência e aplique-o para encontrar o maior autovetor e autovalor da  matriz $\\mathbf{A}$ (simétrica) descrita abaixo. Compare seu resultado com o obtido pelo método <font color='blue'> eigh </font> do <font color='blue'> numpy </font>."
   ]
  },
  {
   "cell_type": "code",
   "execution_count": 86,
   "metadata": {},
   "outputs": [],
   "source": [
    "A = np.array([[ 0.59,  0.14,  0.18,  0.04,  0.13],\n",
    "              [ 0.14,  1.14, -0.  ,  0.51,  0.45],\n",
    "              [ 0.18, -0.  ,  0.56,  0.17, -0.02],\n",
    "              [ 0.04,  0.51,  0.17,  0.99,  0.37],\n",
    "              [ 0.13,  0.45, -0.02,  0.37,  1.14]])"
   ]
  },
  {
   "cell_type": "code",
   "execution_count": 87,
   "metadata": {},
   "outputs": [],
   "source": [
    "def m_potencias(A,ninter=1000):  # realizamos 1000 iteracoes como padrão\n",
    "    x = np.random.uniform(0,1,size=(A.shape[0],1))\n",
    "    \n",
    "    for i in range(ninter):\n",
    "        x = np.dot(A,x)\n",
    "        \n",
    "    return(x)"
   ]
  },
  {
   "cell_type": "code",
   "execution_count": 88,
   "metadata": {},
   "outputs": [
    {
     "name": "stdout",
     "output_type": "stream",
     "text": [
      "[[8.05e+302]\n",
      " [3.67e+303]\n",
      " [4.20e+302]\n",
      " [3.13e+303]\n",
      " [3.32e+303]]\n",
      "[[0.]\n",
      " [0.]\n",
      " [0.]\n",
      " [0.]\n",
      " [0.]]\n",
      "[0.14 0.62 0.07 0.53 0.56]\n"
     ]
    }
   ],
   "source": [
    "Axn = m_potencias(A)\n",
    "print(Axn)\n",
    "print(Axn/np.linalg.norm(Axn))\n",
    "\n",
    "L,S = np.linalg.eigh(A)\n",
    "print(S[:,-1])\n",
    "\n",
    "# Note que os resultados são muito diferentes, ou seja, o método das potências como \n",
    "# descrito acima não funciona como esperado (veja exercício 7)"
   ]
  },
  {
   "cell_type": "markdown",
   "metadata": {},
   "source": [
    "### Exercício 7)\n",
    "O método das potências como descrito no exercício 6) não funciona corretamente devido ao problema de overflow (ou underflow). A razão é que $\\mathbf{A}\\mathbf{x}^{k-1}\\rightarrow \\lambda_n^k c_n\\mathbf{u}_n$, ou seja, a convergência é para um múltiplo do maior autovetor com fator multiplicador dado por $\\lambda_n^k$. Portanto, se $\\lambda>1$, este termo tende para infinito (overflow) e se $\\lambda<1$ ele tende a zero (underflow). \n",
    "\n",
    "Para corrigir este problema, realiz-se uma normalização do vetor obtido a cada passo da iteração. \n",
    "\n",
    "Implemente a versão do método da potência com o termo de normalização e refaça os testes do exercício 6). "
   ]
  },
  {
   "cell_type": "code",
   "execution_count": 89,
   "metadata": {},
   "outputs": [],
   "source": [
    "def m_potencias_normalizado(A,ninter=1000):  # realizamos 1000 iteracoes como padrão\n",
    "    x = np.random.uniform(0,1,size=(A.shape[0],1))\n",
    "    \n",
    "    for i in range(ninter):\n",
    "        x = np.dot(A,x)\n",
    "        x = x/np.linalg.norm(x)\n",
    "        \n",
    "    return(x)"
   ]
  },
  {
   "cell_type": "code",
   "execution_count": 91,
   "metadata": {},
   "outputs": [
    {
     "name": "stdout",
     "output_type": "stream",
     "text": [
      "Autovetor\n",
      "\n",
      "Metodo das Potencias com Normalização\n",
      " [0.14 0.62 0.07 0.53 0.56]\n",
      "Metodo eigh do numpy\n",
      " [0.14 0.62 0.07 0.53 0.56]\n",
      "Autovalor\n",
      "\n",
      "None\n",
      "Metodo das Potencias com Normalização\n",
      " 2.013786142857087\n",
      "Metodo eigh do numpy\n",
      " 2.0137861428570862\n"
     ]
    }
   ],
   "source": [
    "Axn = m_potencias_normalizado(A)\n",
    "Lxn = np.linalg.multi_dot([Axn.T,A,Axn])/np.dot(Axn.T,Axn)\n",
    "\n",
    "L,S = np.linalg.eigh(A)\n",
    "\n",
    "print('Autovetor\\n')\n",
    "print('Metodo das Potencias com Normalização\\n',Axn[:,0])\n",
    "print('Metodo eigh do numpy\\n',S[:,-1])\n",
    "\n",
    "print(print('Autovalor\\n'))\n",
    "print('Metodo das Potencias com Normalização\\n',Lxn[0,0])\n",
    "print('Metodo eigh do numpy\\n',L[-1])"
   ]
  }
 ],
 "metadata": {
  "kernelspec": {
   "display_name": "Python 3",
   "language": "python",
   "name": "python3"
  },
  "language_info": {
   "codemirror_mode": {
    "name": "ipython",
    "version": 3
   },
   "file_extension": ".py",
   "mimetype": "text/x-python",
   "name": "python",
   "nbconvert_exporter": "python",
   "pygments_lexer": "ipython3",
   "version": "3.8.8"
  }
 },
 "nbformat": 4,
 "nbformat_minor": 2
}
