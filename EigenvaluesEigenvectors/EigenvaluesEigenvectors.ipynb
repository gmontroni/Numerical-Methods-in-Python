{
 "cells": [
  {
   "cell_type": "markdown",
   "metadata": {},
   "source": [
    "# <span style=\"color:blue\"> Métodos Espectrais e Decomposição de Matrizes</span>\n",
    "## <font color='blue'>Autovalores e Autovetores</font>\n",
    "\n",
    "**Material Produzido por Luis Gustavo Nonato**<br>\n",
    "**Cemeai - ICMC/USP São Carlos**\n",
    "\n",
    "---"
   ]
  },
  {
   "cell_type": "markdown",
   "metadata": {},
   "source": [
    "### Conteúdo\n",
    "\n",
    "- A equação $\\mathbf{A}\\mathbf{x}=\\lambda\\mathbf{x}$\n",
    "- Matrizes Simétricas e o Teorema Espectral\n",
    "- Formas Quadráticas\n",
    "- Elipsoides\n",
    "- Quociente de Rayleigh"
   ]
  },
  {
   "cell_type": "markdown",
   "metadata": {},
   "source": [
    "## <font color='blue'> A Equação $\\mathbf{A}\\mathbf{x}=\\lambda\\mathbf{x}$ </font>"
   ]
  },
  {
   "cell_type": "markdown",
   "metadata": {},
   "source": [
    "Seja $\\mathbf{A}$ uma matriz quadrada $n\\times n$. Um **problema de autovalor** é dado pela equação \n",
    "\n",
    "$$\n",
    "\\mathbf{A}\\mathbf{x}=\\lambda\\mathbf{x}\n",
    "$$\n",
    "\n",
    "onde se busca um escalar $\\lambda$, chamado de **autovalor** de $\\mathbf{A}$, e um vetor $\\mathbf{x}$, chamado de **autovetor** de $\\mathbf{A}$, de modo que a transformação $\\mathbf{A}$ não muda a direção do vetor (apenas reescala o vetor) $\\mathbf{x}$. Tanto $\\lambda$ quanto $\\mathbf{x}$ são variáveis do problema, portanto o termo $\\lambda\\mathbf{x}$ torna o problema não linear. Cada autovalor está associado a um autovetor.\n",
    "\n",
    "**Obs**: Os autovetores não são únicos, pois dado um autovalor $\\lambda$ e autovetor correspondente $\\mathbf{x}$, temos que qualquer múltiplo de $\\mathbf{x}$ satisfaz a equação do problema de autovalor.\n",
    "\n",
    "O problema de autovalor pode ser escrito no forma:\n",
    "\n",
    "$$\n",
    "(\\mathbf{A}-\\lambda\\mathbf{I})\\mathbf{x} = 0\n",
    "$$\n",
    "\n",
    "onde $\\mathbf{I}$ é a matriz indentidade. A equação acima traz duas informações importantes:\n",
    "\n",
    "1. o vetor $\\mathbf{x}$ deve estar no espaço nulo da transformação $(\\mathbf{A}-\\lambda\\mathbf{I})$\n",
    "2. $\\lambda$ deve ser escolhido de modo que a transformação $(\\mathbf{A}-\\lambda\\mathbf{I})$ tenha um espaço nulo com dimensão pelo menos 1.\n",
    "\n",
    "Sabemos que uma matriz quadrada cujo espaço nulo é diferente de zero não é inversível, ou seja, seus vetores coluna não são LI, portanto o determinante da matriz $(\\mathbf{A}-\\lambda\\mathbf{I})$ deve ser zero. O cálculo do determinante dá origem a um polinômio de grau $n$ na variável $\\lambda$. Por exemplo\n",
    "\n",
    "$$\n",
    "det\\left(\\begin{bmatrix}\n",
    "4-\\lambda & -5\\\\\n",
    "2 & -3-\\lambda\n",
    "\\end{bmatrix}\\right)=0\\rightarrow\n",
    "\\lambda^2-\\lambda-2=0\n",
    "$$\n",
    "\n",
    "Logo, as raízes do polinômio, chamado de **polinômio caracterítico** fornecem os valores de $\\lambda$ que garantem que a matriz $(\\mathbf{A}-\\lambda\\mathbf{I})$ terá espaço nulo diferente de zero. No caso do exemplo $\\lambda = -1$ e $\\lambda = 2$.\n",
    "\n",
    "De acordo com o teorema Fundamental da Álgebra, sabemos que todo polinômio de grau $n$ possui $n$ raízes, podendo algumas serem iguais ou mesmo números complexos. Portanto, para qualquer matriz $\\mathbf{A}$ $n\\times n$ existem $n$ autovalores associados a elas. "
   ]
  },
  {
   "cell_type": "markdown",
   "metadata": {},
   "source": [
    "Algumas propriedades importantes dos autovalores e autovetores:\n",
    "\n",
    "1. A soma dos elementos diagonais de uma matriz (traço da matriz, denotado $Tr(\\mathbf{A})$) é igual a soma de seus autovalores.\n",
    "\n",
    "2. O produto dos autovalores é igual ao determinante da matriz.\n",
    "\n",
    "3. Os autovetores diagonalizam a matriz. <br>\n",
    "Seja $\\mathbf{u}_1,\\ldots,\\mathbf{u}_n$ os autovetores de $\\mathbf{A}$ associados aos autovalores $\\lambda_1,\\ldots,\\lambda_n$. Vamos assumir que os autovetores são LI e formam as colunas de uma matriz $\\mathbf{S}$. Então:\n",
    "\n",
    "$$\n",
    "\\mathbf{A}\\mathbf{S}=\\mathbf{S}\\mathbf{\\Lambda} \\rightarrow\n",
    "\\begin{bmatrix}\n",
    "| &  & |\\\\\n",
    "\\mathbf{a}_1  & \\cdots & \\mathbf{a}_n\\\\\n",
    "| &  & |\n",
    "\\end{bmatrix}\n",
    "\\begin{bmatrix}\n",
    "| &  & |\\\\\n",
    "\\mathbf{u}_1  & \\cdots & \\mathbf{u}_n\\\\\n",
    "| &  & |\n",
    "\\end{bmatrix}=\n",
    " \\begin{bmatrix}\n",
    "| &  & |\\\\\n",
    "\\mathbf{u}_1  & \\cdots & \\mathbf{u}_n\\\\\n",
    "| &  & |\n",
    "\\end{bmatrix}\n",
    "\\begin{bmatrix}\n",
    "\\lambda_1 & \\cdots & 0\\\\\n",
    " \\vdots & \\ddots & \\vdots \\\\\n",
    " 0 & \\cdots & \\lambda_n\n",
    " \\end{bmatrix}\n",
    "$$\n",
    "\n",
    "Como $\\mathbf{S}$ é inversível, temos que\n",
    "\n",
    "$$\n",
    "\\mathbf{S}^{-1}\\mathbf{A}\\mathbf{S}=\\mathbf{\\Lambda}\\\\\n",
    "\\Downarrow\\\\\n",
    "\\mathbf{A} = \\mathbf{S}\\mathbf{\\Lambda}\\mathbf{S}^{-1}\n",
    "$$\n",
    "\n",
    "**OBS:** Nem todas as matrizes possuem $n$ autovetores LI, logo, nem toda matriz é diagonalizável."
   ]
  },
  {
   "cell_type": "code",
   "execution_count": 5,
   "metadata": {},
   "outputs": [
    {
     "name": "stdout",
     "output_type": "stream",
     "text": [
      "[[ 0.7377237   0.1101615 ]\n",
      " [-0.71358768  2.0622763 ]]\n"
     ]
    },
    {
     "data": {
      "text/plain": [
       "<matplotlib.patches.FancyArrow at 0x119648630>"
      ]
     },
     "execution_count": 5,
     "metadata": {},
     "output_type": "execute_result"
    },
    {
     "data": {
      "image/png": "[encoded data removed]",
      "text/plain": [
       "<Figure size 648x216 with 2 Axes>"
      ]
     },
     "metadata": {},
     "output_type": "display_data"
    }
   ],
   "source": [
    "import numpy as np\n",
    "import matplotlib.pyplot as plt\n",
    "\n",
    "S = np.random.uniform(0,1,size=(2,2))\n",
    "S = S/np.linalg.norm(S,axis=0)\n",
    "L = np.diag(np.array([2,0.8]))\n",
    "\n",
    "A = np.linalg.multi_dot([S,L,np.linalg.inv(S)])\n",
    "\n",
    "print(A)\n",
    "\n",
    "\n",
    "x = np.random.uniform(-1,1,size=(2,1))\n",
    "\n",
    "# plot dos vetores\n",
    "fig, (ax1,ax2) = plt.subplots(nrows=1,ncols = 2,figsize=(9, 3))\n",
    "ax1.set_aspect('equal')\n",
    "ax2.set_aspect('equal')\n",
    "ax1.set_xticks([])\n",
    "ax2.set_xticks([])\n",
    "ax1.set_yticks([])\n",
    "ax2.set_yticks([])\n",
    "ax1.axis([-1.5,1.5,-1.5,1.5])\n",
    "ax2.axis([-2,2,-2,2])\n",
    "\n",
    "# autovetores\n",
    "ax1.arrow(0,0,S[0,0],S[1,0],head_width=0.1,length_includes_head=True,color='red')\n",
    "ax1.arrow(0,0,S[0,1],S[1,1],head_width=0.1,length_includes_head=True,color='red')\n",
    "\n",
    "# vetor x\n",
    "ax1.arrow(0,0,x[0,0],x[1,0],head_width=0.1,length_includes_head=True)\n",
    "\n",
    "# mapeando autovetores AS\n",
    "AS = np.dot(A,S)\n",
    "ax2.arrow(0,0,AS[0,0],AS[1,0],head_width=0.1,length_includes_head=True,color='red')\n",
    "ax2.arrow(0,0,AS[0,1],AS[1,1],head_width=0.1,length_includes_head=True,color='red')\n",
    "\n",
    "# vetor Ax\n",
    "Ax = np.dot(A,x)\n",
    "ax2.arrow(0,0,Ax[0,0],Ax[1,0],head_width=0.1,length_includes_head=True)\n"
   ]
  },
  {
   "cell_type": "markdown",
   "metadata": {},
   "source": [
    "## <font color='blue'>  Matrizes Simétricas e o Teorema Espectral </font>"
   ]
  },
  {
   "cell_type": "markdown",
   "metadata": {},
   "source": [
    "Uma matriz $\\mathbf{A}$ é simétrica se $\\mathbf{A}=\\mathbf{A}^\\top$. \n",
    "\n",
    "**Propriedade Importante:** Se $\\mathbf{A}$ é simétrica, então seus **autovalores são reais** e pode-se associá-los a autovetores reais. Além disso, se os $n$ autovalores de $\\mathbf{A}$ $n$ são distintos, então os autovetores formam uma base ortogonal em $\\mathbb{R}^n$.\n",
    "\n",
    "Vamos provar a propriedade acima:\n",
    "\n",
    "Seja $\\lambda$ um autovalor (possivelmente complexo) de $\\mathbf{A}$ e $\\mathbf{x}$ um autovetor correspondente. Sejam $\\overline{\\lambda}$ e $\\overline{\\mathbf{x}}$ os complexos conjugados de $\\lambda$ e $\\mathbf{x}$, respectivamente. Temos que $\\overline{\\mathbf{A}\\mathbf{x}}=\\overline{\\lambda\\mathbf{x}}\\rightarrow \\mathbf{A}\\overline{\\mathbf{x}}=\\overline{\\lambda}\\overline{\\mathbf{x}}$:\n",
    "\n",
    "$$\n",
    "\\overline{\\mathbf{x}}^\\top\\mathbf{A}\\mathbf{x}=\\overline{\\mathbf{x}}^\\top(\\mathbf{A}\\mathbf{x})=\\lambda(\\overline{\\mathbf{x}}^\\top{\\mathbf{x}})\\\\\n",
    "\\overline{\\mathbf{x}}^\\top\\mathbf{A}\\mathbf{x}=(\\mathbf{A}\\overline{\\mathbf{x}})^\\top\\mathbf{x}=\\overline{\\lambda}(\\overline{\\mathbf{x}}^\\top{\\mathbf{x}})\\\\\n",
    "\\downarrow \\\\ \\overline{\\lambda}=\\lambda \\rightarrow \\lambda \\mbox{ é real}\n",
    "$$\n",
    "\n",
    "Suponha que $\\lambda_1$ e $\\lambda_2$ sejam dois autovalores de $\\mathbf{A}$ tal que $\\lambda_1\\neq\\lambda_2$ e $\\mathbf{x}_1,\\mathbf{x}_2$ os autovetores correspondentes. \n",
    "\n",
    "$$\n",
    "\\lambda_1\\mathbf{x}_1^\\top\\mathbf{x}_2 = (\\mathbf{A}\\mathbf{x}_1)^\\top\\mathbf{x}_2=\\mathbf{x}_1^\\top\\mathbf{A}^\\top\\mathbf{x}_2=\\mathbf{x}_1^\\top\\mathbf{A}\\mathbf{x}_2=\\lambda_2\\mathbf{x}_1^\\top\\mathbf{x}_2\\\\\n",
    "\\downarrow\\\\\n",
    "(\\lambda_1-\\lambda_2)\\mathbf{x}_1^\\top\\mathbf{x}_2=0 \\rightarrow \\mathbf{x}_1^\\top\\mathbf{x}_2=0 \\mbox{ (os autovetores são ortogonais)}\n",
    "$$\n",
    "\n",
    "**OBS:** Pode ser provado que os autovetores de uma matriz simétrica formam uma base ortogonal mesmo quando os autovalores não são distintos."
   ]
  },
  {
   "cell_type": "markdown",
   "metadata": {},
   "source": [
    "### Teorama Espectral\n",
    "Toda matriz simétrica $\\mathbf{A}$ pode ser decomposta na forma:\n",
    "\n",
    "$$\n",
    "\\mathbf{A} = \\mathbf{Q}\\Lambda\\mathbf{Q}^\\top\n",
    "$$\n",
    "\n",
    "onde $\\mathbf{Q}$ é uma matriz ortonormal cujas colunas são autovetores de $\\mathbf{A}$ e $\\Lambda$ é uma matriz diagonal cujos elementos da diagonal são os autovalores de $\\mathbf{A}$.\n",
    "\n",
    "A prova deste teorema é bastante simples:\n",
    "\n",
    "$$\n",
    "\\mathbf{A}\\mathbf{Q} = \\mathbf{Q}\\Lambda\\\\\n",
    "\\downarrow\\\\\n",
    "\\begin{bmatrix}\n",
    "| &  & |\\\\\n",
    "\\mathbf{a}_1  & \\cdots & \\mathbf{a}_n\\\\\n",
    "| &  & |\n",
    "\\end{bmatrix}\n",
    "\\begin{bmatrix}\n",
    "| &  & |\\\\\n",
    "\\mathbf{q}_1  & \\cdots & \\mathbf{q}_n\\\\\n",
    "| &  & |\n",
    "\\end{bmatrix}=\n",
    " \\begin{bmatrix}\n",
    "| &  & |\\\\\n",
    "\\mathbf{q}_1  & \\cdots & \\mathbf{q}_n\\\\\n",
    "| &  & |\n",
    "\\end{bmatrix}\n",
    "\\begin{bmatrix}\n",
    "\\lambda_1 & \\cdots & 0\\\\\n",
    " \\vdots & \\ddots & \\vdots \\\\\n",
    " 0 & \\cdots & \\lambda_n\n",
    " \\end{bmatrix}\n",
    "$$\n",
    "\n",
    "Como $\\mathbf{Q}$ é ortonormal, sua inversa é igual a transposta, o que implica em $\\mathbf{A} = \\mathbf{Q}\\Lambda\\mathbf{Q}^\\top$"
   ]
  },
  {
   "cell_type": "markdown",
   "metadata": {},
   "source": [
    "## <font color='blue'> Formas Quadráticas</font>"
   ]
  },
  {
   "cell_type": "markdown",
   "metadata": {},
   "source": [
    "Toda matriz simétrica está associada a um polinômio quadrático, chamado de **forma quadrática** associada a matriz $\\mathbf{A}$, dado por $f(\\mathbf{x})=\\mathbf{x}^\\top\\mathbf{A}\\mathbf{x}$. Por exemplo:\n",
    "\n",
    "$$\n",
    "f(\\mathbf{x})=\\begin{bmatrix} x_1 & x_2 \\end{bmatrix}\n",
    "\\begin{bmatrix}\n",
    "a & b\\\\\n",
    "b & c\n",
    "\\end{bmatrix}\n",
    "\\begin{bmatrix} x_1 \\\\ x_2 \\end{bmatrix}=\n",
    "ax_1^2+2bx_1x_2+cx_2^2\n",
    "$$\n",
    "\n",
    "No caso geral, a forma quadrática é dada por:\n",
    "\n",
    "$$\n",
    "\\mathbf{x}^\\top\\mathbf{A}\\mathbf{x}=\n",
    "\\begin{bmatrix} x_1 & x_2 & \\cdots & x_n\\end{bmatrix}\n",
    "\\begin{bmatrix}\n",
    "a_{11} & a_{12} & \\cdots & a_{1n}\\\\\n",
    "a_{21} & a_{22} & \\cdots & a_{2n}\\\\\n",
    "       &        & \\vdots & \\\\\n",
    "a_{n1} & a_{n2} & \\cdots & a_{nn}\\\\\n",
    "\\end{bmatrix}\n",
    "\\begin{bmatrix} x_1 \\\\ x_2 \\\\ \\vdots \\\\ x_n \\end{bmatrix}=\n",
    "a_{11}x_1^2 + 2a_{12}x_1x_2 +\\cdots+a_{22}x_2^2+\\cdots+a_{nn}x_n^2\n",
    "$$\n",
    "\n",
    "O ponto $\\mathbf{x}=[0,0,\\ldots,0]$ é um ponto críticos da forma quadrática, portanto, pode ser um máximo, mínimo ou ponto de sela."
   ]
  },
  {
   "cell_type": "code",
   "execution_count": 6,
   "metadata": {},
   "outputs": [
    {
     "data": {
      "text/plain": [
       "<mpl_toolkits.mplot3d.art3d.Poly3DCollection at 0x125721320>"
      ]
     },
     "execution_count": 6,
     "metadata": {},
     "output_type": "execute_result"
    }
   ],
   "source": [
    "import numpy as np\n",
    "import matplotlib.pyplot as plt\n",
    "from mpl_toolkits.mplot3d import Axes3D\n",
    "%matplotlib qt \n",
    "\n",
    "# Contruindo matrizes simétricas\n",
    "\n",
    "A1 = np.array([[2,2],[2,1]]) # 2xˆ2+4xy+yˆ2\n",
    "A2 = np.array([[2,1],[1,2]]) # 2xˆ2+2xy+2yˆ2\n",
    "\n",
    "# gerando o plano associado ao espaço linha\n",
    "normal_t = np.cross(A[0],A[1])\n",
    "xx, yy = np.meshgrid(range(-5,5), range(-5,5))\n",
    "zz1 = 2*xx**2 + 4*xx*yy + yy**2\n",
    "zz2 = 2*xx**2 + 2*xx*yy + 2*yy**2\n",
    "\n",
    "# plotando os gráficos das formas quadráticas\n",
    "fig1 = plt.figure(figsize=(9,5))\n",
    "ax1 = fig1.add_subplot(121,projection='3d')\n",
    "ax1.set_title('Sela')\n",
    "ax1.plot_surface(xx, yy, zz1, alpha=0.7)\n",
    "\n",
    "ax2 = fig1.add_subplot(122,projection='3d')\n",
    "ax2.set_title('Minimo')\n",
    "ax2.plot_surface(xx, yy, zz2, alpha=0.7)"
   ]
  },
  {
   "cell_type": "markdown",
   "metadata": {},
   "source": [
    "### Matriz Definida Positiva \n",
    "Uma matriz simétrica $\\mathbf{A}$ é **definida positiva** se $\\mathbf{x}^\\top\\mathbf{A}\\mathbf{x} > 0$ para qualquer $\\mathbf{x}\\in\\mathbb{R}^n$ diferente de zero. Em outras palavras, o ponto $[0,0,\\ldots,0]$ associado a forma quadrática da matriz é um ponto de mínimo. Se $\\mathbf{x}$ é um autovetor, temos\n",
    "\n",
    "$$\n",
    "\\mathbf{x}^\\top\\mathbf{A}\\mathbf{x} = \\lambda \\mathbf{x}^\\top\\mathbf{x}=\\lambda\\|\\mathbf{x}\\|^2 > 0 \\rightarrow \\lambda>0\n",
    "$$\n",
    "\n",
    "**Propriedade Importante:** Se $\\mathbf{A}$ é definida positiva, então os autovalores de $\\mathbf{A}$ são positivos e vice-versa.<br>\n",
    "(Tente provar que se $\\lambda>0$ então $\\mathbf{x}^\\top\\mathbf{A}\\mathbf{x} > 0$).\n",
    "\n",
    "Uma consequência da propriedade acima é que $det(\\mathbf{A})>0$."
   ]
  },
  {
   "cell_type": "markdown",
   "metadata": {},
   "source": [
    "Uma matriz simétrica $\\mathbf{A}$ é **semi-definida positiva** se $\\mathbf{x}^\\top\\mathbf{A}\\mathbf{x} \\geq 0$. Neste caso temo que os autovalores de $\\mathbf{A}$ satisfazem $\\lambda_i \\geq 0$."
   ]
  },
  {
   "cell_type": "markdown",
   "metadata": {},
   "source": [
    "## <font color='blue'>Elipsoides e Matrizes Simétricas</font>"
   ]
  },
  {
   "cell_type": "markdown",
   "metadata": {},
   "source": [
    "Considere a equação $\\mathbf{x}^\\top\\mathbf{A}\\mathbf{x} = 1$, onde $\\mathbf{A}$ é definida positiva. A partir do teorema espectral temos que:\n",
    "\n",
    "$$\n",
    "\\mathbf{x}^\\top\\mathbf{A}\\mathbf{x}=\\mathbf{x}^\\top(\\mathbf{Q}\\mathbf{\\Lambda}\\mathbf{Q}^\\top)\\mathbf{x} = (\\mathbf{x}^\\top\\mathbf{Q})\\mathbf{\\Lambda}(\\mathbf{Q}^\\top\\mathbf{x}) = \\mathbf{y}^\\top\\mathbf{\\Lambda}\\mathbf{y}=\\lambda_1y_1^2+\\lambda_2y_2^2+\\cdots+\\lambda_ny_n^2 =1\n",
    "$$\n",
    "onde $\\mathbf{y}=\\mathbf{Q}^\\top\\mathbf{x}$.\n",
    "\n",
    "A equação $\\lambda_1y_1^2+\\lambda_2y_2^2+\\cdots+\\lambda_ny_n^2 =1$ corresponde à um elipsoide no espaço $\\mathbb{R}^n$, ou seja, $\\mathbf{x}^\\top\\mathbf{A}\\mathbf{x} =1$ é um elipsoide. A transformação $\\mathbf{y}=\\mathbf{Q}^\\top\\mathbf{x}$ simplesmente escreve o elipsoide em um novo sistema de coordenadas dados pelos autovetores.\n",
    "\n",
    "Vejamos um exemplo em $\\mathbb{R}^2$. Considere a matrix $\\mathbf{A}=\\begin{bmatrix} 5 & 4 \\\\ 4 & 5\\end{bmatrix}$, temos que \n",
    "\n",
    "$$\n",
    "\\mathbf{x}^\\top\\mathbf{A}\\mathbf{x} =1 \\rightarrow 5x_1^2+8x_1x_2+5x_2^2=1\n",
    "$$"
   ]
  },
  {
   "cell_type": "code",
   "execution_count": 11,
   "metadata": {},
   "outputs": [
    {
     "data": {
      "image/png": "[encoded data removed]",
      "text/plain": [
       "<Figure size 648x360 with 1 Axes>"
      ]
     },
     "metadata": {
      "needs_background": "light"
     },
     "output_type": "display_data"
    }
   ],
   "source": [
    "# Contruindo matrizes simétricas\n",
    "%matplotlib inline\n",
    "\n",
    "A1 = np.array([[5,4],[4,5]]) \n",
    "\n",
    "# gerando o plano associado ao espaço linha\n",
    "xx, yy = np.meshgrid(range(-5,5), range(-5,5))\n",
    "zz1 = 2*xx**2 + 2*xx*yy + 2*yy**2\n",
    "\n",
    "# plotando os gráficos das formas quadráticas\n",
    "fig1 = plt.figure(figsize=(9,5))\n",
    "ax1 = fig1.add_subplot(121,projection='3d')\n",
    "ax1.plot_surface(xx, yy, zz1, alpha=0.7)\n",
    "ax1.view_init(10, 30)"
   ]
  },
  {
   "cell_type": "code",
   "execution_count": 12,
   "metadata": {},
   "outputs": [
    {
     "data": {
      "image/png": "[encoded data removed]",
      "text/plain": [
       "<Figure size 432x288 with 1 Axes>"
      ]
     },
     "metadata": {
      "needs_background": "light"
     },
     "output_type": "display_data"
    }
   ],
   "source": [
    "%matplotlib inline\n",
    "from sympy import symbols, Eq, plot_implicit\n",
    "\n",
    "x1,x2 = symbols('x1 x2')\n",
    "p1 = plot_implicit(Eq(5*x1**2+8*x1*x2+5*x2**2,1))\n",
    "fg, ax = p1._backend.fig, p1._backend.ax\n",
    "ax.set_aspect('equal')\n",
    "\n",
    "series = p1[0]\n",
    "data, action = series.get_points()\n",
    "data = np.array([(x_int.mid, y_int.mid) for x_int, y_int in data]) # pontos sobre a elipse\n",
    "#print(data)"
   ]
  },
  {
   "cell_type": "code",
   "execution_count": 15,
   "metadata": {},
   "outputs": [
    {
     "name": "stdout",
     "output_type": "stream",
     "text": [
      "[1. 9.]\n"
     ]
    },
    {
     "data": {
      "text/plain": [
       "<matplotlib.patches.FancyArrow at 0x12b4d2a90>"
      ]
     },
     "execution_count": 15,
     "metadata": {},
     "output_type": "execute_result"
    },
    {
     "data": {
      "image/png": "[encoded data removed]",
      "text/plain": [
       "<Figure size 648x216 with 1 Axes>"
      ]
     },
     "metadata": {
      "needs_background": "light"
     },
     "output_type": "display_data"
    }
   ],
   "source": [
    "# Calculando os auvalores e autovetores de A\n",
    "\n",
    "A = np.array([[5,4],[4, 5]])\n",
    "\n",
    "L, Q = np.linalg.eigh(A) # calcula os autovalores e autovetores de matriz simetrica\n",
    "print(L) # autovalores de A \n",
    "\n",
    "fig, ax = plt.subplots(nrows=1,ncols = 1,figsize=(9, 3))\n",
    "ax.set_aspect('equal')\n",
    "plt.scatter(data[:,0],data[:,1],s=3)\n",
    "\n",
    "# plotando os autovetores\n",
    "ax.arrow(0,0,Q[0,0],Q[1,0],head_width=0.1,length_includes_head=True,color='red')\n",
    "ax.arrow(0,0,1/np.sqrt(9)*Q[0,1],1/np.sqrt(9)*Q[1,1],head_width=0.1,length_includes_head=True,color='orange')"
   ]
  },
  {
   "cell_type": "markdown",
   "metadata": {},
   "source": [
    "O exemplo acima mostra que os autovetores definem os eixos principais do elipsoide, sendo o maior eixo dado pelo autovetor associado ao menor autovalor, o segundo maior eixo esta alinhado com o autovetor associado ao segundo menor autovalor e assim por diante. Além disso, o comprimento de cada eixo é dado por $1/\\sqrt(\\lambda_i)$."
   ]
  },
  {
   "cell_type": "markdown",
   "metadata": {},
   "source": [
    "## <font color='blue'> Quociente de Rayleigh </font>"
   ]
  },
  {
   "cell_type": "markdown",
   "metadata": {},
   "source": [
    "Seja $\\mathbf{A}$ uma matriz definida positiva e assuma que os autovalores de $\\mathbf{A}$ sejam tal que $\\lambda_1\\leq\\lambda_2\\cdots\\leq\\lambda_n$. O **quociente de Rayleigh** é dado por:\n",
    "\n",
    "$$\n",
    "R(\\mathbf{x})=\\frac{\\mathbf{x}^\\top\\mathbf{A}\\mathbf{x}}{\\mathbf{x}^\\top\\mathbf{x}}\n",
    "$$\n",
    "\n",
    "Fazendo $\\mathbf{x}=\\mathbf{Q}\\mathbf{y}$, temos\n",
    "\n",
    "$$\n",
    "R(\\mathbf{x})=\\frac{\\mathbf{x}^\\top\\mathbf{A}\\mathbf{x}}{\\mathbf{x}^\\top\\mathbf{x}}\n",
    "= \\frac{(\\mathbf{Q}\\mathbf{y})^\\top\\mathbf{A}(\\mathbf{Q}\\mathbf{y})}{(\\mathbf{Q}\\mathbf{y})^\\top(\\mathbf{Q}\\mathbf{y})}\n",
    "= \\frac{\\mathbf{y}^\\top\\mathbf{\\Lambda}\\mathbf{y}}{\\mathbf{y}^\\top\\mathbf{y}}\n",
    "= \\frac{\\lambda_1y_1^2+\\lambda_2y_2^2+\\cdots+\\lambda_ny_n^2}{y_1^2+y_2^2+\\cdots+y_n^2} \n",
    "\\geq \\frac{\\lambda_1(y_1^2+y_2^2+\\cdots+y_n^2)}{y_1^2+y_2^2+\\cdots+y_n^2}\n",
    "\\geq \\lambda_1\n",
    "$$\n",
    "\n",
    "Logo o menor valor de $R(x)$ é $\\lambda_1$, que corresponde ao menor autovalor de $\\mathbf{A}$. Além disso, se temos que:\n",
    "\n",
    "$$\n",
    "R(\\mathbf{x}_1)=\\frac{\\mathbf{x}_1^\\top\\mathbf{A}\\mathbf{x}_1}{\\mathbf{x}_1^\\top\\mathbf{x}_1}\n",
    "=\\frac{\\lambda_1\\mathbf{x}_1^\\top\\mathbf{x}_1}{\\mathbf{x}_1^\\top\\mathbf{x}_1}\n",
    "=\\lambda_1\n",
    "$$\n",
    "\n",
    "Logo acabamos de provar que:\n",
    "\n",
    "**Propriedade Importante**: O valor **mínimo** de $R(\\mathbf{x})$ é dado pelo **menor autovalor** de $\\mathbf{A}$ e ocorre quando $\\mathbf{x}$ é o autovetor associado a este menor autovalor.\n",
    "\n",
    "Pode-se, da mesma forma, mostrar que o valor **máximo** de $R(\\mathbf{x})$ é dado pelo **maior autovalor** de $\\mathbf{A}$ e ocorre quando $\\mathbf{x}$ é o autovetor associado a este maior autovalor."
   ]
  }
 ],
 "metadata": {
  "kernelspec": {
   "display_name": "Python 3",
   "language": "python",
   "name": "python3"
  },
  "language_info": {
   "codemirror_mode": {
    "name": "ipython",
    "version": 3
   },
   "file_extension": ".py",
   "mimetype": "text/x-python",
   "name": "python",
   "nbconvert_exporter": "python",
   "pygments_lexer": "ipython3",
   "version": "3.7.1"
  }
 },
 "nbformat": 4,
 "nbformat_minor": 2
}
