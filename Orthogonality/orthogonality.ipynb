{
 "cells": [
  {
   "cell_type": "markdown",
   "metadata": {},
   "source": [
    "# <font color='blue'>MAI5002 - Fundamentos de Matemática Aplicada</font>\n",
    "\n",
    "## <font color='blue'>Ortogonalidade</font>\n",
    "\n",
    "### Material produzido por Luis Gustavo Nonato\n",
    "---\n",
    "ICMC-USP"
   ]
  },
  {
   "cell_type": "markdown",
   "metadata": {},
   "source": [
    "### Conteúdo\n",
    "- Subespaço Ortogonais\n",
    "- Ortogonalidade dos Espaços Fundamentais\n",
    "- Teorema Fundamental da Álgebra Linear\n",
    "- Matrizes e o Mapeamento entre Espaços Fundamentais\n",
    "- Base Ortogonal\n",
    "- Gram-Schmidt e Fatoração QR\n",
    "\n",
    "---"
   ]
  },
  {
   "cell_type": "markdown",
   "metadata": {},
   "source": [
    "## <font color='blue'>Subespaços Ortogonais</font>\n",
    "\n",
    "Considere dois vetores $\\mathbf{u}$ and $\\mathbf{v}$ em $\\mathbb{R}^n$. Vamos sempre assumir que vetores correspondem a uma matriz com $n$ linhas e apenas uma coluna. Assim o produto escalar é dado pelo produto matricial\n",
    "\n",
    "$$\n",
    "<\\mathbf{u},\\mathbf{v}> = \\mathbf{u}^\\top\\mathbf{v} = \\mathbf{v}^\\top\\mathbf{u}\n",
    "$$\n",
    "\n",
    "\n",
    "Dois **vetores** $\\mathbf{u}$ and $\\mathbf{v}$ em $\\mathbb{R}^n$ são **ortogonais** (perpendiculares) se:\n",
    "\n",
    "$$\n",
    "\\mathbf{u}^\\top\\mathbf{v} = 0\n",
    "$$\n",
    "\n",
    "ou seja, se o produto escalar entre eles é zero. Se $\\mathbf{u}^\\top\\mathbf{v}>0$ então o ângulo entre eles é menor que $90^o$ e se $\\mathbf{u}^\\top\\mathbf{v}<0$ então o ângulo entre eles é maior que $90^o$.\n",
    "\n",
    "**Ortogonalidade e Independência Linear**\n",
    "\n",
    "Seja $\\mathbf{u}_1,\\ldots,\\mathbf{u}_k$ um conjunto de vetores (não nulos) ortogonais, ou seja, $\\mathbf{u}_i^\\top\\mathbf{u}_j = 0,\\, \\forall i\\neq j$. Então, tal conjunto é LI."
   ]
  },
  {
   "cell_type": "markdown",
   "metadata": {},
   "source": [
    "## <font color='blue'>Ortogonalidade dos Espaços Fundamentais</font>\n",
    "A idéia básica da ortogonalidade entre dois subespaços $\\mathcal{S}_1$ e $\\mathcal{S}_2$ é que para qualquer $\\mathbf{u}\\in\\mathcal{S}_1$ e $\\mathbf{v}\\in\\mathcal{S}_2$, então $\\mathbf{u}^\\top\\mathbf{v} = 0$. \n",
    "\n",
    "Note que de acordo com o raciocínio acima, em $\\mathbb{R}^3$, subespaços dados por duas retas ou por uma reta e um plano podem ser ortogonais, mas dois planos em $\\mathbb{R}^3$ nunca serão ortogonais (consegue justificar este fato?).\n",
    "\n",
    "**Ortogonalidade entre o Espaço da Linhas e o Espaço Nulo**\n",
    "\n",
    "Considere uma matrix $\\mathbf{A}$, $n\\times k$ como descrita abaixo:\n",
    "\n",
    "$$\n",
    "\\mathbf{A}=\n",
    "\\begin{bmatrix}\n",
    "-\\!- & \\mathbf{a}^\\top_1 & -\\!-\\\\\n",
    "& \\vdots &\\\\\n",
    "-\\!- & \\mathbf{a}^\\top_n & -\\!-\n",
    "\\end{bmatrix}\n",
    "$$\n",
    "\n",
    "Suponha que $\\mathbf{x}$ é um vetor que pertença ao espaço nulo de $\\mathbf{A}$, ou seja, $\\mathbf{A}\\mathbf{x}=\\mathbf{0}$. Note que o produto de $\\mathbf{A}$ por $\\mathbf{x}$ resulta em um vetor onde cada entrada é o produto escalar entre uma linha de $\\mathbf{A}$ e $\\mathbf{x}$. Portanto:\n",
    "\n",
    "$$\n",
    "\\mathbf{A}\\mathbf{x}=\n",
    "\\begin{bmatrix}\n",
    "-\\!- & \\mathbf{a}^\\top_1 & -\\!-\\\\\n",
    "& \\vdots &\\\\\n",
    "-\\!- & \\mathbf{a}^\\top_n & -\\!-\n",
    "\\end{bmatrix}\n",
    "\\begin{bmatrix}\n",
    "x_1 \\\\ x_2 \\\\ \\cdots \\\\ x_k\n",
    "\\end{bmatrix}\n",
    "=\n",
    "\\begin{bmatrix}\n",
    "\\mathbf{a}^\\top_1\\mathbf{x} \\\\ \\mathbf{a}^\\top_2\\mathbf{x} \\\\ \\cdots \\\\ \\mathbf{a}^\\top_n\\mathbf{x}\n",
    "\\end{bmatrix}=\n",
    "\\begin{bmatrix}\n",
    "0 \\\\ 0 \\\\ \\cdots \\\\ 0\n",
    "\\end{bmatrix}\n",
    "$$\n",
    "\n",
    "Ou seja, se $\\mathbf{x}$ é um vetor que pertence ao espaço nulo de $\\mathbf{A}$ então todas as linhas de $\\mathbf{A}$ são ortogonais a $\\mathbf{x}$. Seja $\\mathbf{v}$ um vetor no espaço linha de $\\mathbf{A}$, então:\n",
    "\n",
    "$$\n",
    "\\mathbf{v}=c_1\\mathbf{a}_1+\\cdots+\\mathbf{a}_n\\\\\n",
    "\\downarrow\\\\\n",
    "\\mathbf{x}^\\top\\mathbf{v} = c_1\\mathbf{x}^\\top\\mathbf{a}_1+\\cdots+c_n\\mathbf{x}^\\top\\mathbf{a}_n = 0\n",
    "$$\n",
    "\n",
    "Logo, **o espaço linha é ortogonal ao espaço nulo de uma matriz**."
   ]
  },
  {
   "cell_type": "markdown",
   "metadata": {},
   "source": [
    "#### Exemplo\n",
    "Considere a matriz \n",
    "$$\n",
    "\\mathbf{A}=\n",
    "\\begin{bmatrix}\n",
    "1 & 1 & 1\\\\\n",
    "1 & 0 & 1\n",
    "\\end{bmatrix}\n",
    "$$\n",
    "\n",
    "Os vetores linha são LI (consegue justificar este fato?). Como o espaço linha $\\mathcal{C}(\\mathbf{A}^\\top)$ é ortogonal ao espaço nulo $\\mathcal{N}(\\mathbf{A})$ e $dim(\\mathcal{C}(\\mathbf{A}^\\top))+dim(\\mathcal{N}(\\mathbf{A}))=3$ (consequência do teorema do núcleo e da imagem), então o espaço nulo tem dimensão 1. \n",
    "\n",
    "Para encontrar um vetor que gera o espaço nulo basta encontrarmos um vetor $\\mathbf{x}$ que seja ortogonal aos dois vetores linha. Neste caso, o vetor $[1,0,-1]$ satisfaz esta propriedade."
   ]
  },
  {
   "cell_type": "markdown",
   "metadata": {},
   "source": [
    "***Complemento ortogonal***\n",
    "\n",
    "Dado um espaço vetorial $\\mathcal{S}$, o espaço contendo dos os vetores que são ortogonais a $\\mathcal{S}$, denotado $\\mathcal{S}^\\perp$,  é chamado **complemento ortogonal** de $\\mathcal{S}$.\n",
    "\n",
    "Dois subespaços podem ser orgonais sem que sejam complemento ortogonal um do outro. Por exemplo, em $\\mathbb{R}^3$, o subespaço (reta) gerado pelo vetor $[1,0,0]$ e o subespaço gerado pelo vetor $[0,1,0]$ são ortogonais, porém não são subspaços complemento ortogonal um do outro (porque?). \n",
    "\n",
    "Para que dois espaços $\\mathcal{S}_1$ e $\\mathcal{S}_2$ em $\\mathbb{R}^n$ sejam complemento ortogonal um do outro, devemos ter que:\n",
    "\n",
    "1. $\\mathcal{S}_1=\\mathcal{S}_2^\\perp$ e $\\mathcal{S}_2=\\mathcal{S}_1^\\perp$\n",
    "2. $dim(\\mathcal{S}_1)+dim(\\mathcal{S}_2)=n$"
   ]
  },
  {
   "cell_type": "markdown",
   "metadata": {},
   "source": [
    "## <font color=blue> Teorema fundamental da Álgebra Linear</font>\n",
    "\n",
    "Para qualquer matrix $\\mathbf{A}$, temos que $\\mathcal{C}(\\mathbf{A}^\\top)\\subset\\mathbb{R}^k$, $\\mathcal{N}(\\mathbf{A})\\subset\\mathbb{R}^k$ e $dim(\\mathcal{C}(\\mathbf{A}^\\top))+dim(\\mathcal{N}(\\mathbf{A}))=k$, logo $\\mathcal{N}(\\mathbf{A})$ é o complemento orgotonal de $\\mathcal{C}(\\mathbf{A}^\\top)$, ou seja, o espaço nulo é o complemento ortogonal do espaço linha.\n",
    "\n",
    "O raciocínio acima pode ser aplicado à matriz $\\mathbf{A}^\\top$, o que nos permite concluir que o espaço coluna é o complemento ortogonal do espaço nulo à esquerda de $\\mathbf{A}$. Portanto:\n",
    "\n",
    "1. O espaço linha $\\mathcal{C}(\\mathbf{A}^\\top)$ é o complemento ortogonal do espaço nulo $\\mathcal{N}(\\mathbf{A})$\n",
    "\n",
    "2. O espaço coluna $\\mathcal{C}(\\mathbf{A})$ é o complemento ortogonal do espaço nulo à esquerda $\\mathcal{N}(\\mathbf{A^\\top})$"
   ]
  },
  {
   "cell_type": "markdown",
   "metadata": {},
   "source": [
    "<img src=\"tfal.png\"  style=\"width: 400px;\"/>"
   ]
  },
  {
   "cell_type": "markdown",
   "metadata": {},
   "source": [
    "## <font color=blue>Matrizes e o Mapeamento entre Espaços Fundamentais</font>\n",
    "\n",
    "Seja $\\mathcal{U}$ um subespaço de $\\mathbb{R}^n$ e $\\mathcal{V}=\\mathcal{U}^\\perp$ o complemento ortogonal $\\mathcal{U}$.  Suponha que $\\mathbf{u}_1,\\ldots,\\mathbf{u}_k$ seja uma base para o espaço $\\mathcal{U}$ e $\\mathbf{v}_{k+1},\\ldots,\\mathbf{v}_n$ uma base para $\\mathcal{V}$. Desta forma, o conjunto $\\{\\mathbf{u}_1,\\ldots,\\mathbf{u}_k,\\mathbf{v}_{k+1},\\ldots,\\mathbf{v}_n\\}$ forma uma base para $\\mathbb{R}^n$, ou seja, qualquer vetor $\\mathbf{x}\\in\\mathbb{R}^n$ pode ser escrito como:\n",
    "\n",
    "$$\n",
    "\\mathbf{x}=(c_1\\mathbf{u}_1+\\cdots+c_k\\mathbf{u}_k)+(c_{k+1}\\mathbf{v}_{k+1}+\\cdots+c_n\\mathbf{v}_n)\n",
    "$$\n",
    "\n",
    "Ou seja, qualquer vetor em $\\mathbb{R}^n$ é formado por uma parte $\\mathbf{u}$ que está em $\\mathcal{U}$ e outra parte $\\mathbf{v}$ que está em $\\mathcal{V}$, ou seja,\n",
    "\n",
    "$$\n",
    "\\mathbf{x}=\\mathbf{u}+\\mathbf{v}\n",
    "$$"
   ]
  },
  {
   "cell_type": "markdown",
   "metadata": {},
   "source": [
    "Considere agora uma matriz $\\mathbf{A}$ e suponha que $\\mathcal{U}$ seja o espaço linha de $\\mathbf{A}$ e $\\mathcal{V}$ o espaço nulo de $\\mathbf{A}$. Para qualquer vetor $\\mathbf{x}$ o produto \n",
    "\n",
    "$$\n",
    "\\mathbf{A}\\mathbf{x}=\\mathbf{A}\\mathbf{u}+\\mathbf{A}\\mathbf{v}\n",
    "$$\n",
    "\n",
    "onde $\\mathbf{u}\\in \\mathcal{U}$ e $\\mathbf{v}\\in \\mathcal{V}$. Porém, como $\\mathbf{v}$ é um vetor no espaço nulo, temos que $\\mathbf{A}\\mathbf{v}=\\mathbf{0}$, logo $\\mathbf{A}\\mathbf{x}=\\mathbf{A}\\mathbf{u}$. \n",
    "\n",
    "Lembrando que $\\mathbf{u}$ é um vetor no espaço linha e que\n",
    "\n",
    "$$\n",
    "\\mathbf{A}\\mathbf{u}=\n",
    "\\begin{bmatrix}\n",
    "| &  & |\\\\\n",
    "\\mathbf{a}_1  & \\cdots & \\mathbf{a}_k\\\\\n",
    "| &  & |\n",
    "\\end{bmatrix}\n",
    "\\begin{bmatrix}\n",
    "u_1 \\\\ \\vdots \\\\ u_k\n",
    "\\end{bmatrix}=\n",
    "u_1\\mathbf{a}_1 + \\cdots + u_k\\mathbf{a}_k\n",
    "$$\n",
    "\n",
    "temos que $\\mathbf{A}\\mathbf{u}$ é um vetor no espaço coluna de $\\mathbf{A}$. \n",
    "\n",
    "Portanto, temos que, data uma transformação linear $\\mathbf{A}$, $n\\times k$:\n",
    "\n",
    "1. $\\mathbf{A}$ mapeia seu espaço linha no seu espaço coluna\n",
    "2. para qualquer vetor $\\mathbf{x}\\in\\mathbb{R}^k$, parte de $\\mathbf{x}$ é mapeado por $\\mathbf{A}$ no espaço coluna e parte para a origem do espaço $\\mathbb{R}^n$."
   ]
  },
  {
   "cell_type": "markdown",
   "metadata": {},
   "source": [
    "<img src=\"matrixmapping.png\"  style=\"width: 400px;\"/>"
   ]
  },
  {
   "cell_type": "markdown",
   "metadata": {},
   "source": [
    "### Exercício Prático\n",
    "Construa um exemplo mostrando que de fato uma transformação $\\mathbf{A}$ mapeia o espaço das linhas no espaço coluna."
   ]
  },
  {
   "cell_type": "code",
   "execution_count": 1,
   "metadata": {},
   "outputs": [],
   "source": [
    "import numpy as np\n",
    "import matplotlib.pyplot as plt"
   ]
  },
  {
   "cell_type": "code",
   "execution_count": 11,
   "metadata": {},
   "outputs": [
    {
     "name": "stdout",
     "output_type": "stream",
     "text": [
      "[[ 1.  3.  8.]\n",
      " [ 1.  6.  2.]\n",
      " [ 1.  0. 14.]]\n"
     ]
    }
   ],
   "source": [
    "# Criando uma matrix A 3x3 onde apenas duas linhas são LI\n",
    "A = np.zeros((3,3))\n",
    "A[:2] = np.random.randint(0,10,size=(2,3))\n",
    "\n",
    "# gerando uma linha linearmente dependente das outras\n",
    "A[2] = 2*A[0]-A[1]\n",
    "print(A)"
   ]
  },
  {
   "cell_type": "markdown",
   "metadata": {},
   "source": [
    "Apenas duas linhas de $\\mathbf{A}$ sao LI, ou seja, o espaço linha é um subespaço com dimensão 2 (plano) no espaço $\\mathbb{R}^3$. Vamos tomar as duas primeiras linhas de $\\mathbf{A}$ como base para este espaço.\n",
    "\n",
    "Como o espaço linha tem a mesma dimensão do espaço coluna, sabemos que o espaço coluna também tem dimensão 2, logo, apenas duas colunas de $\\mathbf{A}$ são LI. Vamos tomar as duas primeiras colunas de $\\mathbf{A}$ como base para este espaço.\n",
    "\n",
    "O plano associado ao espaço linha é dado pela equação:\n",
    "$$\n",
    "\\tilde{\\mathbf{n}}=\\tilde{\\mathbf{a}}_1\\times\\tilde{\\mathbf{a}}_2\\\\\n",
    "\\tilde{\\mathbf{n}}^\\top\\mathbf{x}=0\n",
    "$$\n",
    "onde $\\tilde{\\mathbf{a}}_1$ e $\\tilde{\\mathbf{a}}_2$ são os vetores linha de $\\mathbf{A}$ e $\\mathbf{x}$ um vetor qualquer em $\\mathbb{R}^3$."
   ]
  },
  {
   "cell_type": "code",
   "execution_count": 12,
   "metadata": {},
   "outputs": [
    {
     "data": {
      "text/plain": [
       "<mpl_toolkits.mplot3d.art3d.Line3DCollection at 0x11dbbfb38>"
      ]
     },
     "execution_count": 12,
     "metadata": {},
     "output_type": "execute_result"
    }
   ],
   "source": [
    "import numpy as np\n",
    "import matplotlib.pyplot as plt\n",
    "from mpl_toolkits.mplot3d import Axes3D\n",
    "%matplotlib qt \n",
    "\n",
    "# Visualizando o espaço linha\n",
    "\n",
    "# gerando o plano associado ao espaço linha\n",
    "normal_t = np.cross(A[0],A[1])\n",
    "xx, yy = np.meshgrid(range(-3,3), range(-3,3))\n",
    "zz = -(normal_t[0] * xx + normal_t[1] * yy)/normal_t[2]\n",
    "\n",
    "# plot do plano\n",
    "fig1 = plt.figure()\n",
    "ax1 = fig1.add_subplot(111,projection='3d')\n",
    "ax1.plot_surface(xx, yy, zz, alpha=0.2)\n",
    "ax1.set_title('Espaco Linha')\n",
    "\n",
    "# plot da origem\n",
    "ax1.scatter(0,0,0,s=25,color='k')\n",
    "\n",
    "# plot dos vetores base do plano\n",
    "x1 = A[0]/np.linalg.norm(A[0])\n",
    "x2 = A[1]/np.linalg.norm(A[1])\n",
    "ax1.quiver(0, 0, 0, x1[0],x1[1],x1[2],color='blue')\n",
    "ax1.quiver(0, 0, 0, x2[0],x2[1],x2[2],color='red')\n",
    "\n",
    "# plot de uma combinação linear qualquer\n",
    "a = 1\n",
    "b = -1\n",
    "y = a*x1+b*x2\n",
    "ax1.quiver(0, 0, 0, y[0],y[1],y[2],color='green')"
   ]
  },
  {
   "cell_type": "markdown",
   "metadata": {},
   "source": [
    "O plano associado ao espaço coluna é dado pela equação:\n",
    "$$\n",
    "{\\mathbf{n}}={\\mathbf{a}}_1\\times{\\mathbf{a}}_2\\\\\n",
    "{\\mathbf{n}}^\\top\\mathbf{x}=0\n",
    "$$\n",
    "onde ${\\mathbf{a}}_1$ e ${\\mathbf{a}}_2$ são os vetores coluna de $\\mathbf{A}$ e $\\mathbf{x}$ um vetor qualquer em $\\mathbb{R}^3$."
   ]
  },
  {
   "cell_type": "code",
   "execution_count": 13,
   "metadata": {},
   "outputs": [
    {
     "data": {
      "text/plain": [
       "<mpl_toolkits.mplot3d.art3d.Line3DCollection at 0x11dcae358>"
      ]
     },
     "execution_count": 13,
     "metadata": {},
     "output_type": "execute_result"
    }
   ],
   "source": [
    "# Visualizando o espaço coluna\n",
    "\n",
    "# gerando o plano associado ao espaço coluna\n",
    "normal = np.cross(A[:,0],A[:,1])\n",
    "xx, yy = np.meshgrid(range(-3,3), range(-3,3))\n",
    "zz = -(normal[0] * xx + normal[1] * yy)/normal[2]\n",
    "\n",
    "# plot do plano\n",
    "fig2 = plt.figure()\n",
    "ax2 = fig2.add_subplot(111,projection='3d')\n",
    "ax2.plot_surface(xx, yy, zz, alpha=0.2)\n",
    "ax1.set_title('Espaco Coluna')\n",
    "\n",
    "# plot da origem\n",
    "ax2.scatter(0,0,0,s=25,color='k')\n",
    "\n",
    "# plot dos vetores base do plano\n",
    "x1 = A[:,0]/np.linalg.norm(A[:,0])\n",
    "x2 = A[:,1]/np.linalg.norm(A[:,1])\n",
    "ax2.quiver(0, 0, 0, x1[0],x1[1],x1[2],color='blue')\n",
    "ax2.quiver(0, 0, 0, x2[0],x2[1],x2[2],color='red')\n",
    "\n",
    "# plot de transformação do vetor y a partir do espaço linha no espaço coluna\n",
    "x = np.dot(A,y)\n",
    "ax2.quiver(0, 0, 0, x[0],x[1],x[2],color='orange')"
   ]
  },
  {
   "cell_type": "markdown",
   "metadata": {},
   "source": [
    "## <font color='blue'> Base Ortogonal </font>"
   ]
  },
  {
   "cell_type": "markdown",
   "metadata": {},
   "source": [
    "Uma **base ortogonal** para um (sub)espaço é uma base onde os vetores da base são ortogonais entre si. Se dividirmos cada vetor pela sua norma, os vetores se tornam de comprimento unitário e a base passa a ser chamada **base ortonormal**.\n",
    "\n",
    "Matematicament, seja $\\mathbf{u}_1,\\ldots,\\mathbf{u}_k$ uma base para um subespaço $\\mathcal{S}\\subset\\mathbb{R}^n$. Tal base é ortonomal se \n",
    "\n",
    "$$\n",
    "\\mathbf{u}_i^\\top\\mathbf{u}_j =\n",
    "\\left\\{\\begin{matrix}\n",
    "0 & \\mbox{ se } i\\neq j\\\\\n",
    "1 & \\mbox{ se } i = j\n",
    "\\end{matrix}\\right.\n",
    "$$"
   ]
  },
  {
   "cell_type": "markdown",
   "metadata": {},
   "source": [
    "### Matriz Ortonormal (Ortogonal)\n",
    "Seja $\\mathbf{Q}$ uma matriz cujas colunas são ortonormais, então \n",
    "\n",
    "$$\n",
    "\\mathbf{Q}^\\top\\mathbf{Q}=\n",
    "\\begin{bmatrix}\n",
    "-\\!- & \\mathbf{q}^\\top_1 & -\\!-\\\\\n",
    "& \\vdots &\\\\\n",
    "-\\!- & \\mathbf{q}^\\top_n & -\\!-\n",
    "\\end{bmatrix}\n",
    "\\begin{bmatrix}\n",
    "| &  & |\\\\\n",
    "\\mathbf{q}_1  & \\cdots & \\mathbf{q}_n\\\\\n",
    "| &  & |\n",
    "\\end{bmatrix}=\n",
    "\\begin{bmatrix}\n",
    "1 & 0 & \\cdots & 0\\\\\n",
    "0 & 1 & \\cdots & 0\\\\\n",
    "  &   & \\vdots & \\\\\n",
    "0 & 0 & \\cdots & 1\\\\\n",
    "\\end{bmatrix}\n",
    "$$\n",
    "\n",
    "Se $\\mathbf{Q}$ for uma matriz quadrada ela é chamada de **matriz ortonormal** e neste caso\n",
    "$\\mathbf{Q}^{-1}=\\mathbf{Q}^\\top$, ou seja, a inversa de uma matriz ortogonal é igual sua transposta.\n",
    "\n",
    "Temos ainda que $\\mathbf{Q}\\mathbf{Q}^\\top=\\mathbf{I}$, logo **as linhas de uma matriz ortonormal também são ortonormais**.\n",
    "\n",
    "#### Propriedades das matrizes ortonormais\n",
    "\n",
    "**1. Preservação da norma por transformação ortonormal**\n",
    "\n",
    "Uma matriz ortogonal corresponde a uma transformação linear que preserva o comprimento dos vetores no mapeamento. \n",
    "\n",
    "$$\n",
    "\\|\\mathbf{Q}\\mathbf{x}\\|=\\|\\mathbf{x}\\|\\\\\n",
    "\\downarrow\\\\\n",
    "\\|\\mathbf{Q}\\mathbf{x}\\|^2= (\\mathbf{Q}\\mathbf{x})^\\top(\\mathbf{Q}\\mathbf{x})= \n",
    "\\mathbf{x}^\\top\\mathbf{Q}^\\top\\mathbf{Q}\\mathbf{x} = \\mathbf{x}^\\top\\mathbf{x}=\n",
    "\\|\\mathbf{x}\\|^2\n",
    "$$\n",
    "\n",
    "**2. Coeficientes da combinação linear de vetores ortonormais**\n",
    "\n",
    "Se $\\mathbf{q}_1,\\ldots,\\mathbf{q}_k$ é uma base ortonormal, então qualquer vetor $\\mathbf{x}$ no espaço $\\mathcal{S}$ gerado pela base é dado por\n",
    "\n",
    "$$\n",
    "\\mathbf{x}=c_1\\mathbf{q}_1+\\cdots+c_k\\mathbf{q}_k\n",
    "$$\n",
    "\n",
    "O fato importante é que como a base é ortogonal, os coeficientes $c_1,\\ldots,c_k$ são obtidos a partir da projeção $\\mathbf{x}$ nos vetores da base, ou seja:\n",
    "\n",
    "$$\n",
    "c_i=\\mathbf{q}_i^\\top\\mathbf{x}\n",
    "$$\n",
    "\n",
    "Isto é verdade pois:\n",
    "\n",
    "$$\n",
    "\\mathbf{x}=c_1\\mathbf{q}_1+\\cdots+c_k\\mathbf{q}_k\\\\\n",
    "\\downarrow\\\\\n",
    "\\mathbf{q}_i^\\top\\mathbf{x}=\\mathbf{q}_i^\\top(c_1\\mathbf{q}_1+\\cdots+c_k\\mathbf{q}_k)=c_i\\mathbf{q}_i^\\top\\mathbf{q}_i = c_i\n",
    "$$"
   ]
  },
  {
   "cell_type": "markdown",
   "metadata": {},
   "source": [
    "## <font color='blue'> Gram-Schmidt e Fatoração QR</font>"
   ]
  },
  {
   "cell_type": "markdown",
   "metadata": {},
   "source": [
    "O processo de Gram-Schmidt é um método ortogonalização de uma base, ou seja, dada uma base $\\mathbf{u}_1,\\ldots,\\mathbf{u}_k$ para um espaço $\\mathcal{S}$ o método de Gram-Schmidt constrói uma outra base $\\mathbf{q}_1,\\ldots,\\mathbf{q}_k$  para o espaço  $\\mathcal{S}$ que é ortonormal.\n",
    "\n",
    "O processo funciona da seguinte forma:\n",
    "\n",
    "$$\n",
    "\\mathbf{q}_1=\\frac{\\mathbf{u}_1}{\\|\\mathbf{u}_1\\|}\n",
    "$$"
   ]
  },
  {
   "cell_type": "markdown",
   "metadata": {},
   "source": [
    "<img src=\"gram-schmidt2.png\"  style=\"width: 300px;\"/>"
   ]
  },
  {
   "cell_type": "markdown",
   "metadata": {},
   "source": [
    "$$\n",
    "\\mathbf{\\tilde{q}}_2 = \\mathbf{u}_2 - (\\mathbf{u}_2^\\top\\mathbf{q}_1)\\mathbf{q}_1\\\\\n",
    "\\downarrow \\\\\n",
    "\\mathbf{q}_2 = \\frac{\\mathbf{\\tilde{q}}_2}{\\|\\mathbf{\\tilde{q}}_2\\|}\n",
    "$$"
   ]
  },
  {
   "cell_type": "markdown",
   "metadata": {},
   "source": [
    "$$\n",
    "\\mathbf{\\tilde{q}}_3 = \\mathbf{u}_3 - (\\mathbf{u}_3^\\top\\mathbf{q}_1)\\mathbf{q}_1 - (\\mathbf{u}_3^\\top\\mathbf{q}_2)\\mathbf{q}_2\\\\\n",
    "\\downarrow \\\\\n",
    "\\mathbf{q}_3 = \\frac{\\mathbf{\\tilde{q}}_3}{\\|\\mathbf{\\tilde{q}}_3\\|}\n",
    "$$"
   ]
  },
  {
   "cell_type": "markdown",
   "metadata": {},
   "source": [
    "No caso geral temos que:\n",
    "$$\n",
    "\\mathbf{\\tilde{q}}_i = \\mathbf{u}_i - \\sum_{j=1}^{i-1}(\\mathbf{u}_i^\\top\\mathbf{q}_j)\\mathbf{q}_j\\\\\n",
    "\\downarrow \\\\\n",
    "\\mathbf{q}_i = \\frac{\\mathbf{\\tilde{q}}_i}{\\|\\mathbf{\\tilde{q}}_i\\|}\n",
    "$$"
   ]
  },
  {
   "cell_type": "code",
   "execution_count": 14,
   "metadata": {},
   "outputs": [
    {
     "data": {
      "text/plain": [
       "<mpl_toolkits.mplot3d.art3d.Line3DCollection at 0x11dd72908>"
      ]
     },
     "execution_count": 14,
     "metadata": {},
     "output_type": "execute_result"
    }
   ],
   "source": [
    "import numpy as np\n",
    "import matplotlib.pyplot as plt\n",
    "from mpl_toolkits.mplot3d import Axes3D\n",
    "%matplotlib qt \n",
    "\n",
    "# Exmplo de Gram-Schmidt im R3\n",
    "\n",
    "# base em R3\n",
    "u1 = np.array([1,1,1])\n",
    "u1 = u1/np.linalg.norm(u1)   # a normalização só é necessária para a visualização\n",
    "\n",
    "u2 = np.array([1,1,0])\n",
    "u2 = u2/np.linalg.norm(u2)\n",
    "\n",
    "u3 = np.array([0,0.5,1])\n",
    "u3 = u3/np.linalg.norm(u3)\n",
    "\n",
    "# base ortogonal por gram-schmidt\n",
    "q1 = u1/np.linalg.norm(u1)\n",
    "\n",
    "q2 = u2 - np.dot(u2.T,q1)*q1\n",
    "q2 = q2/np.linalg.norm(q2)\n",
    "\n",
    "q3 = u3 - np.dot(u3.T,q1)*q1 - np.dot(u3.T,q2)*q2\n",
    "q3 = q3/np.linalg.norm(q3)\n",
    "\n",
    "# plotando os vetores\n",
    "fig1 = plt.figure()\n",
    "ax1 = fig1.add_subplot(111,projection='3d')\n",
    "\n",
    "# plot da origem\n",
    "ax1.scatter(0,0,0,s=25,color='k')\n",
    "\n",
    "c = 0.05\n",
    "# plot dos vetores da base original\n",
    "ax1.quiver(0, 0, 0, c*u1[0],c*u1[1],c*u1[2],color='blue')\n",
    "ax1.quiver(0, 0, 0, c*u2[0],c*u2[1],c*u2[2],color='blue')\n",
    "ax1.quiver(0, 0, 0, c*u3[0],c*u3[1],c*u3[2],color='blue')\n",
    "\n",
    "d = 0.04\n",
    "# plot dos vetores base ortonormal\n",
    "ax1.quiver(0, 0, 0, d*q1[0],d*q1[1],d*q1[2],color='red')\n",
    "ax1.quiver(0, 0, 0, d*q2[0],d*q2[1],d*q2[2],color='red')\n",
    "ax1.quiver(0, 0, 0, d*q3[0],d*q3[1],d*q3[2],color='red')"
   ]
  },
  {
   "cell_type": "markdown",
   "metadata": {},
   "source": [
    "### Fatoração QR\n",
    "\n",
    "Considere a matriz abaixo, supondo que as colunas são LI:\n",
    "\n",
    "$$\n",
    "\\mathbf{A}=\n",
    "\\begin{bmatrix}\n",
    "| &  & |\\\\\n",
    "\\mathbf{u}_1  & \\cdots & \\mathbf{u}_k\\\\\n",
    "| &  & |\n",
    "\\end{bmatrix}\n",
    "$$\n",
    "\n",
    "Aplicando o processo de ortogonalização de Gram-Schmidt, tempos que:\n",
    "\n",
    "$$\n",
    "\\mathbf{q}_1=\\frac{\\mathbf{u}_1}{\\|\\mathbf{u}_1\\|} \\rightarrow \\mathbf{u}_1=\\mathbf{q}_1\\|\\mathbf{u}_1\\|\\\\\n",
    "\\mathbf{q}_2=\\frac{\\mathbf{u}_2-(\\mathbf{u}_2^\\top\\mathbf{q}_1)\\mathbf{q}_1}{\\|\\mathbf{u}_2-(\\mathbf{u}_2^\\top\\mathbf{q}_1)\\mathbf{q}_1\\|}\\rightarrow \\mathbf{u}_2=\\mathbf{q}_2\\|\\mathbf{u}_2-(\\mathbf{u}_2^\\top\\mathbf{q}_1)\\mathbf{q}_1\\| + (\\mathbf{u}_2^\\top\\mathbf{q}_1)\\mathbf{q}_1\\\\\n",
    "\\vdots\\\\\n",
    "\\mathbf{q}_i = \\frac{\\mathbf{u}_i-(\\mathbf{u}_i^\\top\\mathbf{q}_1)\\mathbf{q}_1-\\cdots-(\\mathbf{u}_i^\\top\\mathbf{q}_{i-1})\\mathbf{q}_{i-1}}{\\|\\mathbf{u}_i-(\\mathbf{u}_i^\\top\\mathbf{q}_1)\\mathbf{q}_1-\\cdots-(\\mathbf{u}_i^\\top\\mathbf{q}_{i-1})\\mathbf{q}_{i-1}\\|}\\rightarrow\n",
    "\\mathbf{u}_i = \\mathbf{q}_i\\|\\mathbf{u}_i-\\sum_{l=1}^{i-1}(\\mathbf{u}_i^\\top\\mathbf{q}_l)\\mathbf{q}_l\\| + \\sum_{l=1}^{i-1}(\\mathbf{u}_i^\\top\\mathbf{q}_l)\\mathbf{q}_l\n",
    "$$\n",
    "\n",
    "Se denotarmos:\n",
    "\n",
    "$$\n",
    "r_{ij}=\\left\\{\\begin{array}{ll}\n",
    "\\mathbf{u}_i^\\top\\mathbf{q}_j & \\mbox{ se } i\\neq j\\\\\n",
    "\\|\\mathbf{u}_i-\\sum_{l=1}^{i-1}(\\mathbf{u}_i^\\top\\mathbf{q}_l)\\mathbf{q}_l\\| & \\mbox{ se } i=j\n",
    "\\end{array}\\right.\n",
    "$$\n",
    "\n",
    "temos que:\n",
    "\n",
    "$$\n",
    "\\mathbf{u}_i = \\mathbf{q}_1 r_{1i} + \\mathbf{q}_2 r_{2i} + \\cdots + \\mathbf{q}_i r_{ii}\n",
    "$$\n",
    "\n",
    "ou seja,\n",
    "\n",
    "$$\n",
    "\\begin{bmatrix}\n",
    "| &  & |\\\\\n",
    "\\mathbf{u}_1  & \\cdots & \\mathbf{u}_k\\\\\n",
    "| &  & |\n",
    "\\end{bmatrix}=\n",
    "\\begin{bmatrix}\n",
    "| &  & |\\\\\n",
    "\\mathbf{q}_1  & \\cdots & \\mathbf{q}_k\\\\\n",
    "| &  & |\n",
    "\\end{bmatrix}\n",
    "\\begin{bmatrix}\n",
    "r_{11} & r_{12} & \\cdots & r_{1k}\\\\\n",
    "0      & r_{22} & \\cdots & r_{2k}\\\\\n",
    "\\vdots & \\vdots & \\ddots & \\vdots\\\\\n",
    "0      & 0      & \\cdots & r_{kk}\\\\\n",
    "\\end{bmatrix}\\\\\n",
    "\\downarrow\\\\\n",
    "\\mathbf{U}=\\mathbf{Q}\\mathbf{R}\n",
    "$$\n",
    "\n",
    "onde $\\mathbf{Q}$ é uma matriz ortogonal cujo espaço coluna é o mesmo que o espaço coluna de $\\mathbf{U}$. Desta forma, o método QR é uma forma de calcular uma base ortonormal dado umm conjunto de vetores LI no espaço desejado."
   ]
  },
  {
   "cell_type": "code",
   "execution_count": 22,
   "metadata": {},
   "outputs": [
    {
     "name": "stdout",
     "output_type": "stream",
     "text": [
      "[[ 8  0  8]\n",
      " [ 0  4  2]\n",
      " [ 8  4 10]]\n",
      "[[-0.70710678  0.40824829 -0.57735027]\n",
      " [-0.         -0.81649658 -0.57735027]\n",
      " [-0.70710678 -0.40824829  0.57735027]]\n",
      "[[-1.13137085e+01 -2.82842712e+00 -1.27279221e+01]\n",
      " [ 0.00000000e+00 -4.89897949e+00 -2.44948974e+00]\n",
      " [ 0.00000000e+00  0.00000000e+00  6.66133815e-16]]\n"
     ]
    }
   ],
   "source": [
    "A = np.random.randint(0,9,size=(3,3))\n",
    "A[2] = A[0]+A[1]\n",
    "print(A)\n",
    "\n",
    "Q,R = np.linalg.qr(A)\n",
    "\n",
    "print(Q)\n",
    "print(R)"
   ]
  }
 ],
 "metadata": {
  "kernelspec": {
   "display_name": "Python 3",
   "language": "python",
   "name": "python3"
  },
  "language_info": {
   "codemirror_mode": {
    "name": "ipython",
    "version": 3
   },
   "file_extension": ".py",
   "mimetype": "text/x-python",
   "name": "python",
   "nbconvert_exporter": "python",
   "pygments_lexer": "ipython3",
   "version": "3.7.1"
  }
 },
 "nbformat": 4,
 "nbformat_minor": 2
}
