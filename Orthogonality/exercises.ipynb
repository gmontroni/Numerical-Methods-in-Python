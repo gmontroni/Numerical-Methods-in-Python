{
 "cells": [
  {
   "cell_type": "markdown",
   "metadata": {},
   "source": [
    "# <font color='blue'>MAI5002 - Fundamentos de Matemática Aplicada</font>\n",
    "\n",
    "## <font color='blue'>Ortogonalidade - Solução dos Exercícios </font>\n",
    "\n",
    "### Material produzido por Luis Gustavo Nonato \n",
    "\n",
    "ICMC-USP\n",
    "\n",
    "----"
   ]
  },
  {
   "cell_type": "code",
   "execution_count": 2,
   "metadata": {},
   "outputs": [],
   "source": [
    "import numpy as np\n",
    "import matplotlib.pyplot as plt"
   ]
  },
  {
   "cell_type": "markdown",
   "metadata": {},
   "source": [
    "### Exercício 1)\n",
    "O arquivo `teste_matriz.dat` (disponível para download no repositório) armazena uma matriz com 10 linhas e 7 colunas. Leia a matriz e verifique se as colunas são ortogonais."
   ]
  },
  {
   "cell_type": "code",
   "execution_count": 17,
   "metadata": {},
   "outputs": [
    {
     "name": "stdout",
     "output_type": "stream",
     "text": [
      "[[ 1.  0. -0.  0.  0. -0. -0.]\n",
      " [ 0.  1. -0. -0.  0.  0.  0.]\n",
      " [-0. -0.  1.  0.  0.  0. -0.]\n",
      " [ 0. -0.  0.  1.  0. -0.  0.]\n",
      " [ 0.  0.  0.  0.  1.  0. -0.]\n",
      " [-0.  0.  0. -0.  0.  1. -0.]\n",
      " [-0.  0. -0.  0. -0. -0.  1.]]\n"
     ]
    }
   ],
   "source": [
    "# Solução\n",
    "\n",
    "X = np.loadtxt('teste_matriz.dat') \n",
    "#print(X)\n",
    "\n",
    "prodint = np.dot(X.T, X)\n",
    "np.set_printoptions(precision = 4, suppress = True)\n",
    "print(prodint)\n",
    "\n",
    "#Note que fazendo o produto interno de X^T X, temos que a matriz é ortogonal.        \n"
   ]
  },
  {
   "cell_type": "markdown",
   "metadata": {},
   "source": [
    "### Exercício 2)\n",
    "Construa uma transformação linear que leva vetores de $\\mathbb{R}^5$ para o sub-espaço $\\mathcal{S}$ gerado pelos vetores $[1,1,1]$ e $[0,0,1]$ em $\\mathbb{R}^3$. Verificar que a transformação obtida está realizando o mapeamento corretamente."
   ]
  },
  {
   "cell_type": "code",
   "execution_count": 52,
   "metadata": {
    "scrolled": true
   },
   "outputs": [
    {
     "name": "stdout",
     "output_type": "stream",
     "text": [
      "[0.]\n",
      "[0.]\n",
      "[0.]\n",
      "[0.]\n",
      "[0.]\n",
      "[0.]\n",
      "[0.]\n",
      "[0.]\n",
      "[0.]\n",
      "[0.]\n"
     ]
    }
   ],
   "source": [
    "# Solução\n",
    "\n",
    "# Lembrando que uma transformação linear leva o espaço linha no espaço coluna\n",
    "# a matriz deve ter dimensão 3x5\n",
    "# Além disso, os vetores [1,1,1] e [0,0,1] devem estar entre as colunas\n",
    "# e as demais colunas devem ser combinações lineares destes vetores\n",
    "\n",
    "#Criando uma matriz linha\n",
    "A = np.zeros((3,5))\n",
    "#print(A)\n",
    "\n",
    "#colocando os vetores [1,1,1] e [0,0,1] para garantir\n",
    "\n",
    "A[:,:2] = np.array([[1,1,1],[0,0,1]]).T\n",
    "#A[:,0] = [1,1,1]\n",
    "#A[:,1] = [0,0,1]\n",
    "#print(A)\n",
    "\n",
    "#Criando os elementos para a combinação das outras colunas de A\n",
    "\n",
    "c = np.array([[1,2,3],[-1,0,1]])\n",
    "#print('c = \\n', c)\n",
    "\n",
    "#Complementando a matriz A com vetores que são combinação a partir de [1,1,1] e [0,0,1]\n",
    "A[:,2:] = np.dot([A[:,:2]],c)\n",
    "#print('A = \\n', A)\n",
    "\n",
    "#Fazendo o produto vetorial de [1,1,1] e [0,0,1]\n",
    "n = np.cross(A[:,0],A[:,1])   \n",
    "#print('n = \\n', n)\n",
    "\n",
    "#criando um vetor randómico b que é solução de Ax\n",
    "\n",
    "for i in range(10):\n",
    "    x = np.random.uniform(low=-1,high=1,size=(5,1))\n",
    "    b = np.dot(A,x)\n",
    "    #print('b',i,'= \\n',b)\n",
    "    print(np.dot(n,b))          #verificando se n é ortogonal a b\n"
   ]
  },
  {
   "cell_type": "markdown",
   "metadata": {},
   "source": [
    "Logo, todos os vetores que são levados do R5 para o R3 a partir da transformação A, são ortogonais ao vetor n que é produto vetorial de a1 e a2, ou seja, b está indo para o plano em R3."
   ]
  },
  {
   "cell_type": "markdown",
   "metadata": {},
   "source": [
    "### Exercício 3)\n",
    "Construa uma transformação linear $\\mathbf{A}:\\mathbb{R}^5\\rightarrow\\mathbb{R}^3$ de modo que os vetores $[1,1,0,0,0]$ e $[0,1,0,0,0]$ sejam o complemento ortogonal do espaço linha.\n",
    "Vefique que a transformação encontrada está correta."
   ]
  },
  {
   "cell_type": "code",
   "execution_count": 71,
   "metadata": {},
   "outputs": [
    {
     "name": "stdout",
     "output_type": "stream",
     "text": [
      "[0. 0. 0.]\n",
      "[0. 0. 0.]\n"
     ]
    }
   ],
   "source": [
    "# Solução\n",
    "\n",
    "A = np.zeros((3,5))        #Gerando a matriz da transformação de R5 em R3\n",
    "\n",
    "A[:3,:] = np.array([[0,0,1,0,0],[0,0,0,1,0],[0,0,0,0,1]])    #Gerando as linhas da matriz, onde elas são o complemento\n",
    "#print(A)                                                     #ortogonal do nucleo, ou seja, são ortogonais e geram R5\n",
    "\n",
    "#Assim, para verificar se A satisfaz a transformação, basta que Av1 = 0 e Av2 = 0\n",
    "\n",
    "v1 = np.array([1,1,0,0,0]).T\n",
    "v2 = np.array([0,1,0,0,0]).T\n",
    "#print(v1,v2)\n",
    "\n",
    "print(np.dot(A,v1))\n",
    "print(np.dot(A,v2))"
   ]
  },
  {
   "cell_type": "markdown",
   "metadata": {},
   "source": [
    "### Exercício 4)\n",
    "Construa uma transformação linear que mapeie o hiperplano $x_1+x_2+x_3+x_4+x_5=0$ para o  espaço $\\mathbb{R}^2$ e visualize o resultado da transformação para alguns pontos gerados sobre o hiperplano."
   ]
  },
  {
   "cell_type": "code",
   "execution_count": 34,
   "metadata": {},
   "outputs": [
    {
     "name": "stdout",
     "output_type": "stream",
     "text": [
      "[[ 1  0 -1  0  0]\n",
      " [ 0 -1  0  2 -1]]\n",
      "[0. 0. 0. 0. 0. 0. 0. 0. 0. 0. 0. 0. 0. 0. 0. 0. 0. 0. 0. 0. 0. 0. 0. 0.\n",
      " 0. 0. 0. 0. 0. 0. 0. 0. 0. 0. 0. 0. 0. 0. 0. 0. 0. 0. 0. 0. 0. 0. 0. 0.\n",
      " 0. 0.]\n",
      "(2, 50)\n"
     ]
    },
    {
     "data": {
      "text/plain": [
       "<matplotlib.collections.PathCollection at 0x1ebad667b20>"
      ]
     },
     "execution_count": 34,
     "metadata": {},
     "output_type": "execute_result"
    },
    {
     "data": {
      "image/png": "[encoded data removed]",
      "text/plain": [
       "<Figure size 432x288 with 1 Axes>"
      ]
     },
     "metadata": {
      "needs_background": "light"
     },
     "output_type": "display_data"
    }
   ],
   "source": [
    "# Solução\n",
    "\n",
    "#v1 = np.array([1,-1,2,-1,-1])\n",
    "#v2 = np.array([1,0,2,-2,-1])\n",
    "\n",
    "A = np.zeros([2,5])\n",
    "#A[:2,:] = np.array([v1,v2])\n",
    "A = np.array([[1,0,-1,0,0],[0,-1,0,2,-1]])\n",
    "print(A)\n",
    "\n",
    "#X = zeros([5,50])\n",
    "\n",
    "X = np.random.uniform(-1,1,size=(5,50))\n",
    "#print(X[-1])\n",
    "X[-1] = -np.sum(X[:-1],axis=0)\n",
    "\n",
    "\n",
    "#Verificando que os pontos estão no hiperplano (satisfazem a equação)\n",
    "print(np.sum(X, axis=0))\n",
    "\n",
    "# para visualizar o resultado da transformação, basta aplicar o transformação A na matrix X\n",
    "# e plotar os pontos gerados\n",
    "\n",
    "B = np.dot(A,X)  # a matrix M contém os pontos em R2 em suas colunas\n",
    "print(np.shape(B))\n",
    "\n",
    "# plotando os eixos \n",
    "plt.plot([-1,1],[0,0],color='k')\n",
    "plt.plot([0,0],[-1,1],color='k')\n",
    "\n",
    "# plotando os pontos\n",
    "plt.scatter(X[0,:],X[1,:])"
   ]
  },
  {
   "cell_type": "markdown",
   "metadata": {},
   "source": [
    "### Exercício 5)\n",
    "No exercício anterior, podemos afirmar que qualquer ponto  (diferente de $[0,0]$) sobre o hiperplano $x_1+x_2+x_3+x_4+x_5=0$ será mapeado para um ponto diferente de $[0,0]$ em $\\mathbb{R}^2$? Em caso afirmativo justifique sua resposta, em caso negativo, dê exemplo de um ponto sobre no hiperplano que é mapeado na origem do espaço $\\mathbb{R}^2$."
   ]
  },
  {
   "cell_type": "code",
   "execution_count": 35,
   "metadata": {
    "scrolled": true
   },
   "outputs": [
    {
     "name": "stdout",
     "output_type": "stream",
     "text": [
      "[-1.5  1.  -1.5  1.   1. ]\n",
      "ponto z=a*y1+b*y2 pertence ao plano? True\n",
      "A imagem de z= [-1.5  1.  -1.5  1.   1. ] pela transformação A é [0. 0.]\n"
     ]
    }
   ],
   "source": [
    "# Solução\n",
    "\n",
    "#Base do espaço nulo de A\n",
    "y1 = np.array([0,-1,0,0,1])\n",
    "y2 = np.array([-3/2,2,-3/2,1,0])\n",
    "\n",
    "#Logo podemos gerar uma combinação linear dessa base\n",
    "a = 1\n",
    "b = 1\n",
    "z = a*y1 + a*y2\n",
    "\n",
    "print(z)\n",
    "\n",
    "#note que z está no hiperplano, pois\n",
    "\n",
    "# verificando se z está no hiperplano x_1+x_2+x_3+x_4+x_5=0\n",
    "n = np.array([1,1,1,1,1])                  #pois n é ortogonal a x, logo n pertence ao hiperplano\n",
    "#print(np.dot(n.T,z))\n",
    "print('ponto z=a*y1+b*y2 pertence ao plano?',np.abs(np.dot(n.T,z))<1e-5)\n",
    "\n",
    "# mapeando o ponto z via transformação A\n",
    "print('A imagem de z=',z,'pela transformação A é',np.dot(A,z))\n"
   ]
  },
  {
   "cell_type": "markdown",
   "metadata": {},
   "source": [
    "### Exercício 6) \n",
    "Considere a transformação linear dada pela matriz \n",
    "$$\n",
    "\\left(\\begin{array}{ccccccc}\n",
    "3 & 9 & 6 & 6 & 9 & 3 & 1\\\\\n",
    "2 & 0 & 9 & 2 & 0 & 5 & 3\\\\\n",
    "0 & 0 & 1 & 0 & 1 & 0 & 2\n",
    "\\end{array}\\right)\n",
    "$$\n",
    "\n",
    "a) Qual a dimensão do núcleo da transformação?<br>\n",
    "b) Encontre uma base para o espaço núcleo.<br>\n",
    "c) Verifique que a base encontrada está gerando o  núcleo."
   ]
  },
  {
   "cell_type": "code",
   "execution_count": 38,
   "metadata": {},
   "outputs": [
    {
     "name": "stdout",
     "output_type": "stream",
     "text": [
      "[[0. 0. 0. 0.]\n",
      " [0. 0. 0. 0.]\n",
      " [0. 0. 0. 0.]\n",
      " [0. 0. 0. 0.]\n",
      " [0. 0. 0. 0.]\n",
      " [0. 0. 0. 0.]\n",
      " [0. 0. 0. 0.]]\n",
      "[[-1.          4.5        -2.5         7.5       ]\n",
      " [-0.33333333 -1.83333333  0.5        -1.27777778]\n",
      " [-0.         -1.         -0.         -2.        ]\n",
      " [ 1.          0.          0.          0.        ]\n",
      " [ 0.          1.          0.          0.        ]\n",
      " [ 0.          0.          1.          0.        ]\n",
      " [ 0.          0.          0.          1.        ]]\n"
     ]
    }
   ],
   "source": [
    "# Solução\n",
    "B = np.asarray([[3, 9, 6, 6, 9, 3, 1],\n",
    "                [2, 0, 9, 2, 0, 5, 3],\n",
    "                [0, 0, 1 , 0, 1, 0, 2]])\n",
    "\n",
    "\n",
    "base = np.zeros([7,4])\n",
    "print(base)\n",
    "\n",
    "for i in range(4):\n",
    "    v = np.zeros([7,1])\n",
    "    v[i+3] = 1\n",
    "    v[2] = -v[4] - 2*v[6]\n",
    "    v[1] = 5/6*v[2] - 1/3*v[3] - v[4] + 1/2*v[5] + 7/18*v[6]\n",
    "    v[0] = -9/2*v[2] - v[3] - 5/2*v[5] - 3/2*v[6]\n",
    "    base[:,i] = v[:,0]\n",
    "\n",
    "print(base)\n",
    "    "
   ]
  },
  {
   "cell_type": "code",
   "execution_count": 44,
   "metadata": {},
   "outputs": [
    {
     "name": "stdout",
     "output_type": "stream",
     "text": [
      "[[ 0.  0.  0. -0.]\n",
      " [ 0.  0.  0.  0.]\n",
      " [ 0.  0.  0.  0.]]\n"
     ]
    }
   ],
   "source": [
    "# Verificando que os vetores calculados estão no núcleo\n",
    "\n",
    "np.set_printoptions(precision=5,suppress=True)\n",
    "print(np.dot(B,base))"
   ]
  },
  {
   "cell_type": "markdown",
   "metadata": {},
   "source": [
    "### Exercício 7)\n",
    "Sabemos que para toda transformação linear $\\mathbf{X}$, os vetores que pertencem ao espaço linha de $\\mathbf{X}$ são ortogonais aos vetores que estão no espaço nulo de $\\mathbf{X}$.\n",
    "\n",
    "Considerando a propriedade acima, construa uma transformação linear cujo núcleo (espaço nulo) é gerado pelos vetores $\\mathbf{x}_1=[1,1,0,1]$ e $\\mathbf{x}_2=[0,1,0,1]$."
   ]
  },
  {
   "cell_type": "code",
   "execution_count": 47,
   "metadata": {},
   "outputs": [
    {
     "name": "stdout",
     "output_type": "stream",
     "text": [
      "[[ 0.  1.  0. -1.]\n",
      " [ 0.  1. -1. -1.]]\n",
      "[0. 0.]\n"
     ]
    }
   ],
   "source": [
    "x1 = np.array([1,1,0,1])\n",
    "x2 = np.array([0,1,0,1])\n",
    "\n",
    "#tomando y1 e y2 dois vetores do espaço linha da matriz A\n",
    "\n",
    "A = np.zeros((2,4))\n",
    "\n",
    "y1 = np.array([0,1,0,-1])\n",
    "y2 = np.array([0,1,-1,-1])\n",
    "\n",
    "A[:2,:] = np.array([[y1, y2]])\n",
    "print(A)\n",
    "\n",
    "#gerando z combinação linear de x1 e x2\n",
    "a = 1\n",
    "b = 1\n",
    "z = a*x1 + b*x2\n",
    "\n",
    "print(np.dot(A,z))"
   ]
  },
  {
   "cell_type": "markdown",
   "metadata": {},
   "source": [
    "### Exercício 8)\n",
    "Escreva um código para, dada uma base qualquer de um subespaço, encontrar uma base ortonormal para este mesmo subespaço. Teste o seu código para a base dada como colunas da matriz $\\mathbf{V}$ gerada no código abaixo. Verifique que a base obtida é de fato ortonormal."
   ]
  },
  {
   "cell_type": "code",
   "execution_count": 55,
   "metadata": {},
   "outputs": [],
   "source": [
    "# Solução"
   ]
  },
  {
   "cell_type": "markdown",
   "metadata": {},
   "source": [
    "### Exercício 9) \n",
    "Considere o espaço gerado pelos vetores $[1,1,1]$ e $[1,0,1]$. Construa uma base ortogonal para este espaço e encontre a projeção de qualquer ponto de $\\mathbb{R}^3$ sobre plano gerado pelos vetores ortogonais."
   ]
  },
  {
   "cell_type": "code",
   "execution_count": 49,
   "metadata": {},
   "outputs": [
    {
     "name": "stdout",
     "output_type": "stream",
     "text": [
      "[[-0.57735  0.40825]\n",
      " [-0.57735 -0.8165 ]\n",
      " [-0.57735  0.40825]]\n"
     ]
    }
   ],
   "source": [
    "A = np.array([[1,1,1],[1,0,1]]).T\n",
    "\n",
    "Q,R = np.linalg.qr(A) # as colunas de Q são a base ortogonal para o espaço gerado pelas colunas de A\n",
    "print(Q)"
   ]
  }
 ],
 "metadata": {
  "kernelspec": {
   "display_name": "Python 3",
   "language": "python",
   "name": "python3"
  },
  "language_info": {
   "codemirror_mode": {
    "name": "ipython",
    "version": 3
   },
   "file_extension": ".py",
   "mimetype": "text/x-python",
   "name": "python",
   "nbconvert_exporter": "python",
   "pygments_lexer": "ipython3",
   "version": "3.8.8"
  }
 },
 "nbformat": 4,
 "nbformat_minor": 2
}
