{
 "cells": [
  {
   "cell_type": "markdown",
   "metadata": {},
   "source": [
    "# <font color='blue'>MAI5002 - Fundamentos de Matemática Aplicada</font>\n",
    "\n",
    "## <font color='blue'>Ortogonalidade - Solução dos Exercícios </font>\n",
    "\n",
    "### Material produzido por Luis Gustavo Nonato \n",
    "\n",
    "ICMC-USP\n",
    "\n",
    "----"
   ]
  },
  {
   "cell_type": "code",
   "execution_count": 22,
   "metadata": {},
   "outputs": [],
   "source": [
    "import numpy as np\n",
    "import matplotlib.pyplot as plt"
   ]
  },
  {
   "cell_type": "markdown",
   "metadata": {},
   "source": [
    "### Exercício 1)\n",
    "O arquivo `teste_matriz.dat` (disponível para download no repositório) armazena uma matriz com 10 linhas e 7 colunas. Leia a matriz e verifique se as colunas são ortogonais."
   ]
  },
  {
   "cell_type": "code",
   "execution_count": 6,
   "metadata": {},
   "outputs": [
    {
     "name": "stdout",
     "output_type": "stream",
     "text": [
      "[[ 1.  0.  0.  0. -0. -0. -0.]\n",
      " [ 0.  1.  0. -0. -0.  0. -0.]\n",
      " [ 0.  0.  1.  0. -0.  0. -0.]\n",
      " [ 0. -0.  0.  1. -0. -0.  0.]\n",
      " [-0. -0. -0. -0.  1. -0. -0.]\n",
      " [-0.  0.  0. -0. -0.  1.  0.]\n",
      " [-0. -0. -0.  0. -0.  0.  1.]]\n"
     ]
    }
   ],
   "source": [
    "# Solução\n",
    "\n",
    "X = np.loadtxt('teste_matrix.dat') # carregando a matriz\n",
    "\n",
    "# Para verificar se as colunas são ortogonais basta verificar se \n",
    "# o produto escalar entre duas coluns distintas é igual a zero\n",
    "# para isto, basta multiplicarmos X.T por X e verificarmos se\n",
    "# os elementos fora da diagonal são zero\n",
    "\n",
    "np.set_printoptions(precision=4,suppress=True)\n",
    "print(np.dot(X.T,X))\n",
    "\n",
    "# como os elementos fora da diagonal são zero até a quarta casa decimal,\n",
    "# podemos considerar que as colunas são ortogonais"
   ]
  },
  {
   "cell_type": "markdown",
   "metadata": {},
   "source": [
    "### Exercício 2)\n",
    "Construa uma transformação linear que leva vetores de $\\mathbb{R}^5$ para o sub-espaço $\\mathcal{S}$ gerado pelos vetores $[1,1,1]$ e $[0,0,1]$ em $\\mathbb{R}^3$. Verificar que a transformação obtida está realizando o mapeamento corretamente."
   ]
  },
  {
   "cell_type": "code",
   "execution_count": 12,
   "metadata": {},
   "outputs": [
    {
     "name": "stdout",
     "output_type": "stream",
     "text": [
      "[[1. 0. 1. 1. 2.]\n",
      " [1. 0. 1. 1. 2.]\n",
      " [1. 1. 0. 2. 1.]]\n"
     ]
    }
   ],
   "source": [
    "# Lembrando que uma transformação linear leva o espaço linha no espaço coluna\n",
    "# a matriz deve ter dimensão 3x5\n",
    "# Além disso, os vetores [1,1,1] e [0,0,1] devem estar entre as colunas\n",
    "# e as demais colunas devem ser combinações lineares destes vetores\n",
    "\n",
    "# criando a matriz\n",
    "A = np.zeros((3,5))\n",
    "\n",
    "# garantindo os vetores [1,1,1] e [0,0,1] com colunas\n",
    "A[:,:2] = np.array([[1,1,1],[0,0,1]]).T\n",
    "\n",
    "# gerando as demais colunas como cobinação das duas primeiras\n",
    "# os coeficientes da combinação são armazenados na matriz c 2x3 (cada coluna um par de coeficientes)\n",
    "c = np.array([[1,1, 2],[-1,1,-1]])\n",
    "\n",
    "A[:,2:] = np.dot(A[:,:2],c)\n",
    "print(A)"
   ]
  },
  {
   "cell_type": "code",
   "execution_count": 13,
   "metadata": {},
   "outputs": [
    {
     "name": "stdout",
     "output_type": "stream",
     "text": [
      "[[0.]]\n",
      "[[0.]]\n",
      "[[0.]]\n",
      "[[0.]]\n",
      "[[0.]]\n",
      "[[0.]]\n",
      "[[0.]]\n",
      "[[0.]]\n",
      "[[0.]]\n",
      "[[0.]]\n"
     ]
    }
   ],
   "source": [
    "# Um teste simples para verificar que a transformação A está de fato mapeando vetores de R5 para o \n",
    "# plano S gerado por (1,1,1) e (0,0,1) é encontrar um vetor v ortogonal à S e\n",
    "# checar que qualquer vetor mapeado pela transformação é ortogonal à v\n",
    "\n",
    "v = np.cross(A[:,0],A[:,1]).reshape(3,1)  # produto vetorial entre as duas primeiras colunas de A\n",
    "                                          # v é ortogonal a (1,1,1) e (0,0,1), portanto ortogonal a S\n",
    "\n",
    "for i in range(10): \n",
    "  x = np.random.uniform(low=-1,high=1,size=(5,1)) # gerando um vetor randomido em R5\n",
    "  u = np.dot(A,x)         # realizando o mapeamento\n",
    "  print(np.dot(u.T,v))    # verificando ortogonalidade"
   ]
  },
  {
   "cell_type": "markdown",
   "metadata": {},
   "source": [
    "### Exercício 3)\n",
    "Construa uma transformação linear $\\mathbf{A}:\\mathbb{R}^5\\rightarrow\\mathbb{R}^3$ de modo que os vetores $[1,1,0,0,0]$ e $[0,1,0,0,0]$ sejam o complemento ortogonal do espaço linha.\n",
    "Vefique que a transformação encontrada está correta."
   ]
  },
  {
   "cell_type": "code",
   "execution_count": 19,
   "metadata": {},
   "outputs": [
    {
     "name": "stdout",
     "output_type": "stream",
     "text": [
      "[0 0 0]\n",
      "[0 0 0]\n"
     ]
    }
   ],
   "source": [
    "# Solução\n",
    "\n",
    "# Se os vetores [1,1,0,0,0] e [0,1,0,0,0] estão no complemento ortogonal \n",
    "# do espação linha, então eles geram o espaço núcleo.\n",
    "# Como os vetores estão em R5, precisamos encontrar 3 vetores ortogonais \n",
    "# aos vetores dados e que sejam LI para formarmos uma\n",
    "# base para o espaço linha.\n",
    "\n",
    "# Neste caso, tais vetores pondem ser [0,0,1,0,0], [0,0,0,1,0] e [0,0,0,0,1]\n",
    "# Para verificar que a trasformação esta correta, basta checar se ele leva os vetores \n",
    "# do espaço núcleo no vetor nulo em R3.\n",
    "\n",
    "A = np.array([[0,0,1,0,0],\n",
    "              [0,0,0,1,0],\n",
    "              [0,0,0,0,1]])\n",
    "\n",
    "v1 = np.array([1,1,0,0,0])\n",
    "v2 = np.array([0,1,0,0,0])\n",
    "\n",
    "print(np.dot(A,v1))\n",
    "print(np.dot(A,v2))"
   ]
  },
  {
   "cell_type": "markdown",
   "metadata": {},
   "source": [
    "### Exercício 4)\n",
    "Construa uma transformação linear que mapeia o hiperplano $x_1+x_2+x_3+x_4+x_5=0$ para o  espaço $\\mathbb{R}^2$ e visualize o resultado da transformação para alguns pontos gerados sobre o plano."
   ]
  },
  {
   "cell_type": "code",
   "execution_count": 26,
   "metadata": {},
   "outputs": [
    {
     "name": "stdout",
     "output_type": "stream",
     "text": [
      "[0. 0. 0. 0. 0. 0. 0. 0. 0. 0. 0. 0. 0. 0. 0. 0. 0. 0. 0. 0. 0. 0. 0. 0.\n",
      " 0. 0. 0. 0. 0. 0. 0. 0. 0. 0. 0. 0. 0. 0. 0. 0. 0. 0. 0. 0. 0. 0. 0. 0.\n",
      " 0. 0. 0. 0. 0. 0. 0. 0. 0. 0. 0. 0. 0. 0. 0. 0. 0. 0. 0. 0. 0. 0. 0. 0.\n",
      " 0. 0. 0. 0. 0. 0. 0. 0. 0. 0. 0. 0. 0. 0. 0. 0. 0. 0. 0. 0. 0. 0. 0. 0.\n",
      " 0. 0. 0. 0.]\n"
     ]
    }
   ],
   "source": [
    "# Solução\n",
    "\n",
    "# A matriz de transformação deve ter 2x5\n",
    "# Como sabemos,  uma transformação linear mapeia o espaço das linhas para o \n",
    "# espaço das colunas. Se encontrarmos 2 vetores sobre o hiperplano que sejam LI\n",
    "# podemos usar estes pontos como vetores linha da transformação.\n",
    "# Para isto, basta encontrarmos dois pontos que satisfaçam a equação x_1+x_2+x_3+x_4+x_5=0\n",
    "# por exemplo: [1,0,-1,0,0] e [0,-1,0,2,-1]\n",
    "\n",
    "A = np.array([[1,0,-1,0,0],[0,-1,0,2,-1]])\n",
    "\n",
    "# para gerar pontos sobre o plano basta atribuirmos valores para x_1+x_2+x_3+x_4\n",
    "# e calcularmos x_5 = -x_1-x_2-x_3-x_4\n",
    "# vamos gerar 100 pontos sobre o hiperplano e armazena-los como colunas de uma matriz X\n",
    "\n",
    "X = np.random.uniform(-1,1,size=(5,100))\n",
    "X[-1] = -np.sum(X[:-1],axis=0)\n",
    "\n",
    "# verificando que os pontos em X satisfazem a equação do plano\n",
    "print(np.sum(X,axis=0))"
   ]
  },
  {
   "cell_type": "code",
   "execution_count": 27,
   "metadata": {},
   "outputs": [
    {
     "data": {
      "text/plain": [
       "<matplotlib.collections.PathCollection at 0x10f8459e8>"
      ]
     },
     "execution_count": 27,
     "metadata": {},
     "output_type": "execute_result"
    },
    {
     "data": {
      "image/png": "[encoded data removed]",
      "text/plain": [
       "<Figure size 432x288 with 1 Axes>"
      ]
     },
     "metadata": {
      "needs_background": "light"
     },
     "output_type": "display_data"
    }
   ],
   "source": [
    "# para visualizar o resultado da transformação, basta aplicar o transformação A na matrix X\n",
    "# e plotar os pontos gerados\n",
    "\n",
    "M = np.dot(A,X)  # a matrix M contém os pontos em R2 em suas colunas\n",
    "\n",
    "# plotando os eixos \n",
    "plt.plot([-1,1],[0,0],color='k')\n",
    "plt.plot([0,0],[-1,1],color='k')\n",
    "\n",
    "# plotando os pontos\n",
    "plt.scatter(X[0,:],X[1,:])"
   ]
  },
  {
   "cell_type": "markdown",
   "metadata": {},
   "source": [
    "### Exercício 5)\n",
    "No exercício anterior, podemos afirmar que qualquer ponto  (diferente de $[0,0]$) sobre o hiperplano $x_1+x_2+x_3+x_4+x_5=0$ será mapeado para um ponto diferente de $[0,0]$ em $\\mathbb{R}^2$? Em caso afirmativo justifique sua resposta, em caso negativo, dê exemplo de um ponto sobre no hiperplano que é mapeado na origem do espaço $\\mathbb{R}^2$."
   ]
  },
  {
   "cell_type": "markdown",
   "metadata": {},
   "source": [
    "**Solução**\n",
    "O hiperplano $x_1+x_2+x_3+x_4+x_5=0$ corresponde a um subspaço de dimensão 4 em $\\mathbb{R}^5$ (justifique esta afirmação). Portanto, os vetores $\\mathbf{a}_1=[1,0,-1,0,0]$ e $\\mathbf{a}_2=[0,-1,0,2,-1]$ (espaço das linhas da matriz $\\mathbf{A}$) geram um subspaço de dimensão 2 contido no hiperplano.\n",
    "\n",
    "Logo, existem dois vetores no espaço nulo da transformação $\\mathbf{A}$ que estão contidos no hiperplano (justifique esta afirmação). Como são vetores do espaço nulo, serão mapeados para [0,0] pela transformação $\\mathbf{A}$.\n",
    "\n",
    "Para encontrar tais vetores do hiperplano contidos no espaço nulo de $\\mathbf{A}$ temos que resolver o seguinte sistema de equações:\n",
    "\n",
    "$$\n",
    "\\mathbf{x}^\\top\\mathbf{a}_1=0    \\qquad\\mbox{#ortogonalidade com } \\mathbf{a}_1\\\\\n",
    "\\mathbf{x}^\\top\\mathbf{a}_2=0    \\qquad\\mbox{#ortogonalidade com } \\mathbf{a}_2\\\\\n",
    "\\mathbf{x}^\\top\\mathbf{1\\!\\!1}=0 \\qquad\\mbox{#pertence ao hiperplano } \n",
    "$$\n",
    "onde $\\mathbf{1\\!\\!1}=[1,1,1,1,1]$. Ou seja:\n",
    "\n",
    "$$\n",
    "\\begin{matrix}\n",
    "x_1-x_3=0\\\\\n",
    "-x_2+2x_4-x_5=0\\\\\n",
    "x_1+x_2+x_3+x_4+x_5=0\\\\\n",
    "\\end{matrix}\\longrightarrow\n",
    "\\begin{matrix}\n",
    "x_1=x_3=-\\frac{3}{2}x_4\\\\\n",
    "x_2=2x_4-x_5\n",
    "\\end{matrix}\n",
    "$$\n",
    "\n",
    "Atribuindo valores para $x_4=1$, $x_5=0$ e $x_4=0$, $x_5=1$ encontramos dois vetores\n",
    "no hiperplano que estão no espaço nulo da transformação, os quais são:\n",
    "\n",
    "$$\n",
    "y_1 = [-3/2,2,-3/2,1,0]\\quad y_2=[0,-1,0,0,1]\n",
    "$$"
   ]
  },
  {
   "cell_type": "code",
   "execution_count": 33,
   "metadata": {},
   "outputs": [
    {
     "name": "stdout",
     "output_type": "stream",
     "text": [
      "ponto z=a*y1+b*y2 pertence ao plano? True\n",
      "A imagem de z= [-1.5  1.  -1.5  1.   1. ] pela transformação A é [0. 0.]\n"
     ]
    }
   ],
   "source": [
    "# Verificando que os pontos do espaço gerado pelos vetores y1 e y2 estão no hiperplano\n",
    "\n",
    "y1 = np.array([-3/2,2,-3/2,1,0])\n",
    "y2 = np.array([0,-1,0,0,1])\n",
    "\n",
    "# gerando coeficientes para a combinação linear de y1 e y2\n",
    "a = 1\n",
    "b = 1\n",
    "z = a*y1+b*y2\n",
    "\n",
    "# verificando se z está no hiperplano x_1+x_2+x_3+x_4+x_5=0\n",
    "n = np.array([1,1,1,1,1])\n",
    "print('ponto z=a*y1+b*y2 pertence ao plano?',np.abs(np.dot(n.T,z))<1e-5)\n",
    "\n",
    "# mapeando o ponto z via transformação A\n",
    "print('A imagem de z=',z,'pela transformação A é',np.dot(A,z))"
   ]
  },
  {
   "cell_type": "markdown",
   "metadata": {},
   "source": [
    "### Exercício 6) \n",
    "Considere a transformação linear dada pela matriz \n",
    "$$\n",
    "\\left(\\begin{array}{ccccccc}\n",
    "3 & 9 & 6 & 6 & 9 & 3 & 1\\\\\n",
    "2 & 0 & 9 & 2 & 0 & 5 & 3\\\\\n",
    "0 & 0 & 1 & 0 & 1 & 0 & 2\n",
    "\\end{array}\\right)\n",
    "$$\n",
    "\n",
    "a) Qual a dimensão do núcleo da transformação?<br>\n",
    "b) Encontre uma base para o espaço núcleo.<br>\n",
    "c) Verifique que a base encontrada está gerando o  núcleo."
   ]
  },
  {
   "cell_type": "code",
   "execution_count": 14,
   "metadata": {},
   "outputs": [
    {
     "name": "stdout",
     "output_type": "stream",
     "text": [
      "\n",
      "Determinante de\n",
      " [[3 9 6]\n",
      " [2 0 9]\n",
      " [0 0 1]]  =  -17.999999999999996\n",
      "\n",
      "Dimensão do núcleo de\n",
      " [[3 9 6 6 9 3 1]\n",
      " [2 0 9 2 0 5 3]\n",
      " [0 0 1 0 1 0 2]] \n",
      " é 4\n"
     ]
    }
   ],
   "source": [
    "# Solução\n",
    "B = np.asarray([[3, 9, 6, 6, 9, 3, 1],\n",
    "                [2, 0, 9, 2, 0, 5, 3],\n",
    "                [0, 0, 1 , 0, 1, 0, 2]])\n",
    "\n",
    "# Sabemos que dim(nucleo)+dim(imagem)=7 \n",
    "# Como temos três colunas L.I. na matriz B, sabemos que a \n",
    "# dim(imagem)=3, logo, a dim(nucleo)=4. \n",
    "\n",
    "# Para mostrar que dim(imagem)=3, basta verificar\n",
    "# que o determinante da matriz gerada por três vetores coluna é diferente de zero  \n",
    "# Por exemplo, as três primeiras colunas de B\n",
    "# são linearmente independentes, pois o determinante da matriz \n",
    "# gerada por elas é diferente de zero\n",
    "\n",
    "print('\\nDeterminante de\\n',B[:,0:3],' = ',np.linalg.det(B[:,0:3]))\n",
    "\n",
    "print('\\nDimensão do núcleo de\\n',B,'\\n é 4')"
   ]
  },
  {
   "cell_type": "markdown",
   "metadata": {},
   "source": [
    "**Encontrando uma base para o espaço núcleo**\n",
    "\n",
    "Sabemos que o espaço núcleo é ortogonal ao espaço linha, portanto, vetores no espaço núcleo devem satisfazer as equações:\n",
    "$$\n",
    "Bx=0 \\\\\n",
    "\\Downarrow \\\\\n",
    "\\begin{array}{c}\n",
    "3x_1 + 9x_2 + 6x_3 +6x_4 +9x_5 +3x_6 +1x_7 = 0\\\\\n",
    "2x_1 + 0x_2 + 9x_3 +2x_4 +0x_5 +5x_6 +3x_7 = 0\\\\\n",
    "0x_1 + 0x_2 + 1x_3 +0x_4 +1x_5 +0x_6 +2x_7 = 0\n",
    "\\end{array}\n",
    "\\\\\n",
    "\\Downarrow \n",
    "$$\n",
    "Da segunda equação temos:\n",
    "$$\n",
    "x_1=\\frac{-9x_3 -2x_4 -5x_6 -3x_7}{2}\n",
    "$$\n",
    "Substituindo na primeira equação:\n",
    "$$\n",
    "x_2=\\frac{5}{6}x_3 -\\frac{1}{3}x_4 -x_5 +\\frac{1}{2}x_6 +\\frac{7}{18}x_7\n",
    "$$\n",
    "Isolando $x_3$ na terceira equação:\n",
    "$$\n",
    "x_3=-1x_5-2x_7\n",
    "$$\n",
    "Desta forma, temos liberdade para escolhermos $x_4,x_5,x_6,x_7$. Fazendo um deles iguais a 1 e os demais iguais a zero, obtemos uma base."
   ]
  },
  {
   "cell_type": "code",
   "execution_count": 15,
   "metadata": {},
   "outputs": [
    {
     "name": "stdout",
     "output_type": "stream",
     "text": [
      "[[-1.      4.5    -2.5     7.5   ]\n",
      " [-0.3333 -1.8333  0.5    -1.2778]\n",
      " [-0.     -1.     -0.     -2.    ]\n",
      " [ 1.      0.      0.      0.    ]\n",
      " [ 0.      1.      0.      0.    ]\n",
      " [ 0.      0.      1.      0.    ]\n",
      " [ 0.      0.      0.      1.    ]]\n"
     ]
    }
   ],
   "source": [
    "base=np.zeros((7,4))\n",
    "for i in range(4):\n",
    "  v = np.zeros((7,1))\n",
    "  v[i+3]=1\n",
    "  v[2] = -v[4]-2*v[6]\n",
    "  v[1] = 5/6*v[2]-1/3*v[3]-v[4]+1/2*v[5]+7/18*v[6]\n",
    "  v[0] = -9/2*v[2]-v[3]-5/2*v[5]-3/2*v[6]\n",
    "  base[:,i] = v[:,0]\n",
    "\n",
    "print(base)"
   ]
  },
  {
   "cell_type": "code",
   "execution_count": 17,
   "metadata": {},
   "outputs": [
    {
     "name": "stdout",
     "output_type": "stream",
     "text": [
      "[[ 0. -0.  0. -0.]\n",
      " [ 0.  0.  0.  0.]\n",
      " [ 0.  0.  0.  0.]]\n"
     ]
    }
   ],
   "source": [
    "# Verificando que os vetores calculados estão no núcleo\n",
    "\n",
    "np.set_printoptions(precision=5,suppress=True)\n",
    "print(np.dot(B,base))"
   ]
  },
  {
   "cell_type": "markdown",
   "metadata": {},
   "source": [
    "### Exercício 7)\n",
    "Sabemos que para toda transformação linear $\\mathbf{X}$, os vetores que pertencem ao espaço linha de $\\mathbf{X}$ são ortogonais aos vetores que estão no espaço nulo de $\\mathbf{X}$.\n",
    "\n",
    "Considerando a propriedade acima, construa uma transformação linear cujo núcleo (espaço nulo) é gerado pelos vetores $\\mathbf{x}_1=[1,1,0,1]$ e $\\mathbf{x}_2=[0,1,0,1]$."
   ]
  },
  {
   "cell_type": "markdown",
   "metadata": {},
   "source": [
    "**Solução**\n",
    "O espaço nulo é um subespaço de $\\mathbb{R}^4$ com dimensão 2, pois é gerado por dois vetores $\\mathbf{x}_1$ e $\\mathbf{x}_2$. Portanto, a dimensão do espaço linha também 2 (consequência do teorema do núcleo e da imagem). Ou seja, a matrix procurada terá 2 linhas e 4 colunas.\n",
    "\n",
    "Para encontrar os dois vetores dos espaço linha utilizamos o resultado descrito noo exercício, ou seja, devemos encontrar dois vetores ortogonais a $\\mathbf{x}_1$ e $\\mathbf{x}_2$. Chamando os vetores procurados de $\\mathbf{y}_1=[y_{11},y_{12},y_{13},y_{14}]$ e $\\mathbf{y}_2=[y_{21},y_{22},y_{23},y_{24}]$, temos que:\n",
    "\n",
    "$$\n",
    "<\\mathbf{y}_1,\\mathbf{x}_1> = 0 \\quad\n",
    "<\\mathbf{y}_1,\\mathbf{x}_2> = 0 \\quad\n",
    "<\\mathbf{y}_2,\\mathbf{x}_1> = 0 \\quad\n",
    "<\\mathbf{y}_2,\\mathbf{x}_2> = 0\n",
    "$$\n",
    "\n",
    "Gerando o sistema de equações:\n",
    "\n",
    "$$\n",
    "\\begin{matrix}\n",
    "y_{11}+y_{12}+y_{14}=0\\\\\n",
    "y_{12}+y_{14}=0\\\\\n",
    "y_{21}+y_{22}+y_{24}=0\\\\\n",
    "y_{22}+y_{24}=0\n",
    "\\end{matrix}\n",
    "$$\n",
    "\n",
    "Temos 4 equações e 8 incógnitas, portanto podemos atribuir 4 valores para 4 variáveis e determinarmos o restante. Fazendo: $y_{13}=0,y_{14}=1,y_{23}=1,y_{24}=1$ temos a solução:\n",
    "\n",
    "$$\n",
    "\\mathbf{y}_1=[0,-1,0,1]\\\\\n",
    "\\mathbf{y}_2=[0,-1,1,1]\n",
    "$$\n",
    "\n",
    "Logo a matrix procurada é:\n",
    "$$\n",
    "\\begin{bmatrix}\n",
    "0 & -1 & 0 & 1\\\\\n",
    "0 & -1 & 1 & 1\\\\\n",
    "\\end{bmatrix}\n",
    "$$"
   ]
  },
  {
   "cell_type": "code",
   "execution_count": 7,
   "metadata": {},
   "outputs": [
    {
     "name": "stdout",
     "output_type": "stream",
     "text": [
      "[0 0]\n"
     ]
    }
   ],
   "source": [
    "#verificando a corretude da solucao\n",
    "\n",
    "A = np.array([[0,-1,0,1],[0,-1,1,1]])\n",
    "\n",
    "# tomando um vetor no espaço nulo\n",
    "vn1 = np.array([1,1,0,1])\n",
    "vn2 = np.array([0,1,0,1])\n",
    "a = 1\n",
    "b = 2\n",
    "xn = a*vn1+b*vn2\n",
    "\n",
    "# aplicando a transformação no vetor que pertence ao espaço nulo\n",
    "print(np.dot(A,xn))"
   ]
  },
  {
   "cell_type": "markdown",
   "metadata": {},
   "source": [
    "### Exercício 8)\n",
    "Escreva um código para, dada uma base qualquer de um subespaço, encontrar uma base ortonormal para este mesmo subespaço. Teste o seu código para a base dada como colunas da matriz $\\mathbf{V}$ gerada no código abaixo. Verifique que a base obtida é de fato ortonormal."
   ]
  },
  {
   "cell_type": "code",
   "execution_count": 1,
   "metadata": {},
   "outputs": [
    {
     "name": "stdout",
     "output_type": "stream",
     "text": [
      "[[17  7 10  0 16 14 13 14  0  0]\n",
      " [15  6 17  5  3 11 15 19  9  9]\n",
      " [ 9 12 19 13  8  8  9 12 17 17]\n",
      " [16  5 19  6  0 17  7 16 10  7]\n",
      " [ 0  4 14  9  1 19 17  3  1  9]\n",
      " [ 9  2 18 11 10 13  0 19  2  1]\n",
      " [12  1 14  4 11 16 10 17 14  9]\n",
      " [18 12 10 19 13 17  9  1  7  9]\n",
      " [ 2 18  1  7 17  4  8 12  5 12]\n",
      " [ 4  0 16  0 10  8 13  5 10 19]\n",
      " [ 5  3  8 14 12 11  8  0 14 12]\n",
      " [ 3 17  6  6 15 13  8 13  1 12]\n",
      " [ 6  8 10 16  7  7 11 15  8 11]\n",
      " [ 2 15  0 10  8 12  9  0  1 16]\n",
      " [ 1 15 18  7  3 15 11 14  2 15]\n",
      " [ 0 10 12 18 17 18  0  3  1  9]\n",
      " [19  9  1 19 13  9  7 19 12  4]\n",
      " [ 7 16  6 17 18 15  1 14  8  0]\n",
      " [ 6 13  3 13  3  9  5 18 16 10]\n",
      " [10 19  4 13 11  0  1  4 19 17]]\n"
     ]
    }
   ],
   "source": [
    "import numpy as np\n",
    "\n",
    "V = np.random.randint(0,20,size=(20,10))\n",
    "print(V)"
   ]
  },
  {
   "cell_type": "code",
   "execution_count": 35,
   "metadata": {},
   "outputs": [],
   "source": [
    "def gram_schmidt(x):\n",
    "    q = np.zeros(x.shape)  # matriz cujas colunas são os elementos da base ortonormal\n",
    "    \n",
    "    q[:,0] = x[:,0]/np.linalg.norm(x[:,0]) # primeiro elemento da base\n",
    "    for i in range(1,x.shape[1]):  # indice das colunas da base x\n",
    "        coefs = np.array([np.dot(x[:,i].T,q[:,j]) for j in range(i)]).reshape(-1,1) # gera os coeficiente <x_i.T,q_j>\n",
    "                                                                                    # e guarda em um vetor coluna\n",
    "        q[:,i:i+1] = x[:,i:i+1] - np.dot(q[:,:i],coefs)\n",
    "        q[:,i] = q[:,i]/np.linalg.norm(q[:,i])\n",
    "        \n",
    "    return(q)"
   ]
  },
  {
   "cell_type": "code",
   "execution_count": 39,
   "metadata": {},
   "outputs": [
    {
     "name": "stdout",
     "output_type": "stream",
     "text": [
      "[[ 1.  0.  0.  0.  0.  0.  0.  0.  0. -0.]\n",
      " [ 0.  1. -0.  0. -0. -0.  0.  0. -0. -0.]\n",
      " [ 0. -0.  1.  0.  0. -0.  0.  0. -0. -0.]\n",
      " [ 0.  0.  0.  1.  0.  0. -0.  0.  0. -0.]\n",
      " [ 0. -0.  0.  0.  1.  0. -0. -0.  0.  0.]\n",
      " [ 0. -0. -0.  0.  0.  1. -0. -0. -0.  0.]\n",
      " [ 0.  0.  0. -0. -0. -0.  1. -0.  0. -0.]\n",
      " [ 0.  0.  0.  0. -0. -0. -0.  1. -0.  0.]\n",
      " [ 0. -0. -0.  0.  0. -0.  0. -0.  1. -0.]\n",
      " [-0. -0. -0. -0.  0.  0. -0.  0. -0.  1.]]\n"
     ]
    }
   ],
   "source": [
    "Q = gram_schmidt(V)\n",
    "\n",
    "np.set_printoptions(precision=2,suppress=True)\n",
    "\n",
    "# para verificar a corretude basta checar se a matriz np.dot(Q.T,Q) é a identidade\n",
    "print(np.dot(Q.T,Q))\n"
   ]
  },
  {
   "cell_type": "markdown",
   "metadata": {},
   "source": [
    "### Exercício 9) \n",
    "Considere o espaço gerado pelos vetores $[1,1,1]$ e $[1,0,1]$. Construa uma base ortogonal para este espaço e encontre a projeção de qualquer ponto de $\\mathbb{R}^3$ sobre plano gerado pelos vetores ortogonais."
   ]
  },
  {
   "cell_type": "code",
   "execution_count": 1,
   "metadata": {},
   "outputs": [
    {
     "name": "stdout",
     "output_type": "stream",
     "text": [
      "A projeção é: [ 0.52428485 -0.26454486  0.52428485]\n"
     ]
    }
   ],
   "source": [
    "import numpy as np\n",
    "\n",
    "A = np.array([[1,1,1],[1,0,1]]).T\n",
    "\n",
    "Q,R = np.linalg.qr(A) # as colunas de Q são a base ortogonal para o espaço gerado pelas colunas de A\n",
    "\n",
    "# Calculando a projeção\n",
    "# A projecao de um ponto x qualquer no espaço é \n",
    "# dada por dot(x.T,Q[:,0])*Q[:,0]+dot(x.T,Q[:,1])*Q[:,1]\n",
    "\n",
    "x = np.random.uniform(-1,1,size=(3,1))\n",
    "\n",
    "print('A projeção é:',np.dot(x.T,Q[:,0])*Q[:,0]+np.dot(x.T,Q[:,1])*Q[:,1])"
   ]
  }
 ],
 "metadata": {
  "kernelspec": {
   "display_name": "Python 3",
   "language": "python",
   "name": "python3"
  },
  "language_info": {
   "codemirror_mode": {
    "name": "ipython",
    "version": 3
   },
   "file_extension": ".py",
   "mimetype": "text/x-python",
   "name": "python",
   "nbconvert_exporter": "python",
   "pygments_lexer": "ipython3",
   "version": "3.7.1"
  }
 },
 "nbformat": 4,
 "nbformat_minor": 2
}
